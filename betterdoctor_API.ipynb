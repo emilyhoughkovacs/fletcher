{
 "cells": [
  {
   "cell_type": "code",
   "execution_count": 1,
   "metadata": {
    "collapsed": false
   },
   "outputs": [],
   "source": [
    "import requests"
   ]
  },
  {
   "cell_type": "code",
   "execution_count": 2,
   "metadata": {
    "collapsed": false
   },
   "outputs": [],
   "source": [
    "user_key = \"user_key=75c23342cd05efbe3ba05cce38017432\""
   ]
  },
  {
   "cell_type": "code",
   "execution_count": 110,
   "metadata": {
    "collapsed": true
   },
   "outputs": [],
   "source": [
    "chm_user_key = \"user_key=6c05f1c782eb0a2c70a1c220b3f7a6e2\""
   ]
  },
  {
   "cell_type": "code",
   "execution_count": 111,
   "metadata": {
    "collapsed": true
   },
   "outputs": [],
   "source": [
    "response = requests.get(\"https://api.betterdoctor.com/2015-09-22/specialties?\" + chm_user_key)\n",
    "specialties = response.json()"
   ]
  },
  {
   "cell_type": "code",
   "execution_count": 112,
   "metadata": {
    "collapsed": false
   },
   "outputs": [
    {
     "data": {
      "text/plain": [
       "u'Acupuncturist'"
      ]
     },
     "execution_count": 112,
     "metadata": {},
     "output_type": "execute_result"
    }
   ],
   "source": [
    "specialties['data'][0]['actor']"
   ]
  },
  {
   "cell_type": "code",
   "execution_count": 113,
   "metadata": {
    "collapsed": false
   },
   "outputs": [],
   "source": [
    "psychuid = [speciality['uid'] for speciality in specialties['data'] if \\\n",
    "            ('psych' in speciality['uid'] or 'mental' in speciality['uid'])]"
   ]
  },
  {
   "cell_type": "code",
   "execution_count": 114,
   "metadata": {
    "collapsed": true
   },
   "outputs": [],
   "source": [
    "response = requests.get(\"https://api.betterdoctor.com/2015-09-22/doctors?specialty_uid=psychiatrist\" + \\\n",
    "                        \"&location=40.744%2C-73.985%2C10&user_location=40.744%2C-73.985&sort=last-name-asc\" + \\\n",
    "                        \"&skip=0&limit=100&\" + chm_user_key)\n",
    "docs = response.json()"
   ]
  },
  {
   "cell_type": "code",
   "execution_count": 116,
   "metadata": {
    "collapsed": false
   },
   "outputs": [],
   "source": [
    "# docs['data'][0]['profile']['bio'].replace('\\n', ' ')"
   ]
  },
  {
   "cell_type": "code",
   "execution_count": 117,
   "metadata": {
    "collapsed": true
   },
   "outputs": [],
   "source": [
    "specialty_uid = psychuid[0]\n",
    "skip = 0"
   ]
  },
  {
   "cell_type": "code",
   "execution_count": 118,
   "metadata": {
    "collapsed": false
   },
   "outputs": [],
   "source": [
    "get_docs = str(\"https://api.betterdoctor.com/2015-09-22/doctors?specialty_uid=\" + specialty_uid + \\\n",
    "            \"&location=40.744%2C-73.985%2C10&user_location=40.744%2C-73.985&sort=last-name-asc&skip=\" + \\\n",
    "            str(skip) + \"&limit=100&\" + chm_user_key)"
   ]
  },
  {
   "cell_type": "code",
   "execution_count": 119,
   "metadata": {
    "collapsed": false
   },
   "outputs": [
    {
     "data": {
      "text/plain": [
       "'https://api.betterdoctor.com/2015-09-22/doctors?specialty_uid=addiction-psychiatrist&location=40.744%2C-73.985%2C10&user_location=40.744%2C-73.985&sort=last-name-asc&skip=0&limit=100&user_key=6c05f1c782eb0a2c70a1c220b3f7a6e2'"
      ]
     },
     "execution_count": 119,
     "metadata": {},
     "output_type": "execute_result"
    }
   ],
   "source": [
    "get_docs"
   ]
  },
  {
   "cell_type": "code",
   "execution_count": 120,
   "metadata": {
    "collapsed": true
   },
   "outputs": [],
   "source": [
    "from collections import defaultdict"
   ]
  },
  {
   "cell_type": "code",
   "execution_count": 121,
   "metadata": {
    "collapsed": true
   },
   "outputs": [],
   "source": [
    "queries = defaultdict(list)"
   ]
  },
  {
   "cell_type": "code",
   "execution_count": 143,
   "metadata": {
    "collapsed": false
   },
   "outputs": [],
   "source": [
    "psych = []\n",
    "for i in range(1000, 1700, 100):\n",
    "    myquery = str(\"https://api.betterdoctor.com/2015-09-22/doctors?specialty_uid=psychiatrist\"  + \\\n",
    "            \"&location=40.744%2C-73.985%2C10&user_location=40.744%2C-73.985&sort=last-name-asc&skip=\" + \\\n",
    "            str(i) + \"&limit=100&\" + chm_user_key)\n",
    "    psych.append(myquery)"
   ]
  },
  {
   "cell_type": "code",
   "execution_count": 144,
   "metadata": {
    "collapsed": false
   },
   "outputs": [
    {
     "data": {
      "text/plain": [
       "['https://api.betterdoctor.com/2015-09-22/doctors?specialty_uid=psychiatrist&location=40.744%2C-73.985%2C10&user_location=40.744%2C-73.985&sort=last-name-asc&skip=1000&limit=100&user_key=6c05f1c782eb0a2c70a1c220b3f7a6e2',\n",
       " 'https://api.betterdoctor.com/2015-09-22/doctors?specialty_uid=psychiatrist&location=40.744%2C-73.985%2C10&user_location=40.744%2C-73.985&sort=last-name-asc&skip=1100&limit=100&user_key=6c05f1c782eb0a2c70a1c220b3f7a6e2',\n",
       " 'https://api.betterdoctor.com/2015-09-22/doctors?specialty_uid=psychiatrist&location=40.744%2C-73.985%2C10&user_location=40.744%2C-73.985&sort=last-name-asc&skip=1200&limit=100&user_key=6c05f1c782eb0a2c70a1c220b3f7a6e2',\n",
       " 'https://api.betterdoctor.com/2015-09-22/doctors?specialty_uid=psychiatrist&location=40.744%2C-73.985%2C10&user_location=40.744%2C-73.985&sort=last-name-asc&skip=1300&limit=100&user_key=6c05f1c782eb0a2c70a1c220b3f7a6e2',\n",
       " 'https://api.betterdoctor.com/2015-09-22/doctors?specialty_uid=psychiatrist&location=40.744%2C-73.985%2C10&user_location=40.744%2C-73.985&sort=last-name-asc&skip=1400&limit=100&user_key=6c05f1c782eb0a2c70a1c220b3f7a6e2',\n",
       " 'https://api.betterdoctor.com/2015-09-22/doctors?specialty_uid=psychiatrist&location=40.744%2C-73.985%2C10&user_location=40.744%2C-73.985&sort=last-name-asc&skip=1500&limit=100&user_key=6c05f1c782eb0a2c70a1c220b3f7a6e2',\n",
       " 'https://api.betterdoctor.com/2015-09-22/doctors?specialty_uid=psychiatrist&location=40.744%2C-73.985%2C10&user_location=40.744%2C-73.985&sort=last-name-asc&skip=1600&limit=100&user_key=6c05f1c782eb0a2c70a1c220b3f7a6e2']"
      ]
     },
     "execution_count": 144,
     "metadata": {},
     "output_type": "execute_result"
    }
   ],
   "source": [
    "psych"
   ]
  },
  {
   "cell_type": "code",
   "execution_count": 151,
   "metadata": {
    "collapsed": false
   },
   "outputs": [
    {
     "name": "stdout",
     "output_type": "stream",
     "text": [
      "0\n",
      "1\n",
      "2\n",
      "3\n",
      "4\n",
      "5\n"
     ]
    }
   ],
   "source": [
    "for i in range(len(psych)-1):\n",
    "    print i"
   ]
  },
  {
   "cell_type": "code",
   "execution_count": 152,
   "metadata": {
    "collapsed": false
   },
   "outputs": [
    {
     "name": "stdout",
     "output_type": "stream",
     "text": [
      "called 1\n",
      "called 2\n",
      "called 3\n",
      "called 4\n",
      "called 5\n"
     ]
    }
   ],
   "source": [
    "# i=0\n",
    "for i in range(1, len(psych)-1):\n",
    "    response = requests.get(psych[i])\n",
    "    print \"called \" + str(i)\n",
    "    doclist = response.json()\n",
    "    try:\n",
    "        drs.insert_many(doclist['data'])\n",
    "    except TypeError:\n",
    "        continue\n",
    "    time.sleep(7)"
   ]
  },
  {
   "cell_type": "code",
   "execution_count": 157,
   "metadata": {
    "collapsed": false
   },
   "outputs": [
    {
     "data": {
      "text/plain": [
       "7"
      ]
     },
     "execution_count": 157,
     "metadata": {},
     "output_type": "execute_result"
    }
   ],
   "source": [
    "len(psych)"
   ]
  },
  {
   "cell_type": "code",
   "execution_count": 159,
   "metadata": {
    "collapsed": false
   },
   "outputs": [
    {
     "name": "stdout",
     "output_type": "stream",
     "text": [
      "called 5\n"
     ]
    }
   ],
   "source": [
    "response = requests.get(psych[6])\n",
    "print \"called \" + str(i)\n",
    "doclist = response.json()\n",
    "try:\n",
    "    drs.insert_many(doclist['data'])\n",
    "except TypeError:\n",
    "    pass"
   ]
  },
  {
   "cell_type": "code",
   "execution_count": 122,
   "metadata": {
    "collapsed": false
   },
   "outputs": [],
   "source": [
    "for s in psychuid:\n",
    "    for i in range(0, 1000, 100):\n",
    "        myquery = str(\"https://api.betterdoctor.com/2015-09-22/doctors?specialty_uid=\" + s + \\\n",
    "            \"&location=40.744%2C-73.985%2C10&user_location=40.744%2C-73.985&sort=last-name-asc&skip=\" + \\\n",
    "            str(i) + \"&limit=100&\" + chm_user_key)\n",
    "        queries[s].append(myquery)"
   ]
  },
  {
   "cell_type": "code",
   "execution_count": 123,
   "metadata": {
    "collapsed": false
   },
   "outputs": [
    {
     "data": {
      "text/plain": [
       "42"
      ]
     },
     "execution_count": 123,
     "metadata": {},
     "output_type": "execute_result"
    }
   ],
   "source": [
    "len(queries)"
   ]
  },
  {
   "cell_type": "code",
   "execution_count": 20,
   "metadata": {
    "collapsed": true
   },
   "outputs": [],
   "source": [
    "from pymongo import MongoClient"
   ]
  },
  {
   "cell_type": "code",
   "execution_count": 21,
   "metadata": {
    "collapsed": true
   },
   "outputs": [],
   "source": [
    "client = MongoClient()\n",
    "db = client.docinfo\n",
    "spec = db.specialties"
   ]
  },
  {
   "cell_type": "code",
   "execution_count": 60,
   "metadata": {
    "collapsed": false
   },
   "outputs": [
    {
     "name": "stderr",
     "output_type": "stream",
     "text": [
      "/Users/emilyhoughkovacs/anaconda/lib/python2.7/site-packages/ipykernel/__main__.py:2: DeprecationWarning: insert is deprecated. Use insert_one or insert_many instead.\n",
      "  from ipykernel import kernelapp as app\n"
     ]
    }
   ],
   "source": [
    "# for s in specialities['data']:\n",
    "#     spec.insert(s)"
   ]
  },
  {
   "cell_type": "code",
   "execution_count": 61,
   "metadata": {
    "collapsed": false
   },
   "outputs": [
    {
     "data": {
      "text/plain": [
       "392"
      ]
     },
     "execution_count": 61,
     "metadata": {},
     "output_type": "execute_result"
    }
   ],
   "source": [
    "# spec.count()"
   ]
  },
  {
   "cell_type": "code",
   "execution_count": 23,
   "metadata": {
    "collapsed": true
   },
   "outputs": [],
   "source": [
    "drs = db.doctors"
   ]
  },
  {
   "cell_type": "code",
   "execution_count": 77,
   "metadata": {
    "collapsed": true
   },
   "outputs": [],
   "source": [
    "drsold = db.doctors_old"
   ]
  },
  {
   "cell_type": "code",
   "execution_count": 25,
   "metadata": {
    "collapsed": true
   },
   "outputs": [],
   "source": [
    "response = requests.get(queries[0])\n",
    "doclist = response.json()"
   ]
  },
  {
   "cell_type": "code",
   "execution_count": 28,
   "metadata": {
    "collapsed": false
   },
   "outputs": [
    {
     "data": {
      "text/plain": [
       "81"
      ]
     },
     "execution_count": 28,
     "metadata": {},
     "output_type": "execute_result"
    }
   ],
   "source": [
    "len(doclist['data'])"
   ]
  },
  {
   "cell_type": "code",
   "execution_count": 46,
   "metadata": {
    "collapsed": false
   },
   "outputs": [],
   "source": [
    "response = requests.get('https://api.betterdoctor.com/2015-09-22/doctors?specialty_uid=addiction-psychiatrist&location=40.744%2C-73.985%2C10&user_location=40.744%2C-73.985&sort=last-name-asc&skip=100&limit=100&user_key=75c23342cd05efbe3ba05cce38017432')\n",
    "doclist2 = response.json()"
   ]
  },
  {
   "cell_type": "code",
   "execution_count": 47,
   "metadata": {
    "collapsed": false
   },
   "outputs": [
    {
     "data": {
      "text/plain": [
       "2"
      ]
     },
     "execution_count": 47,
     "metadata": {},
     "output_type": "execute_result"
    }
   ],
   "source": [
    "len(doclist2)"
   ]
  },
  {
   "cell_type": "code",
   "execution_count": 48,
   "metadata": {
    "collapsed": true
   },
   "outputs": [],
   "source": [
    "response = requests.get('https://api.betterdoctor.com/2015-09-22/doctors?specialty_uid=addiction-psychiatrist&location=40.744%2C-73.985%2C10&user_location=40.744%2C-73.985&sort=last-name-asc&skip=200&limit=100&user_key=75c23342cd05efbe3ba05cce38017432')\n",
    "doclist3 = response.json()"
   ]
  },
  {
   "cell_type": "code",
   "execution_count": 59,
   "metadata": {
    "collapsed": false
   },
   "outputs": [
    {
     "data": {
      "text/plain": [
       "{u'count': 0,\n",
       " u'data_type': u'array',\n",
       " u'item_type': u'Doctor',\n",
       " u'limit': 100,\n",
       " u'skip': 100,\n",
       " u'total': 81}"
      ]
     },
     "execution_count": 59,
     "metadata": {},
     "output_type": "execute_result"
    }
   ],
   "source": [
    "doclist2['meta']"
   ]
  },
  {
   "cell_type": "code",
   "execution_count": 75,
   "metadata": {
    "collapsed": false,
    "scrolled": true
   },
   "outputs": [
    {
     "data": {
      "text/plain": [
       "False"
      ]
     },
     "execution_count": 75,
     "metadata": {},
     "output_type": "execute_result"
    }
   ],
   "source": [
    "doclist['meta']['skip']+100 < doclist['meta']['total']"
   ]
  },
  {
   "cell_type": "code",
   "execution_count": 68,
   "metadata": {
    "collapsed": false
   },
   "outputs": [
    {
     "data": {
      "text/plain": [
       "9"
      ]
     },
     "execution_count": 68,
     "metadata": {},
     "output_type": "execute_result"
    }
   ],
   "source": [
    "len(queries['addiction-psychiatrist'][1:])"
   ]
  },
  {
   "cell_type": "code",
   "execution_count": 69,
   "metadata": {
    "collapsed": true
   },
   "outputs": [],
   "source": [
    "import time"
   ]
  },
  {
   "cell_type": "code",
   "execution_count": 73,
   "metadata": {
    "collapsed": false
   },
   "outputs": [
    {
     "data": {
      "text/plain": [
       "100"
      ]
     },
     "execution_count": 73,
     "metadata": {},
     "output_type": "execute_result"
    }
   ],
   "source": [
    "doclist['meta']['skip']+100"
   ]
  },
  {
   "cell_type": "code",
   "execution_count": 74,
   "metadata": {
    "collapsed": false
   },
   "outputs": [
    {
     "data": {
      "text/plain": [
       "81"
      ]
     },
     "execution_count": 74,
     "metadata": {},
     "output_type": "execute_result"
    }
   ],
   "source": [
    "doclist['meta']['total']"
   ]
  },
  {
   "cell_type": "code",
   "execution_count": 101,
   "metadata": {
    "collapsed": false
   },
   "outputs": [
    {
     "data": {
      "text/plain": [
       "u'mental-retardation-psychologists'"
      ]
     },
     "execution_count": 101,
     "metadata": {},
     "output_type": "execute_result"
    }
   ],
   "source": [
    "q"
   ]
  },
  {
   "cell_type": "code",
   "execution_count": 100,
   "metadata": {
    "collapsed": false
   },
   "outputs": [
    {
     "data": {
      "text/plain": [
       "{u'data': [],\n",
       " u'meta': {u'count': 0,\n",
       "  u'data_type': u'array',\n",
       "  u'item_type': u'Doctor',\n",
       "  u'limit': 100,\n",
       "  u'skip': 0,\n",
       "  u'total': 0}}"
      ]
     },
     "execution_count": 100,
     "metadata": {},
     "output_type": "execute_result"
    }
   ],
   "source": [
    "doclist"
   ]
  },
  {
   "cell_type": "code",
   "execution_count": 125,
   "metadata": {
    "collapsed": true
   },
   "outputs": [],
   "source": [
    "del queries['mental-retardation-psychologists']"
   ]
  },
  {
   "cell_type": "code",
   "execution_count": 124,
   "metadata": {
    "collapsed": true
   },
   "outputs": [],
   "source": [
    "del queries['psychiatry-neurology-behavioral-neurology-neuropsychiatry']\n",
    "del queries['psychiatry-neurology-psychosomatic-medicine']\n",
    "del queries['psychiatry-neurology-addiction-medicine']\n",
    "del queries['mental-health-counselor']\n",
    "del queries['psychiatry-neurology-hospice-and-palliative-medicine']"
   ]
  },
  {
   "cell_type": "code",
   "execution_count": 126,
   "metadata": {
    "collapsed": true
   },
   "outputs": [],
   "source": [
    "del queries['psychoanalyst']\n",
    "del queries['mental-health-nurse-practitioner']\n",
    "del queries['family-psychologist']\n",
    "del queries['psychiatry-neurology-neuromuscular-medicine']\n",
    "del queries['developmental-behavioral-pediatrician']\n",
    "del queries['rehabilitation-psychologist']\n",
    "del queries['neurodevelopmental-disability-pediatrician']"
   ]
  },
  {
   "cell_type": "code",
   "execution_count": 127,
   "metadata": {
    "collapsed": false
   },
   "outputs": [
    {
     "data": {
      "text/plain": [
       "29"
      ]
     },
     "execution_count": 127,
     "metadata": {},
     "output_type": "execute_result"
    }
   ],
   "source": [
    "len(queries)"
   ]
  },
  {
   "cell_type": "code",
   "execution_count": 106,
   "metadata": {
    "collapsed": false
   },
   "outputs": [
    {
     "data": {
      "text/plain": [
       "0"
      ]
     },
     "execution_count": 106,
     "metadata": {},
     "output_type": "execute_result"
    }
   ],
   "source": [
    "i"
   ]
  },
  {
   "cell_type": "code",
   "execution_count": 131,
   "metadata": {
    "collapsed": false
   },
   "outputs": [
    {
     "data": {
      "text/plain": [
       "7"
      ]
     },
     "execution_count": 131,
     "metadata": {},
     "output_type": "execute_result"
    }
   ],
   "source": [
    "i"
   ]
  },
  {
   "cell_type": "code",
   "execution_count": 130,
   "metadata": {
    "collapsed": false,
    "scrolled": true
   },
   "outputs": [
    {
     "data": {
      "text/plain": [
       "u'psychiatrist'"
      ]
     },
     "execution_count": 130,
     "metadata": {},
     "output_type": "execute_result"
    }
   ],
   "source": [
    "q"
   ]
  },
  {
   "cell_type": "code",
   "execution_count": 132,
   "metadata": {
    "collapsed": false
   },
   "outputs": [
    {
     "data": {
      "text/plain": [
       "1609"
      ]
     },
     "execution_count": 132,
     "metadata": {},
     "output_type": "execute_result"
    }
   ],
   "source": [
    "#total for 'psychiatrist'\n",
    "total"
   ]
  },
  {
   "cell_type": "code",
   "execution_count": 133,
   "metadata": {
    "collapsed": false
   },
   "outputs": [
    {
     "data": {
      "text/plain": [
       "800"
      ]
     },
     "execution_count": 133,
     "metadata": {},
     "output_type": "execute_result"
    }
   ],
   "source": [
    "doclist['meta']['skip']+100"
   ]
  },
  {
   "cell_type": "code",
   "execution_count": 138,
   "metadata": {
    "collapsed": false
   },
   "outputs": [
    {
     "data": {
      "text/plain": [
       "True"
      ]
     },
     "execution_count": 138,
     "metadata": {},
     "output_type": "execute_result"
    }
   ],
   "source": [
    "9<10"
   ]
  },
  {
   "cell_type": "code",
   "execution_count": 134,
   "metadata": {
    "collapsed": false
   },
   "outputs": [
    {
     "name": "stdout",
     "output_type": "stream",
     "text": [
      "called, psychiatrist, 8\n",
      "called, psychiatrist, 9\n"
     ]
    },
    {
     "ename": "IndexError",
     "evalue": "list index out of range",
     "output_type": "error",
     "traceback": [
      "\u001b[0;31m---------------------------------------------------------------------------\u001b[0m",
      "\u001b[0;31mIndexError\u001b[0m                                Traceback (most recent call last)",
      "\u001b[0;32m<ipython-input-134-6aa5ce61985b>\u001b[0m in \u001b[0;36m<module>\u001b[0;34m()\u001b[0m\n\u001b[1;32m      1\u001b[0m \u001b[0;32mwhile\u001b[0m \u001b[0mdoclist\u001b[0m\u001b[0;34m[\u001b[0m\u001b[0;34m'meta'\u001b[0m\u001b[0;34m]\u001b[0m\u001b[0;34m[\u001b[0m\u001b[0;34m'skip'\u001b[0m\u001b[0;34m]\u001b[0m\u001b[0;34m+\u001b[0m\u001b[0;36m100\u001b[0m \u001b[0;34m<\u001b[0m \u001b[0mtotal\u001b[0m\u001b[0;34m:\u001b[0m\u001b[0;34m\u001b[0m\u001b[0m\n\u001b[1;32m      2\u001b[0m     \u001b[0mi\u001b[0m \u001b[0;34m+=\u001b[0m \u001b[0;36m1\u001b[0m\u001b[0;34m\u001b[0m\u001b[0m\n\u001b[0;32m----> 3\u001b[0;31m     \u001b[0mresponse\u001b[0m \u001b[0;34m=\u001b[0m \u001b[0mrequests\u001b[0m\u001b[0;34m.\u001b[0m\u001b[0mget\u001b[0m\u001b[0;34m(\u001b[0m\u001b[0mqueries\u001b[0m\u001b[0;34m[\u001b[0m\u001b[0;34m'psychiatrist'\u001b[0m\u001b[0;34m]\u001b[0m\u001b[0;34m[\u001b[0m\u001b[0mi\u001b[0m\u001b[0;34m]\u001b[0m\u001b[0;34m)\u001b[0m\u001b[0;34m\u001b[0m\u001b[0m\n\u001b[0m\u001b[1;32m      4\u001b[0m     \u001b[0;32mprint\u001b[0m \u001b[0;34m\"called, \"\u001b[0m \u001b[0;34m+\u001b[0m \u001b[0mstr\u001b[0m\u001b[0;34m(\u001b[0m\u001b[0mq\u001b[0m\u001b[0;34m)\u001b[0m \u001b[0;34m+\u001b[0m \u001b[0;34m\", \"\u001b[0m \u001b[0;34m+\u001b[0m \u001b[0mstr\u001b[0m\u001b[0;34m(\u001b[0m\u001b[0mi\u001b[0m\u001b[0;34m)\u001b[0m\u001b[0;34m\u001b[0m\u001b[0m\n\u001b[1;32m      5\u001b[0m     \u001b[0mdoclist\u001b[0m \u001b[0;34m=\u001b[0m \u001b[0mresponse\u001b[0m\u001b[0;34m.\u001b[0m\u001b[0mjson\u001b[0m\u001b[0;34m(\u001b[0m\u001b[0;34m)\u001b[0m\u001b[0;34m\u001b[0m\u001b[0m\n",
      "\u001b[0;31mIndexError\u001b[0m: list index out of range"
     ]
    }
   ],
   "source": [
    "while doclist['meta']['skip']+100 < total and i<10:\n",
    "    i += 1\n",
    "    response = requests.get(queries['psychiatrist'][i])\n",
    "    print \"called '\" + str(q) + \"', \" + str(i)\n",
    "    doclist = response.json()\n",
    "    try:\n",
    "        drs.insert_many(doclist['data'])\n",
    "    except TypeError:\n",
    "        continue\n",
    "    time.sleep(7)\n",
    "print \"psychiatrist inserted with \" + str(i+1) + \" API requests\""
   ]
  },
  {
   "cell_type": "code",
   "execution_count": 139,
   "metadata": {
    "collapsed": true
   },
   "outputs": [],
   "source": [
    "del queries['psychiatrist']"
   ]
  },
  {
   "cell_type": "code",
   "execution_count": 155,
   "metadata": {
    "collapsed": false
   },
   "outputs": [
    {
     "data": {
      "text/plain": [
       "True"
      ]
     },
     "execution_count": 155,
     "metadata": {},
     "output_type": "execute_result"
    }
   ],
   "source": [
    "doclist['meta']['skip']+100 < doclist['meta']['total']"
   ]
  },
  {
   "cell_type": "code",
   "execution_count": 156,
   "metadata": {
    "collapsed": false
   },
   "outputs": [
    {
     "data": {
      "text/plain": [
       "1609"
      ]
     },
     "execution_count": 156,
     "metadata": {},
     "output_type": "execute_result"
    }
   ],
   "source": [
    "doclist['meta']['total'] "
   ]
  },
  {
   "cell_type": "code",
   "execution_count": 140,
   "metadata": {
    "collapsed": false
   },
   "outputs": [
    {
     "name": "stdout",
     "output_type": "stream",
     "text": [
      "called 'health-service-psychologist', 0\n",
      "called 'occupational-therapy-assistant-environmental-modification', 0\n",
      "called 'psychiatry-neurology-bariatric-medicine', 0\n",
      "called 'addiction-psychologist', 0\n",
      "called 'occupational-therapist-mental-health', 0\n",
      "called 'occupational-therapist-environmental-modification', 0\n",
      "called 'environmental-preventive-medicine-doctor', 0\n",
      "environmental-preventive-medicine-doctor inserted with 1 API requests\n",
      "called 'developmental-therapist', 0\n",
      "developmental-therapist inserted with 1 API requests\n",
      "called 'forensic-psychologist', 0\n",
      "forensic-psychologist inserted with 1 API requests\n",
      "called 'school-psychologist', 0\n",
      "called 'psychiatry-neurology-sleep-medicine', 0\n",
      "psychiatry-neurology-sleep-medicine inserted with 1 API requests\n",
      "called 'psychologist', 0\n",
      "psychologist inserted with 1 API requests\n",
      "called 'psychiatry-neurology-pain-medicine', 0\n",
      "psychiatry-neurology-pain-medicine inserted with 1 API requests\n",
      "called 'psychiatry-neurology-neurodevelopmental-disabilities', 0\n",
      "psychiatry-neurology-neurodevelopmental-disabilities inserted with 1 API requests\n",
      "called 'psychiatry-neurology-vascular-neurology', 0\n",
      "psychiatry-neurology-vascular-neurology inserted with 1 API requests\n",
      "called 'psychiatry-neurology-diagnostic-neuroimaging', 0\n",
      "psychiatry-neurology-diagnostic-neuroimaging inserted with 1 API requests\n",
      "called 'medical-psychologist', 0\n",
      "medical-psychologist inserted with 1 API requests\n",
      "called 'geriatric-psychiatrist', 0\n",
      "geriatric-psychiatrist inserted with 1 API requests\n",
      "called 'clinical-psychologist', 0\n",
      "clinical-psychologist inserted with 1 API requests\n",
      "called 'addiction-psychiatrist', 0\n",
      "addiction-psychiatrist inserted with 1 API requests\n",
      "called 'child-psychiatrist', 0\n",
      "called 'child-psychiatrist', 1\n",
      "called 'child-psychiatrist', 2\n",
      "child-psychiatrist inserted with 3 API requests\n",
      "called 'cognitive-behavioral-psychologist', 0\n",
      "cognitive-behavioral-psychologist inserted with 1 API requests\n",
      "called 'clinical-child-psychologist', 0\n",
      "clinical-child-psychologist inserted with 1 API requests\n",
      "called 'group-psychotherapy-psychologist', 0\n",
      "group-psychotherapy-psychologist inserted with 1 API requests\n",
      "called 'psychiatry-neurology-sports-medicine', 0\n",
      "psychiatry-neurology-sports-medicine inserted with 1 API requests\n",
      "called 'psychiatry-neurology-forensic-psychiatry', 0\n",
      "psychiatry-neurology-forensic-psychiatry inserted with 1 API requests\n",
      "called 'health-psychologist', 0\n",
      "health-psychologist inserted with 1 API requests\n",
      "called 'adult-psychologist', 0\n"
     ]
    }
   ],
   "source": [
    "for q in queries:\n",
    "    i=0\n",
    "    response = requests.get(queries[q][i])\n",
    "    print \"called '\" + str(q) + \"', \" + str(i)\n",
    "    doclist = response.json()\n",
    "    total = doclist['meta']['total']\n",
    "    try:\n",
    "        drs.insert_many(doclist['data'])\n",
    "    except TypeError:\n",
    "        continue\n",
    "    time.sleep(7)\n",
    "    while (doclist['meta']['skip']+100 < total and i<10):\n",
    "        i += 1\n",
    "        response = requests.get(queries[q][i])\n",
    "        print \"called '\" + str(q) + \"', \" + str(i)\n",
    "        doclist = response.json()\n",
    "        try:\n",
    "            drs.insert_many(doclist['data'])\n",
    "        except TypeError:\n",
    "            continue\n",
    "        time.sleep(7)\n",
    "    print str(q) + \" inserted with \" + str(i+1) + \" API requests\""
   ]
  },
  {
   "cell_type": "code",
   "execution_count": 76,
   "metadata": {
    "collapsed": true
   },
   "outputs": [],
   "source": [
    "responsedata = response.json()"
   ]
  },
  {
   "cell_type": "code",
   "execution_count": 77,
   "metadata": {
    "collapsed": false
   },
   "outputs": [
    {
     "data": {
      "text/plain": [
       "{u'meta': {u'details': [{u'current_value': u'17',\n",
       "    u'max_value': u'1000',\n",
       "    u'metric': u'hits',\n",
       "    u'period': u'day'},\n",
       "   {u'current_value': u'10',\n",
       "    u'max_value': u'10',\n",
       "    u'metric': u'hits',\n",
       "    u'period': u'minute'},\n",
       "   {u'current_value': u'0',\n",
       "    u'max_value': u'0',\n",
       "    u'metric': u'sendValidation',\n",
       "    u'period': u'minute'}],\n",
       "  u'error': True,\n",
       "  u'error_code': 2001,\n",
       "  u'http_status_code': 429,\n",
       "  u'message': u'usage limits are exceeded'}}"
      ]
     },
     "execution_count": 77,
     "metadata": {},
     "output_type": "execute_result"
    }
   ],
   "source": [
    "responsedata"
   ]
  },
  {
   "cell_type": "code",
   "execution_count": null,
   "metadata": {
    "collapsed": true
   },
   "outputs": [],
   "source": []
  }
 ],
 "metadata": {
  "kernelspec": {
   "display_name": "Python 2",
   "language": "python",
   "name": "python2"
  },
  "language_info": {
   "codemirror_mode": {
    "name": "ipython",
    "version": 2
   },
   "file_extension": ".py",
   "mimetype": "text/x-python",
   "name": "python",
   "nbconvert_exporter": "python",
   "pygments_lexer": "ipython2",
   "version": "2.7.11"
  }
 },
 "nbformat": 4,
 "nbformat_minor": 0
}
