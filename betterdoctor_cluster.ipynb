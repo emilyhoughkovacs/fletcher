{
 "cells": [
  {
   "cell_type": "code",
   "execution_count": 3,
   "metadata": {
    "collapsed": false
   },
   "outputs": [],
   "source": [
    "import numpy as np\n",
    "import pandas as pd\n",
    "import nltk\n",
    "import re\n",
    "import os\n",
    "import codecs\n",
    "from sklearn import feature_extraction\n",
    "import mpld3"
   ]
  },
  {
   "cell_type": "code",
   "execution_count": 4,
   "metadata": {
    "collapsed": true
   },
   "outputs": [],
   "source": [
    "import pickle"
   ]
  },
  {
   "cell_type": "code",
   "execution_count": 6,
   "metadata": {
    "collapsed": false
   },
   "outputs": [],
   "source": [
    "from sklearn.externals import joblib\n",
    "\n",
    "docbios = joblib.load('docbios.pkl')\n",
    "docnames = joblib.load('docnames.pkl')"
   ]
  },
  {
   "cell_type": "code",
   "execution_count": 7,
   "metadata": {
    "collapsed": false
   },
   "outputs": [
    {
     "name": "stdout",
     "output_type": "stream",
     "text": [
      "Jagga Alluri, MD\n",
      "Michael Amoashiy, MD\n",
      "Brian Anziska, MD\n",
      "Yasemin Baldik, MD\n",
      "Ramani Balu, MD\n",
      "Ron Ben-Meir, DO\n",
      "Monica Bilboul, PhD\n",
      "Ivan Bodis-Wollner, MD\n",
      "Yuri Brosgol, MD\n",
      "Alan Carver, MD\n"
     ]
    }
   ],
   "source": [
    "for d in docnames[0:10]:\n",
    "    print d"
   ]
  },
  {
   "cell_type": "code",
   "execution_count": 8,
   "metadata": {
    "collapsed": false,
    "scrolled": false
   },
   "outputs": [
    {
     "name": "stdout",
     "output_type": "stream",
     "text": [
      "Dr. Jagga Alluri specializes in neurology and clinical neurophysiology in Forest Hills, New York. Dr. Alluri has 20 years experience as an MD, graduated from Rangaraya Medical College, Kakinda, Neurology Residency at Newyork University Medical Center, New York City, and fellowship in Neuromuscular physiology at NYU Medical Center, Hospital for Joint Diseases, NY. Dr. Alluri have extensive experience in the diagnosis and treatment of various neurological disorders like Alzheimer's, seizures, neck pain, memory loss, tumours, Parkinson's disease, migraine, vertigo, Sleep disorders, Strokes etc. His ability to provide onsite ancillary neurological testing allows early diagnosis. Individualized follow up care with thorough discussions on the progress are designed to establish realistic expectations. Dr. Alluri works closely with referring and/or primary care physicians and other specialists to create a plan of care that takes into consideration all aspects of medical problems including personal and social issues as well as employment related concerns.\n"
     ]
    }
   ],
   "source": [
    "print docbios[0]"
   ]
  },
  {
   "cell_type": "code",
   "execution_count": 9,
   "metadata": {
    "collapsed": false
   },
   "outputs": [
    {
     "name": "stdout",
     "output_type": "stream",
     "text": [
      "2691\n"
     ]
    }
   ],
   "source": [
    "print len(docbios)"
   ]
  },
  {
   "cell_type": "code",
   "execution_count": 10,
   "metadata": {
    "collapsed": false
   },
   "outputs": [
    {
     "name": "stdout",
     "output_type": "stream",
     "text": [
      "2691\n"
     ]
    }
   ],
   "source": [
    "print len(docnames)"
   ]
  },
  {
   "cell_type": "markdown",
   "metadata": {},
   "source": [
    "### removing null descriptions"
   ]
  },
  {
   "cell_type": "code",
   "execution_count": 64,
   "metadata": {
    "collapsed": false
   },
   "outputs": [
    {
     "data": {
      "text/plain": [
       "2"
      ]
     },
     "execution_count": 64,
     "metadata": {},
     "output_type": "execute_result"
    }
   ],
   "source": [
    "docnames.index('Brian Anziska, MD')"
   ]
  },
  {
   "cell_type": "code",
   "execution_count": 41,
   "metadata": {
    "collapsed": true
   },
   "outputs": [],
   "source": [
    "docbios = np.array(docbios)\n",
    "\n",
    "emptybios = []\n",
    "emptybios.append(np.where(docbios==''))\n",
    "print len(emptybios)\n",
    "\n",
    "emptybios = np.array(emptybios[0][0])\n",
    "\n",
    "print len(docnames)\n",
    "print len(docbios)\n",
    "\n",
    "print len(emptybios)\n",
    "\n",
    "print len(docnames)-len(emptybios)\n",
    "\n",
    "new_docnames = np.delete(docnames, emptybios)\n",
    "new_docbios = np.delete(docbios, emptybios)\n",
    "\n",
    "print len(docnames)\n",
    "print len(docbios)\n",
    "\n",
    "docnames = new_docnames\n",
    "docbios = new_docbios\n",
    "\n",
    "len(np.unique(docnames))\n",
    "\n",
    "2505-1899"
   ]
  },
  {
   "cell_type": "code",
   "execution_count": 78,
   "metadata": {
    "collapsed": true
   },
   "outputs": [],
   "source": [
    "from collections import defaultdict\n",
    "\n",
    "docdict = defaultdict(list)\n",
    "\n",
    "for name, bio in zip(docnames, docbios):\n",
    "    docdict[name] = bio"
   ]
  },
  {
   "cell_type": "code",
   "execution_count": 116,
   "metadata": {
    "collapsed": false
   },
   "outputs": [
    {
     "name": "stdout",
     "output_type": "stream",
     "text": [
      "Dr. Ludmila Davidov, MD is one of the country's most highly ranked doctors. Her specialties include psychiatry and she currently treats patients in Flushing, New York, Rego park, New York, and Whitestone, New York.  Dr. Davidov completed medical school at Tajik State Medical University Named After Abuali Ibn Sino and is licensed to see patients in New York.  Based on an in-depth analysis of Dr. Davidov's credentials, experience and network, she has been found to be among the 20% of doctors nationwide.  Dr. Davidov has been found to hold one or more active medical licenses, and successfully passed a malpractice history screening.\n",
      "\n",
      "I am a neurologist with specialty training in neuro-oncology who sees patients at Memorial Sloan-Kettering facilities in both New York City and Basking Ridge, New Jersey. I treat patients with primary brain tumors and patients with neurological complications of systemic cancer. As a neuro-oncologist, I provide continuity of care for those patients with primary CNS malignancies and coordinate the multidisciplinary management team consisting of neurosurgeons and radiation oncologists. I actively participate in clinical trials at Memorial Sloan-Kettering, including those through the North American Brain Tumor Consortium, in order to evaluate novel chemotherapy, biological, and molecular treatments for patients with malignant brain tumors.\n"
     ]
    }
   ],
   "source": [
    "print docdict['Ludmila Davidov, MD']\n",
    "print\n",
    "print docdict['Igor Gavrilovic, MD']"
   ]
  },
  {
   "cell_type": "code",
   "execution_count": 113,
   "metadata": {
    "collapsed": false
   },
   "outputs": [
    {
     "data": {
      "text/plain": [
       "1899"
      ]
     },
     "execution_count": 113,
     "metadata": {},
     "output_type": "execute_result"
    }
   ],
   "source": [
    "len(docdict)"
   ]
  },
  {
   "cell_type": "code",
   "execution_count": null,
   "metadata": {
    "collapsed": true
   },
   "outputs": [],
   "source": [
    "#joblib.dump(docdict,'docdict.pkl')"
   ]
  },
  {
   "cell_type": "code",
   "execution_count": 112,
   "metadata": {
    "collapsed": false
   },
   "outputs": [
    {
     "data": {
      "text/plain": [
       "640"
      ]
     },
     "execution_count": 112,
     "metadata": {},
     "output_type": "execute_result"
    }
   ],
   "source": [
    "2691-2051"
   ]
  },
  {
   "cell_type": "markdown",
   "metadata": {},
   "source": [
    "### stopwords, stemming and tokenizing"
   ]
  },
  {
   "cell_type": "code",
   "execution_count": 99,
   "metadata": {
    "collapsed": true
   },
   "outputs": [],
   "source": [
    "# load nltk's English stopwords as variable called 'stopwords'\n",
    "stopwords = nltk.corpus.stopwords.words('english')"
   ]
  },
  {
   "cell_type": "code",
   "execution_count": 100,
   "metadata": {
    "collapsed": false
   },
   "outputs": [
    {
     "name": "stdout",
     "output_type": "stream",
     "text": [
      "[u'i', u'me', u'my', u'myself', u'we', u'our', u'ours', u'ourselves', u'you', u'your']\n"
     ]
    }
   ],
   "source": [
    "print stopwords[:10]"
   ]
  },
  {
   "cell_type": "code",
   "execution_count": 101,
   "metadata": {
    "collapsed": true
   },
   "outputs": [],
   "source": [
    "# load nltk's SnowballStemmer as variabled 'stemmer'\n",
    "from nltk.stem.snowball import SnowballStemmer\n",
    "stemmer = SnowballStemmer(\"english\")"
   ]
  },
  {
   "cell_type": "code",
   "execution_count": 102,
   "metadata": {
    "collapsed": true
   },
   "outputs": [],
   "source": [
    "# here he defines a tokenizer and stemmer which returns the set of stems in the text that it is passed\n",
    "\n",
    "def tokenize_and_stem(text):\n",
    "    # first tokenize by sentence, then by word to ensure that punctuation is caught as it's own token\n",
    "    tokens = [word for sent in nltk.sent_tokenize(text) for word in nltk.word_tokenize(sent)]\n",
    "    filtered_tokens = []\n",
    "    # filter out any tokens not containing letters (e.g., numeric tokens, raw punctuation)\n",
    "    for token in tokens:\n",
    "        if re.search('[a-zA-Z]', token):\n",
    "            filtered_tokens.append(token)\n",
    "    stems = [stemmer.stem(t) for t in filtered_tokens]\n",
    "    return stems\n",
    "\n",
    "\n",
    "def tokenize_only(text):\n",
    "    # first tokenize by sentence, then by word to ensure that punctuation is caught as it's own token\n",
    "    tokens = [word.lower() for sent in nltk.sent_tokenize(text) for word in nltk.word_tokenize(sent)]\n",
    "    filtered_tokens = []\n",
    "    # filter out any tokens not containing letters (e.g., numeric tokens, raw punctuation)\n",
    "    for token in tokens:\n",
    "        if re.search('[a-zA-Z]', token):\n",
    "            filtered_tokens.append(token)\n",
    "    return filtered_tokens"
   ]
  },
  {
   "cell_type": "code",
   "execution_count": 103,
   "metadata": {
    "collapsed": false
   },
   "outputs": [],
   "source": [
    "#not super pythonic, no, not at all.\n",
    "#use extend so it's a big flat list of vocab\n",
    "totalvocab_stemmed = []\n",
    "totalvocab_tokenized = []\n",
    "for i in docdict.values():\n",
    "    allwords_stemmed = tokenize_and_stem(i) #for each item in 'synopses', tokenize/stem\n",
    "    totalvocab_stemmed.extend(allwords_stemmed) #extend the 'totalvocab_stemmed' list\n",
    "    \n",
    "    allwords_tokenized = tokenize_only(i)\n",
    "    totalvocab_tokenized.extend(allwords_tokenized)"
   ]
  },
  {
   "cell_type": "code",
   "execution_count": 104,
   "metadata": {
    "collapsed": false
   },
   "outputs": [
    {
     "name": "stdout",
     "output_type": "stream",
     "text": [
      "there are 135761 items in vocab_frame\n"
     ]
    }
   ],
   "source": [
    "vocab_frame = pd.DataFrame({'words': totalvocab_tokenized}, index = totalvocab_stemmed)\n",
    "print 'there are ' + str(vocab_frame.shape[0]) + ' items in vocab_frame'"
   ]
  },
  {
   "cell_type": "code",
   "execution_count": 105,
   "metadata": {
    "collapsed": false
   },
   "outputs": [
    {
     "name": "stdout",
     "output_type": "stream",
     "text": [
      "there are 135761 items in vocab_frame\n"
     ]
    }
   ],
   "source": [
    "df = pd.DataFrame({'words': totalvocab_tokenized}, index = totalvocab_tokenized)\n",
    "print 'there are ' + str(vocab_frame.shape[0]) + ' items in vocab_frame'"
   ]
  },
  {
   "cell_type": "code",
   "execution_count": 264,
   "metadata": {
    "collapsed": false
   },
   "outputs": [
    {
     "ename": "KeyError",
     "evalue": "'malpractice'",
     "output_type": "error",
     "traceback": [
      "\u001b[0;31m---------------------------------------------------------------------------\u001b[0m",
      "\u001b[0;31mKeyError\u001b[0m                                  Traceback (most recent call last)",
      "\u001b[0;32m<ipython-input-264-c58e8caba0be>\u001b[0m in \u001b[0;36m<module>\u001b[0;34m()\u001b[0m\n\u001b[0;32m----> 1\u001b[0;31m \u001b[0mvocab_frame\u001b[0m\u001b[0;34m.\u001b[0m\u001b[0mix\u001b[0m\u001b[0;34m[\u001b[0m\u001b[0;34m'malpractice'\u001b[0m\u001b[0;34m]\u001b[0m\u001b[0;34m.\u001b[0m\u001b[0mvalues\u001b[0m\u001b[0;34m.\u001b[0m\u001b[0mtolist\u001b[0m\u001b[0;34m(\u001b[0m\u001b[0;34m)\u001b[0m\u001b[0;34m[\u001b[0m\u001b[0;36m0\u001b[0m\u001b[0;34m]\u001b[0m\u001b[0;34m\u001b[0m\u001b[0m\n\u001b[0m",
      "\u001b[0;32m//anaconda/lib/python2.7/site-packages/pandas/core/indexing.pyc\u001b[0m in \u001b[0;36m__getitem__\u001b[0;34m(self, key)\u001b[0m\n\u001b[1;32m     68\u001b[0m             \u001b[0;32mreturn\u001b[0m \u001b[0mself\u001b[0m\u001b[0;34m.\u001b[0m\u001b[0m_getitem_tuple\u001b[0m\u001b[0;34m(\u001b[0m\u001b[0mkey\u001b[0m\u001b[0;34m)\u001b[0m\u001b[0;34m\u001b[0m\u001b[0m\n\u001b[1;32m     69\u001b[0m         \u001b[0;32melse\u001b[0m\u001b[0;34m:\u001b[0m\u001b[0;34m\u001b[0m\u001b[0m\n\u001b[0;32m---> 70\u001b[0;31m             \u001b[0;32mreturn\u001b[0m \u001b[0mself\u001b[0m\u001b[0;34m.\u001b[0m\u001b[0m_getitem_axis\u001b[0m\u001b[0;34m(\u001b[0m\u001b[0mkey\u001b[0m\u001b[0;34m,\u001b[0m \u001b[0maxis\u001b[0m\u001b[0;34m=\u001b[0m\u001b[0;36m0\u001b[0m\u001b[0;34m)\u001b[0m\u001b[0;34m\u001b[0m\u001b[0m\n\u001b[0m\u001b[1;32m     71\u001b[0m \u001b[0;34m\u001b[0m\u001b[0m\n\u001b[1;32m     72\u001b[0m     \u001b[0;32mdef\u001b[0m \u001b[0m_get_label\u001b[0m\u001b[0;34m(\u001b[0m\u001b[0mself\u001b[0m\u001b[0;34m,\u001b[0m \u001b[0mlabel\u001b[0m\u001b[0;34m,\u001b[0m \u001b[0maxis\u001b[0m\u001b[0;34m=\u001b[0m\u001b[0;36m0\u001b[0m\u001b[0;34m)\u001b[0m\u001b[0;34m:\u001b[0m\u001b[0;34m\u001b[0m\u001b[0m\n",
      "\u001b[0;32m//anaconda/lib/python2.7/site-packages/pandas/core/indexing.pyc\u001b[0m in \u001b[0;36m_getitem_axis\u001b[0;34m(self, key, axis)\u001b[0m\n\u001b[1;32m    927\u001b[0m                     \u001b[0;32mreturn\u001b[0m \u001b[0mself\u001b[0m\u001b[0;34m.\u001b[0m\u001b[0m_get_loc\u001b[0m\u001b[0;34m(\u001b[0m\u001b[0mkey\u001b[0m\u001b[0;34m,\u001b[0m \u001b[0maxis\u001b[0m\u001b[0;34m=\u001b[0m\u001b[0maxis\u001b[0m\u001b[0;34m)\u001b[0m\u001b[0;34m\u001b[0m\u001b[0m\n\u001b[1;32m    928\u001b[0m \u001b[0;34m\u001b[0m\u001b[0m\n\u001b[0;32m--> 929\u001b[0;31m             \u001b[0;32mreturn\u001b[0m \u001b[0mself\u001b[0m\u001b[0;34m.\u001b[0m\u001b[0m_get_label\u001b[0m\u001b[0;34m(\u001b[0m\u001b[0mkey\u001b[0m\u001b[0;34m,\u001b[0m \u001b[0maxis\u001b[0m\u001b[0;34m=\u001b[0m\u001b[0maxis\u001b[0m\u001b[0;34m)\u001b[0m\u001b[0;34m\u001b[0m\u001b[0m\n\u001b[0m\u001b[1;32m    930\u001b[0m \u001b[0;34m\u001b[0m\u001b[0m\n\u001b[1;32m    931\u001b[0m     \u001b[0;32mdef\u001b[0m \u001b[0m_getitem_iterable\u001b[0m\u001b[0;34m(\u001b[0m\u001b[0mself\u001b[0m\u001b[0;34m,\u001b[0m \u001b[0mkey\u001b[0m\u001b[0;34m,\u001b[0m \u001b[0maxis\u001b[0m\u001b[0;34m=\u001b[0m\u001b[0;36m0\u001b[0m\u001b[0;34m)\u001b[0m\u001b[0;34m:\u001b[0m\u001b[0;34m\u001b[0m\u001b[0m\n",
      "\u001b[0;32m//anaconda/lib/python2.7/site-packages/pandas/core/indexing.pyc\u001b[0m in \u001b[0;36m_get_label\u001b[0;34m(self, label, axis)\u001b[0m\n\u001b[1;32m     84\u001b[0m             \u001b[0;32mraise\u001b[0m \u001b[0mIndexingError\u001b[0m\u001b[0;34m(\u001b[0m\u001b[0;34m'no slices here, handle elsewhere'\u001b[0m\u001b[0;34m)\u001b[0m\u001b[0;34m\u001b[0m\u001b[0m\n\u001b[1;32m     85\u001b[0m \u001b[0;34m\u001b[0m\u001b[0m\n\u001b[0;32m---> 86\u001b[0;31m         \u001b[0;32mreturn\u001b[0m \u001b[0mself\u001b[0m\u001b[0;34m.\u001b[0m\u001b[0mobj\u001b[0m\u001b[0;34m.\u001b[0m\u001b[0m_xs\u001b[0m\u001b[0;34m(\u001b[0m\u001b[0mlabel\u001b[0m\u001b[0;34m,\u001b[0m \u001b[0maxis\u001b[0m\u001b[0;34m=\u001b[0m\u001b[0maxis\u001b[0m\u001b[0;34m)\u001b[0m\u001b[0;34m\u001b[0m\u001b[0m\n\u001b[0m\u001b[1;32m     87\u001b[0m \u001b[0;34m\u001b[0m\u001b[0m\n\u001b[1;32m     88\u001b[0m     \u001b[0;32mdef\u001b[0m \u001b[0m_get_loc\u001b[0m\u001b[0;34m(\u001b[0m\u001b[0mself\u001b[0m\u001b[0;34m,\u001b[0m \u001b[0mkey\u001b[0m\u001b[0;34m,\u001b[0m \u001b[0maxis\u001b[0m\u001b[0;34m=\u001b[0m\u001b[0;36m0\u001b[0m\u001b[0;34m)\u001b[0m\u001b[0;34m:\u001b[0m\u001b[0;34m\u001b[0m\u001b[0m\n",
      "\u001b[0;32m//anaconda/lib/python2.7/site-packages/pandas/core/generic.pyc\u001b[0m in \u001b[0;36mxs\u001b[0;34m(self, key, axis, level, copy, drop_level)\u001b[0m\n\u001b[1;32m   1471\u001b[0m                                                       drop_level=drop_level)\n\u001b[1;32m   1472\u001b[0m         \u001b[0;32melse\u001b[0m\u001b[0;34m:\u001b[0m\u001b[0;34m\u001b[0m\u001b[0m\n\u001b[0;32m-> 1473\u001b[0;31m             \u001b[0mloc\u001b[0m \u001b[0;34m=\u001b[0m \u001b[0mself\u001b[0m\u001b[0;34m.\u001b[0m\u001b[0mindex\u001b[0m\u001b[0;34m.\u001b[0m\u001b[0mget_loc\u001b[0m\u001b[0;34m(\u001b[0m\u001b[0mkey\u001b[0m\u001b[0;34m)\u001b[0m\u001b[0;34m\u001b[0m\u001b[0m\n\u001b[0m\u001b[1;32m   1474\u001b[0m \u001b[0;34m\u001b[0m\u001b[0m\n\u001b[1;32m   1475\u001b[0m             \u001b[0;32mif\u001b[0m \u001b[0misinstance\u001b[0m\u001b[0;34m(\u001b[0m\u001b[0mloc\u001b[0m\u001b[0;34m,\u001b[0m \u001b[0mnp\u001b[0m\u001b[0;34m.\u001b[0m\u001b[0mndarray\u001b[0m\u001b[0;34m)\u001b[0m\u001b[0;34m:\u001b[0m\u001b[0;34m\u001b[0m\u001b[0m\n",
      "\u001b[0;32m//anaconda/lib/python2.7/site-packages/pandas/core/index.pyc\u001b[0m in \u001b[0;36mget_loc\u001b[0;34m(self, key, method)\u001b[0m\n\u001b[1;32m   1570\u001b[0m         \"\"\"\n\u001b[1;32m   1571\u001b[0m         \u001b[0;32mif\u001b[0m \u001b[0mmethod\u001b[0m \u001b[0;32mis\u001b[0m \u001b[0mNone\u001b[0m\u001b[0;34m:\u001b[0m\u001b[0;34m\u001b[0m\u001b[0m\n\u001b[0;32m-> 1572\u001b[0;31m             \u001b[0;32mreturn\u001b[0m \u001b[0mself\u001b[0m\u001b[0;34m.\u001b[0m\u001b[0m_engine\u001b[0m\u001b[0;34m.\u001b[0m\u001b[0mget_loc\u001b[0m\u001b[0;34m(\u001b[0m\u001b[0m_values_from_object\u001b[0m\u001b[0;34m(\u001b[0m\u001b[0mkey\u001b[0m\u001b[0;34m)\u001b[0m\u001b[0;34m)\u001b[0m\u001b[0;34m\u001b[0m\u001b[0m\n\u001b[0m\u001b[1;32m   1573\u001b[0m \u001b[0;34m\u001b[0m\u001b[0m\n\u001b[1;32m   1574\u001b[0m         \u001b[0mindexer\u001b[0m \u001b[0;34m=\u001b[0m \u001b[0mself\u001b[0m\u001b[0;34m.\u001b[0m\u001b[0mget_indexer\u001b[0m\u001b[0;34m(\u001b[0m\u001b[0;34m[\u001b[0m\u001b[0mkey\u001b[0m\u001b[0;34m]\u001b[0m\u001b[0;34m,\u001b[0m \u001b[0mmethod\u001b[0m\u001b[0;34m=\u001b[0m\u001b[0mmethod\u001b[0m\u001b[0;34m)\u001b[0m\u001b[0;34m\u001b[0m\u001b[0m\n",
      "\u001b[0;32mpandas/index.pyx\u001b[0m in \u001b[0;36mpandas.index.IndexEngine.get_loc (pandas/index.c:3824)\u001b[0;34m()\u001b[0m\n",
      "\u001b[0;32mpandas/index.pyx\u001b[0m in \u001b[0;36mpandas.index.IndexEngine.get_loc (pandas/index.c:3651)\u001b[0;34m()\u001b[0m\n",
      "\u001b[0;32mpandas/index.pyx\u001b[0m in \u001b[0;36mpandas.index.IndexEngine._get_loc_duplicates (pandas/index.c:4042)\u001b[0;34m()\u001b[0m\n",
      "\u001b[0;32mpandas/index.pyx\u001b[0m in \u001b[0;36mpandas.index.IndexEngine._maybe_get_bool_indexer (pandas/index.c:4393)\u001b[0;34m()\u001b[0m\n",
      "\u001b[0;31mKeyError\u001b[0m: 'malpractice'"
     ]
    }
   ],
   "source": [
    "vocab_frame.ix['malpractice'].values.tolist()[0]"
   ]
  },
  {
   "cell_type": "code",
   "execution_count": 169,
   "metadata": {
    "collapsed": false
   },
   "outputs": [
    {
     "data": {
      "text/html": [
       "<div>\n",
       "<table border=\"1\" class=\"dataframe\">\n",
       "  <thead>\n",
       "    <tr style=\"text-align: right;\">\n",
       "      <th></th>\n",
       "      <th>words</th>\n",
       "    </tr>\n",
       "  </thead>\n",
       "  <tbody>\n",
       "    <tr>\n",
       "      <th>dr.</th>\n",
       "      <td>dr.</td>\n",
       "    </tr>\n",
       "    <tr>\n",
       "      <th>ludmila</th>\n",
       "      <td>ludmila</td>\n",
       "    </tr>\n",
       "    <tr>\n",
       "      <th>davidov</th>\n",
       "      <td>davidov</td>\n",
       "    </tr>\n",
       "    <tr>\n",
       "      <th>md</th>\n",
       "      <td>md</td>\n",
       "    </tr>\n",
       "    <tr>\n",
       "      <th>is</th>\n",
       "      <td>is</td>\n",
       "    </tr>\n",
       "  </tbody>\n",
       "</table>\n",
       "</div>"
      ],
      "text/plain": [
       "           words\n",
       "dr.          dr.\n",
       "ludmila  ludmila\n",
       "davidov  davidov\n",
       "md            md\n",
       "is            is"
      ]
     },
     "execution_count": 169,
     "metadata": {},
     "output_type": "execute_result"
    }
   ],
   "source": [
    "vocab_frame.head()"
   ]
  },
  {
   "cell_type": "code",
   "execution_count": 106,
   "metadata": {
    "collapsed": false
   },
   "outputs": [
    {
     "name": "stdout",
     "output_type": "stream",
     "text": [
      "           words\n",
      "dr.          dr.\n",
      "ludmila  ludmila\n",
      "davidov  davidov\n",
      "md            md\n",
      "is            is\n"
     ]
    }
   ],
   "source": [
    "print vocab_frame.head()"
   ]
  },
  {
   "cell_type": "markdown",
   "metadata": {},
   "source": [
    "### Tf-idf and document similarity"
   ]
  },
  {
   "cell_type": "code",
   "execution_count": 214,
   "metadata": {
    "collapsed": false
   },
   "outputs": [
    {
     "name": "stdout",
     "output_type": "stream",
     "text": [
      "CPU times: user 6.18 s, sys: 146 ms, total: 6.32 s\n",
      "Wall time: 6.47 s\n",
      "(1899, 53839)\n"
     ]
    }
   ],
   "source": [
    "from sklearn.feature_extraction.text import TfidfVectorizer\n",
    "\n",
    "#define vectorizer parameters\n",
    "tfidf_vectorizer = TfidfVectorizer(max_df=0.8, max_features=200000, stop_words='english',\n",
    "                                   use_idf=True,\n",
    "                                   tokenizer=tokenize_only, ngram_range=(2,3))\n",
    "\n",
    "%time tfidf_matrix = tfidf_vectorizer.fit_transform(docdict.values()) #fit the vectorizer to synopses\n",
    "\n",
    "print(tfidf_matrix.shape)"
   ]
  },
  {
   "cell_type": "code",
   "execution_count": 143,
   "metadata": {
    "collapsed": true
   },
   "outputs": [],
   "source": [
    "terms = tfidf_vectorizer.get_feature_names()"
   ]
  },
  {
   "cell_type": "code",
   "execution_count": 171,
   "metadata": {
    "collapsed": false
   },
   "outputs": [
    {
     "data": {
      "text/plain": [
       "[u\"'s\",\n",
       " u\"'s adult\",\n",
       " u\"'s adult long-term\",\n",
       " u\"'s advisory\",\n",
       " u\"'s advisory committee\",\n",
       " u\"'s affairs\",\n",
       " u\"'s affairs medical\",\n",
       " u\"'s areas\",\n",
       " u\"'s areas expertise\",\n",
       " u\"'s best\"]"
      ]
     },
     "execution_count": 171,
     "metadata": {},
     "output_type": "execute_result"
    }
   ],
   "source": [
    "terms[0:10]"
   ]
  },
  {
   "cell_type": "code",
   "execution_count": 222,
   "metadata": {
    "collapsed": false
   },
   "outputs": [],
   "source": [
    "'' in terms_np:"
   ]
  },
  {
   "cell_type": "code",
   "execution_count": 144,
   "metadata": {
    "collapsed": false
   },
   "outputs": [
    {
     "name": "stdout",
     "output_type": "stream",
     "text": [
      "60113\n"
     ]
    }
   ],
   "source": [
    "print len(terms)"
   ]
  },
  {
   "cell_type": "code",
   "execution_count": 145,
   "metadata": {
    "collapsed": true
   },
   "outputs": [],
   "source": [
    "from sklearn.metrics.pairwise import cosine_similarity\n",
    "dist = 1 - cosine_similarity(tfidf_matrix)"
   ]
  },
  {
   "cell_type": "code",
   "execution_count": 146,
   "metadata": {
    "collapsed": false
   },
   "outputs": [
    {
     "name": "stdout",
     "output_type": "stream",
     "text": [
      "(1899, 1899)\n"
     ]
    }
   ],
   "source": [
    "print dist.shape"
   ]
  },
  {
   "cell_type": "markdown",
   "metadata": {},
   "source": [
    "### K-means clustering"
   ]
  },
  {
   "cell_type": "code",
   "execution_count": 181,
   "metadata": {
    "collapsed": false
   },
   "outputs": [
    {
     "name": "stdout",
     "output_type": "stream",
     "text": [
      "(1899, 60113)\n"
     ]
    }
   ],
   "source": [
    "print(tfidf_matrix.shape)"
   ]
  },
  {
   "cell_type": "code",
   "execution_count": 147,
   "metadata": {
    "collapsed": false
   },
   "outputs": [
    {
     "name": "stdout",
     "output_type": "stream",
     "text": [
      "CPU times: user 2.24 s, sys: 288 ms, total: 2.53 s\n",
      "Wall time: 2.77 s\n"
     ]
    }
   ],
   "source": [
    "from sklearn.cluster import KMeans\n",
    "\n",
    "n = 5\n",
    "km = KMeans(n_clusters=n)\n",
    "\n",
    "%time km.fit(tfidf_matrix)\n",
    "\n",
    "clusters = km.labels_.tolist()"
   ]
  },
  {
   "cell_type": "code",
   "execution_count": 148,
   "metadata": {
    "collapsed": true
   },
   "outputs": [],
   "source": [
    "#from sklearn.externals import joblib\n",
    "\n",
    "joblib.dump(km,  'doc_cluster.pkl')\n",
    "\n",
    "# km = joblib.load('doc_cluster.pkl')\n",
    "clusters = km.labels_.tolist()"
   ]
  },
  {
   "cell_type": "code",
   "execution_count": 17,
   "metadata": {
    "collapsed": false
   },
   "outputs": [],
   "source": [
    "#joblib.dump(docbios, 'docbios.pkl')\n",
    "#joblib.dump(docnames, 'docnames.pkl')"
   ]
  },
  {
   "cell_type": "code",
   "execution_count": 32,
   "metadata": {
    "collapsed": false
   },
   "outputs": [],
   "source": [
    "#!pip install textstat\n",
    "#import textstat"
   ]
  },
  {
   "cell_type": "markdown",
   "metadata": {
    "collapsed": false
   },
   "source": [
    "### hacky attempt at reading level"
   ]
  },
  {
   "cell_type": "raw",
   "metadata": {},
   "source": [
    "Flesch–Kincaid grade level (fkgl) = 0.39 * (total words/ total sentences) + 11.8 (total syllables/total words) - 15.59"
   ]
  },
  {
   "cell_type": "raw",
   "metadata": {},
   "source": [
    "In the first text, there is an average of 2.83 letters per syllable. I will use letters in place of syllables, by dividing letters/word by 2.83 to get an approximation of syllables/word. This is making the assumption that every bio has the same approximate ratio of letters to syllable."
   ]
  },
  {
   "cell_type": "code",
   "execution_count": 119,
   "metadata": {
    "collapsed": false,
    "scrolled": true
   },
   "outputs": [],
   "source": [
    "sentlen = []\n",
    "wordlen = []\n",
    "fkgl  = []"
   ]
  },
  {
   "cell_type": "code",
   "execution_count": 120,
   "metadata": {
    "collapsed": true
   },
   "outputs": [],
   "source": [
    "sentlen = [nltk.sent_tokenize(d) for d in docdict.values()]"
   ]
  },
  {
   "cell_type": "code",
   "execution_count": 121,
   "metadata": {
    "collapsed": false
   },
   "outputs": [],
   "source": [
    "wordlen = [[nltk.word_tokenize(t) for t in bio] for bio in sentlen]"
   ]
  },
  {
   "cell_type": "code",
   "execution_count": 122,
   "metadata": {
    "collapsed": true
   },
   "outputs": [],
   "source": [
    "counts = []"
   ]
  },
  {
   "cell_type": "code",
   "execution_count": 123,
   "metadata": {
    "collapsed": true
   },
   "outputs": [],
   "source": [
    "for dr in wordlen:\n",
    "    sentence_cnt = len(dr)\n",
    "    word_cnt = 0\n",
    "    letter_cnt = 0\n",
    "    for sentence in dr:\n",
    "        word_cnt += len(sentence)\n",
    "        for word in sentence:\n",
    "            letter_cnt += len(word)\n",
    "    counts.append((sentence_cnt, word_cnt, letter_cnt))"
   ]
  },
  {
   "cell_type": "code",
   "execution_count": 124,
   "metadata": {
    "collapsed": true
   },
   "outputs": [],
   "source": [
    "from __future__ import division"
   ]
  },
  {
   "cell_type": "code",
   "execution_count": 125,
   "metadata": {
    "collapsed": false
   },
   "outputs": [
    {
     "data": {
      "text/plain": [
       "(5, 119, 532)"
      ]
     },
     "execution_count": 125,
     "metadata": {},
     "output_type": "execute_result"
    }
   ],
   "source": [
    "counts[0]"
   ]
  },
  {
   "cell_type": "code",
   "execution_count": 126,
   "metadata": {
    "collapsed": true
   },
   "outputs": [],
   "source": [
    "def catch(func, handle=lambda e : e, *args, **kwargs):\n",
    "    try:\n",
    "        return func(*args, **kwargs)\n",
    "    except ZeroDivisionError:\n",
    "        return np.nan"
   ]
  },
  {
   "cell_type": "code",
   "execution_count": 127,
   "metadata": {
    "collapsed": false
   },
   "outputs": [],
   "source": [
    "fkgl = [catch(lambda: 0.39 * (dr[1]/dr[0]) + 11.8 * (dr[2]/dr[1])/2.83 - 15.59) \\\n",
    "        for dr in counts]"
   ]
  },
  {
   "cell_type": "code",
   "execution_count": 128,
   "metadata": {
    "collapsed": false
   },
   "outputs": [
    {
     "data": {
      "text/plain": [
       "0"
      ]
     },
     "execution_count": 128,
     "metadata": {},
     "output_type": "execute_result"
    }
   ],
   "source": [
    "fkgl.count(np.nan)"
   ]
  },
  {
   "cell_type": "code",
   "execution_count": 129,
   "metadata": {
    "collapsed": false
   },
   "outputs": [
    {
     "data": {
      "text/plain": [
       "1899"
      ]
     },
     "execution_count": 129,
     "metadata": {},
     "output_type": "execute_result"
    }
   ],
   "source": [
    "len(fkgl)"
   ]
  },
  {
   "cell_type": "code",
   "execution_count": 130,
   "metadata": {
    "collapsed": false
   },
   "outputs": [
    {
     "data": {
      "text/plain": [
       "12.332615256703388"
      ]
     },
     "execution_count": 130,
     "metadata": {},
     "output_type": "execute_result"
    }
   ],
   "source": [
    "fkgl[0]"
   ]
  },
  {
   "cell_type": "code",
   "execution_count": 131,
   "metadata": {
    "collapsed": false
   },
   "outputs": [
    {
     "data": {
      "text/plain": [
       "47.35116607773851"
      ]
     },
     "execution_count": 131,
     "metadata": {},
     "output_type": "execute_result"
    }
   ],
   "source": [
    "max(fkgl)"
   ]
  },
  {
   "cell_type": "code",
   "execution_count": 132,
   "metadata": {
    "collapsed": false
   },
   "outputs": [
    {
     "data": {
      "text/plain": [
       "5.826548881036516"
      ]
     },
     "execution_count": 132,
     "metadata": {},
     "output_type": "execute_result"
    }
   ],
   "source": [
    "min(fkgl)"
   ]
  },
  {
   "cell_type": "markdown",
   "metadata": {},
   "source": [
    "### looking at the clusters"
   ]
  },
  {
   "cell_type": "code",
   "execution_count": 133,
   "metadata": {
    "collapsed": false
   },
   "outputs": [
    {
     "data": {
      "text/plain": [
       "2"
      ]
     },
     "execution_count": 133,
     "metadata": {},
     "output_type": "execute_result"
    }
   ],
   "source": [
    "clusters[0]"
   ]
  },
  {
   "cell_type": "code",
   "execution_count": 154,
   "metadata": {
    "collapsed": false
   },
   "outputs": [
    {
     "name": "stdout",
     "output_type": "stream",
     "text": [
      "1899\n",
      "1899\n",
      "1899\n",
      "1899\n"
     ]
    }
   ],
   "source": [
    "print len(docdict.keys())\n",
    "print len(docdict.values())\n",
    "print len(fkgl)\n",
    "print len(clusters)"
   ]
  },
  {
   "cell_type": "code",
   "execution_count": 155,
   "metadata": {
    "collapsed": false
   },
   "outputs": [],
   "source": [
    "docs = { 'name': docdict.keys(), 'bio': docdict.values(), 'flesch_kincaid': fkgl, 'cluster': clusters }"
   ]
  },
  {
   "cell_type": "code",
   "execution_count": 156,
   "metadata": {
    "collapsed": false
   },
   "outputs": [
    {
     "data": {
      "text/plain": [
       "135761"
      ]
     },
     "execution_count": 156,
     "metadata": {},
     "output_type": "execute_result"
    }
   ],
   "source": [
    "len(df)"
   ]
  },
  {
   "cell_type": "code",
   "execution_count": 157,
   "metadata": {
    "collapsed": false
   },
   "outputs": [],
   "source": [
    "docsdf = pd.DataFrame(docs, index = [clusters] , columns = ['name', 'flesch_kincaid', 'cluster'])"
   ]
  },
  {
   "cell_type": "code",
   "execution_count": 158,
   "metadata": {
    "collapsed": false
   },
   "outputs": [
    {
     "data": {
      "text/plain": [
       "1    533\n",
       "2    407\n",
       "0    396\n",
       "4    388\n",
       "3    175\n",
       "dtype: int64"
      ]
     },
     "execution_count": 158,
     "metadata": {},
     "output_type": "execute_result"
    }
   ],
   "source": [
    "docsdf['cluster'].value_counts()"
   ]
  },
  {
   "cell_type": "code",
   "execution_count": 159,
   "metadata": {
    "collapsed": false
   },
   "outputs": [
    {
     "data": {
      "text/plain": [
       "cluster\n",
       "0    12.130809\n",
       "1    12.662505\n",
       "2    12.930212\n",
       "3    23.717654\n",
       "4    12.568479\n",
       "Name: flesch_kincaid, dtype: float64"
      ]
     },
     "execution_count": 159,
     "metadata": {},
     "output_type": "execute_result"
    }
   ],
   "source": [
    "grouped = docsdf['flesch_kincaid'].groupby(docsdf['cluster']) #groupby cluster for aggregation purposes\n",
    "\n",
    "grouped.mean() #average flesch_kincaid per cluster"
   ]
  },
  {
   "cell_type": "code",
   "execution_count": 160,
   "metadata": {
    "collapsed": false
   },
   "outputs": [
    {
     "data": {
      "text/plain": [
       "cluster\n",
       "0    11.799146\n",
       "1    11.820971\n",
       "2    12.710589\n",
       "3    23.112517\n",
       "4    12.443783\n",
       "Name: flesch_kincaid, dtype: float64"
      ]
     },
     "execution_count": 160,
     "metadata": {},
     "output_type": "execute_result"
    }
   ],
   "source": [
    "grouped.median()"
   ]
  },
  {
   "cell_type": "code",
   "execution_count": 161,
   "metadata": {
    "collapsed": true
   },
   "outputs": [],
   "source": [
    "num_clusters = len(pd.unique(docsdf['cluster']))"
   ]
  },
  {
   "cell_type": "code",
   "execution_count": 251,
   "metadata": {
    "collapsed": false
   },
   "outputs": [
    {
     "data": {
      "text/plain": [
       "[u'check', u'clear']"
      ]
     },
     "execution_count": 251,
     "metadata": {},
     "output_type": "execute_result"
    }
   ],
   "source": [
    "terms[7048].split(\" \")"
   ]
  },
  {
   "cell_type": "code",
   "execution_count": 253,
   "metadata": {
    "collapsed": false
   },
   "outputs": [
    {
     "data": {
      "text/plain": [
       "u'check'"
      ]
     },
     "execution_count": 253,
     "metadata": {},
     "output_type": "execute_result"
    }
   ],
   "source": [
    "vocab_frame.ix[terms[7048].split(\" \")].values.tolist()[0][0]"
   ]
  },
  {
   "cell_type": "code",
   "execution_count": 269,
   "metadata": {
    "collapsed": false
   },
   "outputs": [
    {
     "data": {
      "text/plain": [
       "'malpractice history holds'"
      ]
     },
     "execution_count": 269,
     "metadata": {},
     "output_type": "execute_result"
    }
   ],
   "source": [
    "terms[33679].encode('utf-8', 'ignore')"
   ]
  },
  {
   "cell_type": "code",
   "execution_count": 252,
   "metadata": {
    "collapsed": false,
    "scrolled": true
   },
   "outputs": [
    {
     "data": {
      "text/plain": [
       "[u'malpractice', u'history', u'holds']"
      ]
     },
     "execution_count": 252,
     "metadata": {},
     "output_type": "execute_result"
    }
   ],
   "source": [
    "terms[33679].split(\" \")"
   ]
  },
  {
   "cell_type": "code",
   "execution_count": 255,
   "metadata": {
    "collapsed": false
   },
   "outputs": [
    {
     "data": {
      "text/html": [
       "<div>\n",
       "<table border=\"1\" class=\"dataframe\">\n",
       "  <thead>\n",
       "    <tr style=\"text-align: right;\">\n",
       "      <th></th>\n",
       "      <th>words</th>\n",
       "    </tr>\n",
       "  </thead>\n",
       "  <tbody>\n",
       "    <tr>\n",
       "      <th>malpractice</th>\n",
       "      <td>NaN</td>\n",
       "    </tr>\n",
       "    <tr>\n",
       "      <th>history</th>\n",
       "      <td>NaN</td>\n",
       "    </tr>\n",
       "    <tr>\n",
       "      <th>holds</th>\n",
       "      <td>NaN</td>\n",
       "    </tr>\n",
       "  </tbody>\n",
       "</table>\n",
       "</div>"
      ],
      "text/plain": [
       "            words\n",
       "malpractice   NaN\n",
       "history       NaN\n",
       "holds         NaN"
      ]
     },
     "execution_count": 255,
     "metadata": {},
     "output_type": "execute_result"
    }
   ],
   "source": [
    "vocab_frame.ix[terms[33679].split(\" \")]"
   ]
  },
  {
   "cell_type": "code",
   "execution_count": 275,
   "metadata": {
    "collapsed": false
   },
   "outputs": [
    {
     "name": "stdout",
     "output_type": "stream",
     "text": [
      "Top terms per cluster:\n",
      "\n",
      "Cluster 0 words: check clear,\n",
      " malpractice history holds,\n",
      " background check clear,\n",
      " history holds,\n",
      " holds active,\n",
      " holds active medical,\n",
      "\n",
      "\n",
      "Cluster 0 titles: Paula Marcus, MD, Eve Faber, MD, Antonio Giancotti, MD, Hersha Diaz, PSYD, Griselda Bartha, MD, Grace Hennessy, MD, Kevin Cotterell, MD, Gregorio Sungcad, MD, Carlos Saavedra Vele, MD, Vicki Kalira, MD, Irene Shulga, MD, Deborah Petrone, MD, Daniel Rosell, MD, Irina Kiblitsky, MD, Yvanka Pachas, MD, Ralph OConnell, MD, Dinshaw Bamji, MD, June Christmas, MD, Charles Lee, MD, James Bernard, MD, Alan Engelberg, MD, Omar Pena, MD, Sharon Sageman, MD, Hamayun Ahmed, MD, Ho-Chong Chyu, MD, William Weiss, MD, Mehmet Tosyali, MD, Mikhail Nickita, MD, Jana Colton, MD, Gary Weinstein, MD, Jeffrey Schwam, MD, Ramotse Saunders, MD, Joon Chang, MD, Pervez Akhter, MD, Mark Finger, MD, Oksana Cohen, MD, Natasha Wallace, MD, Roger Wolfsohn, MD, M Sublette, MD, Ronald Brenner, MD, Linda Brady, MD, Richard Hess, MD, Richard Catanzaro, MD, Chaim Shtock, DO, Elsa Neilan, PhD, Francine Siegel-Stein, MD, Jill Wiener, MD, Charles Tolk, MD, Sharon Lee, MD, Madhu Rajanna, MD, Quazi Al-Tariq, MD, Renee Abt, MD, Warren Gold, MD, Christina Joy, MD, Marcos Hardy, MD, Tatyana Semenova, MD, Ritu Chandak, MD, Gregory Bunt, MD, Paula Constantinescu, MD, Jean Mastroti, MD, Jagadeesh Sindagi, MD, Stefan Rowny, MD, Jonathan Kane, MD, Zainab Hasan, MD, Marge Marash, MD, Evgeny Fink, MD, Tara Lovings, MD, Richard Weiss, MD, Delfin Ibanez, MD, Victor Kwong, MD, Vladimir Kasnar, MD, Luke Archibald, MD, Joseph Voigt, MD, Joanna Fine, MD, Saima Shafiq, MD, Ani Chouldjian-Baghdassarian, MD, Suzanne Mallouk, MD, Pierre Francois, MD, Seema Quraishi, MD, Elyse Weiner, MD, George Igel, MD, Dara Jamieson, MD, Lida Prypchan, MD, Anwarul Ahad, MD, Irina Surbnshanyan, MD, Jack Drescher, MD, Miklos Losonczy, MD, Samuel Rosenblum, DO, Carrol Longshore, MD, Lucas Sjulson, MD, Mustafa Ziyalan, MD, Edwin Cueva, MD, Mary Spitaletta, MD, Paul Jayson, MD, Denise Leung, MD, Stephen Goldfinger, MD, Kelly Brogan, MD, David Ludwig, MD, Isac Bechor, MD, Mohamad Al-Rashdan, MD, Desmond Heath, MD, Alicia Romeo, DO, Paul Magda, DO, Cristina Profumo, MD, Anna Balas, MD, Howard Gould, MD, Susan Lee, MD, Anna Maloratsky, MD, Amy Aloysi, MD, Shelly Menolascino, MD, Joshua Gordon, MD, Laurence Dopkin, MD, Leonid Vorobyev, MD, Stanislav Vorel, MD, Susana Lourido, MD, Luke Chang, MD, Stephanie Ho, MD, Anna Alayeva, MD, Louis Belzie, MD, Peter Wilson, CSW, Wilfrid Raby, MD, James Lynch, MD, Khalid Chaudhry, MD, Aaron Tansy, MD, Amarsingh Ghorpade, MD, Samuel Stroupe, MD, Barry Reisberg, MD, Marianne Ruggeri, PSYD, Jeffrey Guss, MD, Israel Klein, MD, Kara Lichtman, MD, Christian Maetzener, MD, Eleonora Rubin, MD, Charles Sarnoff, MD, Arnold Licht, MD, Karen Gilmore, MD, Bruce Schwartz, MD, Kathleen Levy, DO, June Yin, MD, Aafaque Akhter, MD, Colette Haward, MD, Alla Ostrovskaya, MD, Ralph Aquila, MD, William Gilson, MD, Philip Tasca, MD, Daniel Weiss, MD, Michelle Rottenstein, MD, Alan Wachtel, MD, Violet Nikac, MD, Jacob Messing, MD, Sander Koyfman, MD, Matthew Smith, MD, David Spinner, DO, Freddy Desormeaux, MD, Andrew Seidman, MD, Eric Weitzner, MD, Miriam Ewaskio, MD, William Barr, PHD, Sofia Zelichovskaya, MD, Nelly Katsnelson, MD, Pamela Saha, MD, Asher Aladjem, MD, William Roman, MD, Daniel Khaimov, MD, Ronald Fieve, MD, Agustin Gomez, MD, Ilana Zylberman, MD, Joseph Cousin, MD, Michael Zajfert, MD, Mikhail Manasherov, MD, Sheri Spirt, MD, Susan Samuels, MD, Glenn Kalash, DO, Seeth Vivek, MD, Chidi Achebe, MD, Francisco Gonzalez-Franco, MD, Melanie Sisti, MD, Hugh Polk, MD, Noel Taylor, MD, Annie Wu, MD, John Teusink, MD, David Kellman, MD, John Rotrosen, MD, George Wing, MD, George Amilo, MD, Cathy Budman, MD, Maha Ahmad, MD, Melvin Gilbert, MD, Eugene Burke, MD, Wayne Green, MD, Lev Kucher, MD, David Roane, MD, Alexander Pinkusovich, MD, Robert Naiman, MD, Zelimir Vukasin, MD, Thomas Damato, MD, Dimy Fluyau, MD, Joel Solomon, MD, Grant Brenner, MD, Adriana Mateoc, MD, Lober Cervantes, MD, Tarsha Hunter, MD, Clemens Heiderhoff, MD, Daniella Heller, MD, Joanna Knobler, MD, Michael Murphy, MD, Emad Mounir, MD, Hagop Gorgissian, MD, Eryn Oberlander, MD, Glenn Hirsch, MD, Lasha Khetsuriani, MD, Luba Phd, PhD, Moataz El Refaie, MD, Ofelia Villar, MD, Robert Freeman, MD, Pura Castillo, MD, Amit Razdan, MD, Matthew Doolittle, MD, Folake Oshodi, MD, Jonathan Aronowitz, MD, Alexandre Blaivas, MD, Irving Friedman, MD, Elena Kamenkovich, MD, Geraldine Orendain, MD, Maxine Ain, MD, Julie Holland, MD, Carlo Filiaci, MD, Juhi Chawla, MD, Monica Mehta, MD, David Gutman, MD, Mark Shif, MD, Lydia Fazzio, MD, David Wiley, MD, Ashok Saha, MD, Daniel Bauman, MD, Tahir Khan, MD, Anita Simons, CHt, OT, Azim Etemadi, MD, Milagros Feliciano, MD, Jeremy Winell, MD, Mirjana Blokar, MD, Jonathan Slater, MD, Kenneth Berc, MD, Jean Bien-Aime, MD, Henry Rochel, MD, Barney Vaughan, MD, Norton Nesis, MD, Cooper Md, MD, Dorothy Bryan, MD, Indira Patel, MD, Ileana Benga, MD, Shaheena Ahmed, MD, William Winter, MD, Rachelle Scott, MD, Kent Shinbach, MD, Raul Calicdan, MD, David Schwam, MD, Stefan Stein, MD, Jarred Zucker, MD, Theodore Jacobs, MD, Marlene Charles, MD, Richard Deucher, MD, Arthur Liebeskind, MD, Rochelle Zak, MD, Vania Castillo, MD, Francis Rathinapandian, MD, Jose Matias Del Toro, MD, Kalu Agwu, MD, Meriamne Singer, MD, Jorge Kirschtein, MD, Rajesh Patel, MD, Sophia Mason, NP, Mark Nathanson, MD, Doreen Zarfati, MD, Ronald Rawitt, MD, Edward Nersessian, MD, Ferdinand Banez, MD, Mukesh Sharoha, MD, Michelle Tricamo, MD, Gavin Friedman, MD, Marilyn Baron-Cane, MD, Deepika Singh, MD, Susan Gottlieb, MD, Stella Belyavsky, MD, Anna Rosen, MD, Lilian Belman, MD, Zinadia Lyuboff, MD, Susan Dellert, MD, Rachel Waxman, MD, Diane Rudolph, MD, Andrew Slaby, MD, Calvin Cruz, MD, Devdutt Nayak, MD, Nikhil Palekar, MD, Jonathan Howard, MD, Charles Ramesar, MD, Alex Pinkhas, MD, Robert Enriquez, MD, Steven Newman, MD, Sandip Sheth, MD, Elena Shteynfeld, MD, Andrew Adesman, MD, Sandra Cohen, MD, Luis Ang, MD, Yasmeen Kirmani, MD, Wayne Goodman, MD, Aimee Reinglass, MD, Muqtadir Mirza, MD, Charles Glatt, MD, Judith Shay, MD, Pierre Felix, MD, Lyudmila Kats, MD, Chung-Che Wang, MD, Christopher Richards, MD, Noel Almiron, MD, Warren Tanenbaum, MD, Benedict Tan, MD, Lorraine Lothwell, MD, Anna Fels, MD, Nabil Rezk, MD, Victoria Chen, MD, Inci Bijan, MD, Igor Khelemsky, MD, Jason Hershberger, MD, Joseph Vetrano, MD, Ronnie Swift, MD, Alan Kouzmanoff, MD, Diane Stone, MD, Samuel Pauker, MD, Miriam Vincent, MD, Natalie Gluck, MD, Ayse Hagmann, MD, Sol Rodriguez Medina, MD, Debjani Bhowmick, NP, Peter Sunenshine, MD, Yen Chong, MD, Elizabeth Getter, MD, Matonah Rubin, MD, Andrey Rusetskiy, CSW, Zinovy Kozlov, MD, Kavita Vasu, MD, Mauricio Murillo, MD, Miodrag Ristich, MD, Mercedes Brito, MD, Muhammad Islam, MD, Paul Gusmorino, MD, Daniel Chen, MD, Sean Allan, MD, Lissette Leon, MD, Phillip Romero, MD, Scot McAfee, MD, Agnes Wilkie, MD, Jay Foote, MD, David Robbins, MD, Virginia Robles, PhD, James Peloquen, MD, Kah Goh, MD, Mira Shin, MD, David Gandler, MD, Pierre Joseph, MD, Rosemarie Cropper, DO, Ofelia Fule, MD, Lorena Grullon-Figueroa, MD, Tanya Weisman, MD, Bruce Gilbert, MD, Gregory Asnis, MD, Saroj Srivastava, MD, Mercedes Estrella, MD, Lisa Turtz, MD, Stephen Teich, MD, Isak Isakov, MD, James Chang, MD, Dan Lucian Dumitru, MD, Gloria Thambirajah, MD, Norman Sussman, MD, Ellen Glass, MD, Moise Plantin, MD, Usha Tandon, MD, Fernando Mejia, MD, Charita Hoyle-Parr, MD, Jose Arvizu Olvera, MD, John Walkup, MD, Evelyn Rosen, MD, Faina Chachko, MD, Ruth Cohen, MD, Karthik Sivashanker, MD, Sheung-Chi Ng, NP, David Yamins, MD, Joseph Carmody, MD, Mark Novick, MD, Carmen Leon, MD, Archna Sarwal, MD, Emelita Mendoza, MD, Young Kim, MD, John Graham, MD, Ying Wong, MD,\n",
      "\n",
      "Cluster 1 words: successfully passed malpractice,\n",
      " licenses successfully,\n",
      " medical licenses successfully,\n",
      " passed malpractice,\n",
      " hold,\n",
      " hold active,\n",
      "\n",
      "\n",
      "Cluster 1 titles: Ludmila Davidov, MD, Faiq Hameedi, MD, Igor Gavrilovic, MD, Jason Kim, MD, Rita Clark, MD, Adi Loebl, MD, Anne Griffin, MD, Michael De Meo, MD, Gary Kennedy, MD, Aran Degenhardt, MD, Annupriya Itteera, MD, Irving Fish, MD, Sorin Bircea, MD, Felicisima David-Quines, MD, Sady Sultan, MD, Evelyn Attia, MD, Jagga Alluri, MD, Robert McCue, MD, Joseph Clerisme, MD, Erlenda Falconer, NP, Marina Feygin, MD, Karamchand Rameshwar, MD, Amjad Hindi, MD, Robert McMullen, MD, Pik Yung, MD, Joseph Squitieri, DO, Scott Hirsch, MD, Nimer Iskandarani, MD, Alan Aron, MD, Carisa Kymissis, MD, Rubina Waheed, MD, Joan Trachtenberg, MD, Lenard Adler, MD, Marie Fils-Aime, MD, Hector Coll Ruiz, MD, Jamal Kobeissi, MD, Lynda Mandell, MD, Edgar Velazquez, MD, Anna Holmgren, MD, David Fedoronko, MD, Iskander Enikeev, MD, Richard Gersh, MD, Sherwood Waldron, MD, Santapuri Rao, MD, Michael Porder, MD, Don Kerson, MD, Sarah Ricketts, MD, Joel Gonchar, MD, Panagiota Md, MD, Jeanne Goodman, MD, Leonard Deutsch, MD, Benjamin Bukholts, MD, Rizalina Fernandez, MD, Heather Lewerenz, MD, Jon Stiffler, MD, Marin Bucevic, MD, William Sommer, MD, Gabriela Centurion, MD, Vasundhara Kalasapudi, MD, Hilda Mascaro, MD, Ritesha Krishnappa, MD, Ilana Kochen, MD, Yashushi Iwata, James Ward, MD, Margaret Hertzig, MD, Marianne Guschwan, MD, Phoebus Dhrymes, MD, Sanford Herman, MD, Theodore Shapiro, MD, Melanie Schwarz, MD, Nicolas Du Mont, MD, Carlos Almeida, MD, Bryan Bruno, MD, Nancy Needell, MD, William Tucker, MD, Joseph Yuen, MD, Tanveer Ahmed, MD, Vadim Azbel, MD, Bruce Lieberman, MD, Jesse Rosenthal, MD, Efe Edhomeriegue, MD, Naira Ambarian, DO, Martin Drooker, MD, Abe Chutorian, MD, Angela Chan, MD, Richard Crummer, MD, Leonardo Vando, MD, H Grant, MD, Teresa Gil, MD, Sofya Kagan, MD, Michael Amoashiy, MD, Eliseo Go, MD, Robert Pilosov, MD, Adriana Buga, MD, Douglas Van Der Heide, MD, Michael Nett, MD, Matthew Ebben, PHD, Marianne Moore, NURSEPRACTITIONER, Derek Chong, MD, Malini Singh, PhD, Lawrence Bryskin, MD, Steven Bluestine, MD, Todd Loftus, MD, Alicia Hurtado, MD, Seymour Rothman, MD, Andrew Yood, MD, Michael Bernot, MD, Katherine Grimm, MD, Mary Massie, MD PHD, Alicia Skarimbas, MD, Joshua Dorsky, MD, Jennifer Cross, MD, Robert Wolski, MD, Sherif Sami, MD, Themistoc Protopsaltis, MD, Michael Reinhardt, MD, Theodore Cohen, MD, Yevgenia Aronova, MD, Marco Pappagallo, MD, Andrew Brotman, MD, Rona Miller-Muntner, PSYD, Elizabeth Feingold, MD, Philip Bialer, MD, David Strauss, MD, Dmitry Zhukovski, DO, Oleg Isakov, MD, Karelyn Cruz, PhD, Victor Hernandez, MD, Jeffrey Fine, MD, John Crow, MD, Martin Wilner, MD, Vsevolod Rudoy, MD, Joe Baez, MD, Michel Vington, MD, Michael Goldberg, MD, Betsy Bittman, MD, James Charles, MD, Dara Cho, MD, Michael Hutchinson, MD, Laurie Vitagliano, MD, Marie Weinberger, MD, Henry Paul, MD, Jessica Daniels, MD, Alejandra Durango, MD, Jimmie Holland, MD, Sidney Lee, MD, Pablo Sanchez-Barranco, MD, Joseph Napoli, MD, Daniel Crane, MD, William Head, MD, Saloni Wadia, MD, Hilda Castillo, MD, Leonard Rubin, MD, Rebecca Siegel, MD, Milica Stefanovic, MD, David Meryash, MD, Jennifer Velander, MD, Yaakov Stern, PhD, Naresh Rao, DO, Azziza Bankole, MD, Clarice Kestenbaum, MD, Eduardo Leonardo, MD, David Kreditor, MD, Jasmeet Gill, MD, Sarah Nayeem, MD, Ana Ozdoba, MD, Michael Grin, MD, Gregory Pelton, MD, Asm Choudhury, MD, Kevin Lam, MD, Daniel Leal, MD, Rubina Sharief, MD, Miguel Vilaro Colon, MD, Svetlana Beskina, DO, Michelle Friedman, MD, Tomer Levin, MD, Peter Shapiro, MD, Rose Marcus, MD, Christoph Sellars, DO, Carolyn Benson, MD, Fernando Taveras, MD, Lisa Dixon, MD, Ann Beeder, MD, Stephen Nicholas, MD, Ilene Zwirn, MD, Gail Berry, MD, Mitchell Newmark, MD, Yaser El Gazzar, MD, Aruna Agni, MD, Judith Gold, MD, Alphonse Osinski, MD, Katherine Sundstrom, MD, Jin Han, MD, Diana Feldman, MD, Leon Valbrun, MD, Leopold Bolona, MD, Ranu Boppana, MD, David Jonas, MD, Beata Lewis, MD, Cynthia Pfeffer, MD, Alex Weintrob, MD, Jay Rohrlich, MD, Marina Auerbach, MD, Yasmin Collazo, MD, Ahron Friedberg, MD, Bella Schanzer, MD, Susan Vaughan, MD, Istvan Boksay, MD, Stanley Kaster, MD, Devendra Kurani, MD, Alan Manevitz, MD, Qiuxia Lan, MD, Igor Kirzhner, MD, Barbara Gordon, MD, Neal Cohen, MD, Michael Lott, MD, Marcos Fe-Bornstein, MD, Thomas Cullinan, PhD, Ewa Kozikowska, MD, Jeffrey Berman, MD, Joseph Ewa, MD, Lauren Kotcher, MD, Nancy Forman, MD, Peritz Levinson, MD, Melissa Ozga, DO, Anna Shostak, MD, Jawad Bajwa, MD, Elizabeth Fitelson, MD, Gerald Goldstein, MD, Lewis Fox, MD, Sarah Hartman, MD, Susan Abbott, MD, Raymond Tam, MD, Yakov Semenov, MD, Mervat Estefanos, MD, Tomonori Nakagama, MD, Steven Lee, MD, Hla Tun, MD, Vladimir Kramskiy, MD, Joel Idowu, MD, Richard Rosenthal, MD, Yu Yang, MD, Mario Gustave, MD, Michael Stubblefield, MD, Leo Dela Cruz, MD, Hugh Bases, MD, Jennifer Bernstein, MD, Jay Friedman, MD, Richard Wong, MD, Julia Najara, MD, Livia Beck, MD, Adam Wolkin, MD, Seth Aidinoff, MD, Gifty Tokponwey, MD, Gabriel Katz, MD, Reinaldo Vera, MD, Daniel Friedman, MD, Gavi Hollander, DO, Ernesto Ferran, MD, Juanaelena Garcia, MD, Alfredo Fiad, MD, Max Bulmash, MD, David Ginsberg, MD, James Fraiman, MD, Mario Hasaj, MD, Seokkoon Cho, MD, Stephen Firestein, MD, Leonid Shegelman, MD, Vikas Varma, MD, Sudharam Idupuganti, MD, Alexander Deutsch, MD, Marion Eakin, MD, Indhira Almonte, MD, Jean Francois, MD, Pedro Gaztanaga, MD, Burton Lerner, MD, Vatsal Thakkar, MD, Roxana Ruizcaro-Chavez, MD, David Kahn, MD, Alexandra Sporn, MD, Pinakini Shah, MD, Stanley Turecki, MD, Sharmeen Sultana, MD, Meredith Wong, MD, Elena Adan, MD, Barry Magid, MD, William Breitbart, MD, Kathleen Young, MD, Beverly Pazur, MD, Kevin Oeffinger, MD, Joel Breving, MD, Stanley Portnow, MD, Luis Monge, MD, Yvonne Roque, MD, Nurur Rahman, MD, Seyed Hashemi, MD, Titus Okunlola, MD, Alexander Kalogerakis, MD, Serge Mitelman, MD, Karen Hopkins, MD, Manuel Furer, MD, Brett Blatter, MD, Grisco Blanco, MD, Arnaldo Gonzalez-Aviles, MD, Shang Liu, MD, Charles Nnadi, MD, Jaweed Husain, MD, Matthew Holden, MD, Jonathan Amiel, MD, Hilda Brewer, MD, Edward Fruitman, MD, Charles Barron, MD, Christopher Torres, PA, H Jonathan Polan, MD, Michael Hannon, MD, Stephen Glassberg, MD, Nicolas Katz, MD, Rajasekhar Addepalli, MD, Jill Jacobson, MD, Harland Kessaris, PhD, Andrew Chen, MD, Jeanie Tse, MD, Ronald Dematteo, MD, David Woo, MD, Andrew Roth, MD, Nnamdi Maduekwe, MD, Pritesh Shah, MD, Federico Zuniga, MD, Mayu Gonzales, MD, Jennifer Finkel, MD, Eric Rubin, MD, Thomas Chiu, MD, Vanessa Mejias-Hiraldo, MD, Szymon Hyzak, MD, Hazel Goodwin, MD, Stanley Bone, MD, Robert Goldstein, MD, Silvana Riggio, MD, Antoine Adam, MD, Tatyana Poblaguyev, MD, Richard Brown, MD, Alan Zients, MD, Dexter Sun, MD, Julian Clark, MD, Elizabeth Haase, MD, Jonathan Slyker, PhD, John Tsiouris, MD, Ana Glick, MD, Alexander Kolevzon, MD, Rachel Matoto, PSYD, Alfred Wiener, MD, Vicente Ruiz, MD, Kenneth Rosenberg, MD, Herbert Kleber, MD, Fatih Ozbay, MD, Joseph Safdieh, MD, Victoria Paz, MD, Laura Amram, MD, Tatyana Nagoranaia, MD, Andrew Kolodny, MD, Maxim Frenkel, MD, Regan Stanger, MD, Joan Gold, MD, Yissell Delvalle, MD, Dalia Olivier, MD, Edward Nunes, MD, Wei Wang, MD, Julia Kearney, MD, Jordan Klesmer, MD, Lincoln Bickford, MD, Adriana Notarfrancesco, MD, Tatyana Glezerman, MD, George Makari, MD, Jeffrey Lieberman, MD, Tricia Lipani, PhD, Natasha Chriss, MD, Ariane Schnek, MD, George Rowan, MD, Alex Mikhelson, MD, Robert Meislin, MD, Kosmas Paleos, MD, Lyudmila Lvov, MD, Marianna Dogot, MD, Michael Mahelsky, MD, Alan Carver, MD, Ljiljana Radulovic, MD, Edwin Robbins, MD, Joseph Lux, MD, Amanda Itzkoff, MD, Sam Vergara, MD, Daniel Mierlak, MD, Anthony Pietropinto, MD, Roberto Estrada, MD, Matthew Lissak, MD, Henry McCurtis, MD, Darla Bjork, MD, Niveditha Meghadri, MD, Aaron Pinkhasov, MD, George Nodarse, MD, Elchin Gajiev, DO, Kenneth Tardiff, MD, David Rapoport, MD, Eleni Maloutas, MD, Franck Paul, MD, Lizica Troneci, MD, Michael Schwartz, MD, Peter Kim, MD, Juraj Lukac, MD, Vladimir Glauberson, MD, Robert Levine, MD, Mian Siddique, MD, Darlene Mitera, MD, Daniel Powsner, MD, Alexandra Canetti, MD, Eileen Difrancesco, MD, Emily Deringer, MD, Chloe Nims, MD, Lori Simon, MD, Bolaji Bankole, MD, Maren Langer, MD, Elizabeth Auchincloss, MD, Jeffrey Rosen, MD, Alina Marek, MD, Edward Shalts, MD, Inna Yuryev-Golger, MD, Marieliz Alonso, MD, Konstantin Nikiforov, MD, Mohammed Khan, MD, Steven Wager, MD, Charles Davis, MD, Leslie Vogel, MD, Margarita Cala, MD, Aleksey Ten, MD, Giovanny Nunez, MD, William Jones, MD, Faouzia Barouche, MD, Arturo Marrero Figarell, MD, Hector Goa, MD, Kirk Patterson, MD, Alina Segura-Bustamante, MD, Miriam Zincke, MD, Elhav Weinstein, MD, Mark Wallace, MD, Hunter McQuistion, MD, Andre Strizhak, MD, Julio Ballestas, MD, Brunhild Kring, MD, Kaleb Yohay, MD, William Frosch, MD, Brent Chabus, MD, Shawna Newman, MD, Eric Kim, MD, Abdelouahed Elmouchtari, MD, Diane McLean, MD, Mary Sciutto, MD, Matthew Rottnek, MD, Maureen Martino, MD, Helen Muhlbauer, MD, Maria Khusid, MD, Jennifer Halper, MD, Michelle Williams, MD, Jeanette Cueva, MD, Robert Andrews, MD, Joan Prudic, MD, Yuri Brosgol, MD, Johanna Fifi, MD, Sibylle Wallace, MD, Sarah Auchincloss, MD, Joanne Ahola, MD, Sudhir Gadh, MD, Rajan Patel, MD, Javier Garcia, MD, Christopher Leggett, PhD, Arthur Sinkman, MD, Manish Verma, MD, Jack Hirschowitz, MD, Maria Oquendo, MD, Richard Hoetzel, MD, Nauman Ashraf, MD, Wendy Moyal, MD, Rose Michael, MD, Jean Chen, LCSW, Amara Mallik, DO, Amalia Merson, MD, Joanne Foster, MD, Anna Kogan, MD, Antoine Pierre, MD, Benjamin Brody, MD, Raquel Choua, MD, Federico Lorenzana, MD, Lauralyn Fredrickson, MD, Rittika Banerjee, MD, P. Anne McBride, MD, Brian Buggie, MD, Thomas Mick, MD, Miguel Figueroa, MD, Gerard Salomon, MD, Jessica Evelson, MD, Alene Strahan, MD, Peiti Cai, MD, James Squires, MD, Eve Leeman, MD, Idalia Cruz, MD, Anna Costakis, MD, Fiona Graham, MD, Leighton Brooks, MD, David Reynolds, MD, Basilio Cordoba, MD, Yuan Chen, MD, Brian Trappler, MD, Bernard Salzman, MD, Edward Paul, MD, Dimitris Placantonakis, MD, Stacy Yearwood, MD, Paul Glare, MD, Julia Becker, MD, Steven Goldman, MD, Jeremy Coplan, MD, Erlinda Dalao-Gagan, MD, Mona Ismail, MD, Olga Rakhlin, MD, Claude Mellins, PHD, Steven Banat, MD, Azariah Eshkenazi, MD, Harold Bronheim, MD, Aaron Miller, MD, Lori Sidman, MD, Robert Morrison, MD, Richard Malen, MD, Samuel Dunkell, MD, Francis Hayden, MD, Valerly Chernov, MD, Derek Tate, MD,\n",
      "\n",
      "Cluster 2 words: looked elements,\n",
      " background check looked,\n",
      " screening history,\n",
      " elements including medical,\n",
      " malpractice screening history,\n",
      " check looked elements,\n",
      "\n",
      "\n",
      "Cluster 2 titles: Zana Dobroshi, MD, Daniel Sanchez, MD, Sook Lim, MD, Carol Weiss, MD, Paula Eagle, MD, Narendra Patel, MD, Khandaker Taher, MD, Eric Rueth, MD, Elspeth Reagan, MD, Maura Pedroso, MD, Luis Ripoll, MD, Rachel Michaels, MD, Mary Aseniero, MD, Magdalena Spariosu, MD, Emily Gastelum, MD, Alkesh Patel, MD, Mihai Iordache, MD, David Preven, MD, Melissa Nishawala, MD, Miron Baron, MD, Joe-Cephus Brewster, MD, Elise Feldman, PhD, Elise Richman, MD, Franklin Russek, MD, Zuzana Gyure, MD, Luis Marcos, MD, Diane Chu, MD, Frank Thompson, MD, Hayley Cort, MD, Oanghkarjit Buttar, MD, Jeffrey Fishberger, MD, David Kraus, MD, Sharon Jaynes, MD, Yvonne Kury, MD, Joseph Nieder, MD, Lauretta Feldman, PA, Hasan Miraj, MD, Nyapati Rao, MD, Rosemary Daniele, NP, Ada Nicolescu, MD, Van Yu, MD, Thomas Betzler, MD, Luis Garza, MD, Patrick Ying, MD, Jeffrey Bouchard-Burns, MD, Frank Santos, MD, Myriame Joseph, MD, Jo Desantis, MD, Oscar Sandoval Castellanos, MD, Brian Ladds, MD, Ewald Antoine, MD, Hana Rostain, MD, Daniel Feuer, MD, Ammar Sara, Lyzette Velazquez, MD, Christine Chang, MD, Bradford Goff, MD, Syed Hussain, MD, Leon Bernhardt, MD, Lester Friedman, MD, Jorge Otero, MD, Eugene Goldberg, MD, Reza Amighi, MD, Alisa Turok, MD, Leonid Izrayelit, MD, Roger Brunswick, MD, Bennett Cohen, MD, Sherry Katz-Bearnot, MD, Sun Foo, MD, William Belfar, MD, Maria Dolgovina, MD, Bruce Levine, MD, Renata Dudzicz-Slowik, MD, Manuela Zisu, MD, Robert Jean-Bart, MD, Paul Mozley, MD, Mercedes Rodriguez-Diaz, MD, Ashraf Elshafei, MD, Mallay Occhiogrosso, MD, Joanne Festa, PHD, Taghogho Agarin, MD, Akhil Shenoy, MD, Kang Yu, MD, Joanna Chapin, MD, Indroneil Mukerji, MD, Amy Mednick, MD, Emmanuel Nierva, MD, Eva Altobelli, MD, Genrietta Malkinzon, MD, Naalla Schreiber, MD, Hocametor Gbeasor-Carter, MD, Roman Pabis, PhD, Sujatha Charlu, MD, Anita Bookey, MD, Shama Rasool, MD, Edward Huey, MD, Andrew Goodman, MD, Aleksandra Djukic, MD, Gabrielle Silver, MD, Ramsing Pardeshi, MD, Jeffrey Feola, MD, Alessandra Scalmati, MD, Arthur Perlman, MD, Amany Galal, MD, Paul Podell, MD, Anne Buchanan, DO, Yana Serobyan, DO, John Lines, MD, Makar Gadalla, MD, Anthony La Monaca, MD, Trecia Doyle, MD, Ruth Gerson, MD, Wendy Cohen, MD, Pascale Moraille, MD, David Marsh, MD, Kessarin Panichpisal, MD, Shari Lusskin, MD, Maria-Vic Agarin, MD, Robert Scharf, MD, Benjamin Feldshuh, MD, Beata Dygulska, MD, Anand Desai, MD, Jay Falk, MD, Jane Davidson, MD, John Abulu, MD, Jerry Chang, MD, David Klapper, MD, Abby Fyer, MD, Kenneth Jungblut, MD, Jay Finkel, MD, Celia Purugganan, MD, Philip Wilner, MD, Claudio Vazquez, MD, Gerardo Posada, MD, Vinod Kapoor, MD, Michelle Kanaley, MD, Vlad Kononchuk, MD, Salim Hussain, MD, Ingram Cohen, MD, Mohamed Eldefrawi, MD, Paul Salkin, MD, Fred Kho, MD, Katherine Bradshaw, MD, William Florio, MD, Christine Yhap, MD, Robert Rubenstein, MD, Salim Al-Salem, MD, David Inwood, MD, Alexis Bisangwa, MD, Michael Cunningham, MD, Andrew Tucker, PhD, Aarti Mehta, MD, Larry Kirstein, MD, Joseph Nissenfeld, MD, Alla Akivis, MD, Javier Senosiain, MD, Marilena Jennings, MD, Lyle Rosnick, MD, Robert Cancro, MD, Aaron Lord, MD, Upendra Bhatt, MD, R Lowe, MD, Elisabeth Lescouflair, MD, Richard Goldsmith, MD, Philip Yanowitch, MD, Gabriela Hayes, Paul Hriso, MD, Samuel Abrams, MD, Niesha Westmoreland, MD, Michael Surko, PhD, Ruth Geller, MD, Juan Baturone, MD, Karneya Ancselovits, MD, Jan Roda, MD, Eleonora Stotland, DO, Allen Collins, MD, Ian Goldberg, MD, Adela Gerolemou, DO, Paul Browde, MD, Ulla Laakso, MD, Alyson Gutman, MD, Rina Patel, MD, Carolina Nisenoff, MD, Jasjit Singh, DO, Vilor Shpitalnik, MD, Kingsley Nwokeji, MD, Shilpa Upadhyay, MD, Sreenivasa Sanikam, MD, Narasimhan Narasimhan, MD, Jonathan Rosenfeld, MD, Nancy Rubenstein, MD, Richard Benson, MD, Jeffrey Levine, MD, Hyacinth Williamson, MD, Christian Gonzalez, MD, Elizabeth Grill, PSYD, Samantha Miller, MD, Maria Mora, MA, Roberto Depaula, MD, Maria Garcia, MD, Joseph Charles, MD, Miriam Berrios, MD, Raihana Khorasanee, MD, Sheela Shenoy, MD, Serena Volpp, MD, Sarah Gleacher, MD, Shushan Hovanesian, MD, Yelena Davydov, MD, Pui Wong, MD, Tiffany Cummins, MD, Aysar Fathallah Mammo, MD, Tamara Lazenby, MD, Noam Eitan, MD, Alan Hilfer, PhD, Victor Rodack, MD, Simeon Feinberg, MD, Kathleen Quinlan, MD, Dario Shuster, MD, Carl Cohen, MD, William Tomlinson, MD, Tariq Mahmood, MD, Tatianna Polonsky, MD, Christian Eyiuche, MD, Sarabjit Singh, MD, Lynn Kennedy, LCSW, Frederick Long, MD, Marvin Nienaltow, MD, Deval Zaveri, MBBS, Jean Guy Elie, MD, Arthur Schore, MD, John Jacobs, MD, Gabriel Kaplan, MD, Catherine Canary, MD, Xenia Protopopescu, MD, Daniel Bascara, MD, Jon Slaughter, MD, Margaret Goni, MD, Perry Branson, MD, Lynn Burkes, MD, Candace Erickson, MD, Gordon Strauss, MD, Ruth Tsivkin, MD, Norma Dunn, MD, Milton Wainberg, MD, John Barnhill, MD, Nader Galal, MD, Royston Cruickshank, MD, Jenny Weis, MD, Espiridio Elio, MD, Nora Mangunay, MD, Deborah Hamm, MD, Rehan Malik, MD, Gary Gosselin, MD, Feng Liu, MD, Sean Luo, MD, Isaac Bampoe, MD, Jose Soto-Perello, MD, Frantz Lubin, MD, Roberto Gil, MD, Rosa Negron-Munoz, MD, Anna Kharitonova, DO, Jean Tropnas, MD, Agdel Hernandez Colon, MD, Eric Segal, MD, Brian Sands, MD, Pochu Ho, MD, Lourdes Dominguez, MD, Carrie Ernst, MD, Iraida Kazachkova, DO, Ira Jasser, MD, Linda Freeman, MD, Eugene Fulop, MD, Edita Raagas, MD, Ramaseshu Anne, MD, Robert McMyne, MD, Stephen Herman, MD, Tom Kearns, LMSW, Margaret Altemus, MD, Annette Hollander, MD, Sarjak Mehta, MD, Douglas Luce, MD, Robert Reich, MD, Abraham Taub, DO, Donna Moreau, MD, Sheryl Kho, MD, Serena Wong, MD, Arkady Bilenko, MD, Stephanie Barnhart, MD, Mansoor Khan, DO, Erica Goorevich, MD, Celia Blumenthal, MD, Jean-Marie Alves-Bradford, MD, Michael Combs, MD, Revathi Shanmugham, MD, Erwin Ting, MD, Barry Feinberg, MD, Sharat Parameswaran, MD, Alfredo Nudman, MD, Edward Caruso, MD, Amita Shetty, MD, Ranjit Mitra, MD, Ruth Deutsch, MD, Nissan Shliselberg, MD, Robert Grayson, MD, Jing Wang, MD, Francis Campbell, MED, Laura Josephs, PhD, Douglas Ingram, MD, Andrea Norton, MD, Jennifer Downey, MD, Jun Li, MD, Vinod Bhashyam, MD, Dusan Pekovic, MD, Susan Kotlier, MD, Zafar Sharif, MD, Patricia Leebens, MD, Anthony Carino, MD, Eve Sullivan, MD, Jorge Quintana, MD, Monica Bilboul, PhD, Michael Siegell, MD, Shawn Allen, MD, Yael Rappeport, MD, Anthony Patterson, LMHC, Virginia Contreras, MD, Richard Hersh, MD, Charles Winkelstein, MD, Daniel Goodman, MD, Pablo Villegas, MD, Jane Asch, MD, Mandy Habib, PSYD, Peter Howland, MD, Paola Carugno, MD, Cathy Friedman, MD, Bertholet Desir, MD, Stephen Ross, MD, Michael Grody, MD, Elvin Ruiz, MD, David Sawyer, MD, Jessy Colah, MD, Joseph Dilullo, MD, Doreen Stewart, PhD, Sheena Chenthitta, MD, Doreen Han-Faver, MD, Diana Sandberg, MD, William Rush, MD, Jithender Reddy, MD, Hasina Haroon, MD, Lynda Smith-Harris, MD, Richard Charles, DO, Jack Dehovitz, MD, Syed Ibrahim, MD, Elizabeth Wolff, MD, Ruth Milanaik, DO, Salvatore Ambrosino, MD, Nora Brockner, MD, Sandip Buch, MD, Cesar Leon, PhD, France Chaput, MD, Arnold Rosen, MD, Rahim Rahemtulla, MD, Ingrid Gomez, LCSW, Francis Lee, MDPHD, Arnold Richards, MD, Krishna Bezwada, MD, Joseph Jean-Francois, MD, Barry Holzer, MD, Antonio Beltramini, MD, Romana Coste, MD, Jeffrey Goldberg, DO, Charles Celian, MD, Michel Joseph, MD, Henry Nunberg, MD, Bruce Phariss, MD, Richard Key, MD, Evelyn Howanitz, MD, Seung Lee, MD, Margaret Donat, MD, John Burgess, MD, Lilliana Aponte-Yap, MD, Charles Cartwright, MD, David Albert, MD, Farokh Tarapore, MD, Asher Simon, MD, Jason Liu, MD, Adele Munsayac, MD, Tamar Hanfling, MD, Michael Myers, MD, Alla Iospa, MD, Anita Lim-Shaw, MD, Gregory Alsip, MD, Luz Cervantes, MD, Kanchana Roychoudhury, MD, Jeffrey Rubin, MD, Matthew Warren, MD, Jan Schuetz-Mueller, MD, Malika Seth, MD, Yakov Raufov, MD, Richard Winters, MD, Roy Lubit, MD, Allen Lebovits, PhD, Moira Rynn, MD, Luz Green, MD, Htet Linn, MD, Bernard Wyszynski, MD, Samuel Langer, MD, Marvin Kaplan, MD,\n",
      "\n",
      "Cluster 3 words: neurology,\n",
      " psychiatry neurology,\n",
      " psychiatry psychiatry neurology,\n",
      " medicine psychiatry neurology,\n",
      " medicine psychiatry,\n",
      " medicine,\n",
      "\n",
      "\n",
      "Cluster 3 titles: Damian Kim, MD, Marguerite Lederberg, MD, Yelena Belyayeva, MD, Thomas Wisniewski, MD, John Naliyath, MD, Inessa Meyerovich, MD, Nikolaos Papamitsakis, MD, Judith Ebenstein, MD, Silvia Hafliger, MD, Mahendra Somasundaram, MD, Chilvana Patel, MD, Wali Mohammad, MD, Zinaida Luft, MD, Nils Petersen, MD, Scott Berger, MD, Boris Konnikow, MD, Subhash Chandra, MD, Michael Trapido, MD, Ifeanyi Mbbs, MBBS, Jerome Posner, MD, Paul MacCabee, MD, Esther Kim, MD, Christopher Janusz, MD, Caroline OBrien, MD, Catherina Litkei, Howard Crystal, MD, Manuel Santos, MD, Zimri Yaseen, MD, Swarnamba Mani, MD, Kina Cliette, MD, Inna Markhasina, MD, Parvesh Sharma, MD, Miriam Friedlander, MD, Seymour Solomon, MD, Chuan Chang, MD, Martin Sadowski, MD, Kyle Lapidus, MD, Dora Cardenas, MD, Thomas Perera, MD, Aleksandr Zverinskiy, MD, Vyas Persaud, MD, Maryanne Desantis, MD, Qi Hu, MD, David Feuer, MD, Edward Barias, MD, Anna Potash, MD, Eric Yarbrough, MD, Carmelo Pingol, MD, Syed Hussaini, MD, Sylvia Reyes, MD, Matthew Schwartz, MD, David Levine, MD, Lama Bazzi, MD, Adolfo Kizer, MD, Carol Bernstein, MD, Munaza Khan, MD, Eduardo Bondoc, MD, Eileen Sweeney, MD, Emery Berczeller, MD, Brijesh Malkani, MD, Anna Delios, MD, Francisco Linares Alvarenga, MD, Yvonne Waldemar, MD, Betty Lau, MD, Andreas Neophytides, MD, Robert Walter, MD, Pierre Arty, MD, Elpidio Garcia, MD, Howard Berkowitz, MD, Dara Heinlein, NP, Ron Ben-Meir, DO, Pamela Ingber, MD, Howard Sander, MD, Jorge Londono, MD, Kaj Neve, MD, Eileen Kemether, MD, Christina Gerdes, MD, Ruben Gonzalez, MD, Dharmesh Patel, MD, George Vas, MD, Wil Berry, MD, Nelya Tarnovetskyy, MD, Dr Md, MD, Katya Frischer, MD, Gloria Roldan, MD, Beatriz Gonzalez Abella, MD, Mitchell Butin, MD, Robert Haskell, MD, Evan Fertig, MD, Leonid Shkolnik, MD, Richard Young, MD, Urszula Kopec, MD, Allison Lee, MD, Akila Venkataraman, MD, Tom Asfar, MD, Lorenzo Santos Gutierrez, MD, Sophia Sharfstein, MD, Daniel Roman, MD, Ivan Bodis-Wollner, MD, Sonya Lazarevic, MD, David Prince, MD, Jeffrey Hamblin, MD, Roger Cracco, MD, Frances Lee, MD, Jose Torrijos, MD, Alan Tusher, MD, Rafael Michel, MD, Steven Pavlakis, MD, Robert Delgado Jr, MD, Michael Dulchin, MD, Andrei Nagorny, MD, Leslie Seiden, MD, Tresa McSween, MD, Kalpana Mehta, MD, Karthikey Arcot, MBBS, James Jeng, MD, Vladimir Ginzburg, MD, Arkady Barenboim, MD, Miriam Galescu, MD, Daniel Labovitz, MD, Rolando Hong, MD, Laura Clarke, MD, Zdena Rubin, MD, Anna Yusim, MD, Steven Ferris, PHD, Saraswatiben Patel-Shrivastava, MD, Zlatin Ivanov, MD, Cathy Lore, MD, Jean Jacques, MD, Shanti Gooden, MD, Cynthia Millin, MD, Sukumar Rao, MD, Prameet Singh, MD, Ellen Tabor, MD, Edward Rendon, MD, Lidia Lidagoster, MD, Dan Giurca, MD, Jarrett Tosk, MD, Zorica Filipovic Jewell, MD, Terry Golash, MD, John Casarino, MD, Sharon Greene, MD, Inna Gabay, MD, Kenia Rachna, MD, Beth Silverstein, DO, Mark Alvarado, MD, Ram Shrivastava, MD, Juliann Paolicchi, MD, Yuliya Feygis, MD, Galina Stolina, MD, Derek Suite, MD, Iinna Shleymovich, MD, Paolo Manfredi, MD, Meir Spinner, MD, Radha Giridharan, MD, Claudine Egol, MD, John Lops, DO, Diane Carney, NP, Yuriy Kheyfits, MD, Joan Cracco, MD, Ami Baxi, MD, Aaron Rabin, MD, Jonathan Goldstein, MD, Eric Fremed, MD, Philip Saltiel, MD, Tamar Lavy, MD, Neil Goldman, MD, Sarasavani Jayaram, MD, Brian Anziska, MD, James McKnight, MD, Paul Corley, MD, Ramani Balu, MD, Jung Hahn, MD, Jianping Chen, MD, Sandra McGinty, PhD,\n",
      "\n",
      "Cluster 4 words: active screening,\n",
      " successfully passed background,\n",
      " medical license verification,\n",
      " active screening malpractice,\n",
      " verification active,\n",
      " background check including,\n",
      "\n",
      "\n",
      "Cluster 4 titles: Morgana Martinez, MD, Danijela Levacic, MD, Henry Kalir, MD, Uchenwa Okoli, MD, Annamae Conry, NP, Andrew Chan, MD, David Weng, MD, Fermin Gonzalez, MD, Karen Rosenbaum, MD, Shabnamzehra Bhojani, MD, Ornela Rehova, MD, Eugenia Guz, MD, Robert Glick, MD, Salvatore Savatta, MD, Ilana Nossel, MD, David Szuster, MD, Nancy Flores-Migenes, MD, Carli Klinghoffer, MD, Margarita Fuzaylova, MD, Deena Harris, MD, Dora Zaretsky, MD, Carlos Jusino-Berrios, MD, Robin Hamilton, MD, Thresiamma Nidhiry, MD, George Alvarado, MD, Martin Asnis, MD, Carlos Ortiz, MD, James Spikes, MD, Alice Siegel, MD, Lillian Colon, MD, Julie Penzner, MD, Aaron Stern, MD, Arthur Spielman, PhD, Amarjit Kaur, MD, James Maher, MD, Rebecca Smith, MD, Victoria Cressman, MD, Mitchell Rosenthal, MD, Richard Brent, MD, Steven Passik, PHD LP, Idan Sharon, MD, Nasser Sedaghatpour, MD, Mary Case, MD, Jonathan House, MD, Dylan Payne, DO, Martha Edelman, MD, Paul Pipia, MD, John Rosenberger, MD, Kenneth Cohen, MD, Valentina Nikulina, PhD, Nirmala Rajakumar, MD, Marc Dubin, MD, Claude Laniado, MD, Olga Evdos, MD, Tanzia Mustafa, MD, Donna Lewinter, MD, Sheldon Zimberg, MD, Robert Kertzner, MD, Marie Blaise, MD, Russell Joffe, MD, Laurie Gordon, MD, Alice Dibenedetto, MD, Richard Friedman, MD, Thulasi Reddy, MD, Anthony Surban, NP, Marina Cozort, MD, Harold Goodman, MD, Elizabeth Horwitz, MD, Lisa Sombrotto, MD, Gary Lefer, MD, Mitchell Nobler, MD, Jane Karp, MD, Andrew Trauben, MD, Katherine Maloy, MD, Kirsten Andersen, PhD, Milan Patel, MD, Evaristo Akerele, MD, Nina Freund, MD, Adam Turner, MD, Amal Saha, MD, Felix Sterling, MD, Lorenza Freddo, MD, Arkady Levitan, MD, Abraham Bartell, MD, James Wirth, MD, Alexandra Berger, MD, Joanne Caring, MD, Ramaswamy Viswanathan, MD, Lina Shah, MD, Vincent Okabekwa, MD, Atsuko Ishikawa, MD, Beatrice Spinelli, MD, David Leibow, MD, Claudia Smuglin, MD, Karin Friederwitzer, MD, Jose Sanchez Lacay, MD, James Golomb, MD, Delia Jano, MD, Karinn Glover, MD, Geeta Ganda, DO, Christopher Stone, MD, Frank Proscia, MD, Mark Wilson, MD, Gail Meisel, MD, Robert Nadrich, MD, Nicole Naggar, MD, Stuart Seidman, MD, Meri Nisimova, MD, Muriel Morris, MD, Steven Wein, MD, Josephine Wright, MD, Ira Bergman, MD, Alan Ravitz, MD, Li Lan, MD, Sheryl Hunter, MD, Moddy Kiluvia, MD, Shabnam Shakibaie Smith, MD, Julia Golier, MD, Mark Gurtovy, MD, Jennifer Blum, MD, Glenn Brottman, MD, Eldene Towey, MD, Yelena Mamedova-Braz, MD, Robert Davis, MD, Gloria Mtomboti, MD, Yakov Greenstein, MD, Eric Yu, DO, Maria Gomez, MD, Yanina Brayman, MD, Cynthia Barnes, MD, Andrea Clair, MD, Marina Galea, MD, David Trachtenberg, MD, Fadi Haddad, MD, Tarun Bhandari, MD, Mahsa Mehrazin, MD, Sylvia Karasu, MD, Ricardo Arango, MD, Gary Rusk, MD, Susan Matorin, ACSW, Eric Teitel, MD, Mate Milak, MD, Richard Lacy, MD, Xavier Miguel, MD, Jonathan Simhaee, MD, Seung Park, MD, Albert Galante, MD, Daniel Rosen, MD, Arthur Jacobs, MD, Damon Delston, MD, David Brody, MD, Billy Jones, MD, Jonathan Levin, MD, Felix Torres, MD, Marc Vital-Herne, MD, Maya Rao, MD, Miguel Brzostovski, MD, Manuel Trujillo, MD, James Herivaux, MD, Vladimir Gasca, MD, Viviane Lind, MD, Andrea Weiss, MD, Peter Chu, MD, Arnold Winston, MD, Carmencita Vicencio, MD, Matthew Schneider, MD, Pankaj Patel, MD, Kenneth Nakdimen, MD, Thomas Doyle, MD, Michelle Hirsch, MD, Hillery Bosworth, MD, Charles Luther, MD, Paul Smith, MD, Alexander Babayants, MD, Felix Dron, MD, James Kocsis, MD, Walter Furer, MD, M Miller, MD, Christina Garza, MD, Laurie Md, MD, Maureen Turey, MD, Joann Kopec, LCSW, Dmitry Malkin, MD, Urmi Vaidya-Mathur, LCSW, Makeda Jones, MD, Anu Upadhyay, MD, Hansel Arroyo, MD, Ali Mamun, MD, Yevgeniy Khaldarov, MD, Alison Hermann, MD, Shaheen Rahman, MD, Trevor Forbes, MD, Helen Valsamis, MD, Alain De La Chapelle, MD, Jose Amat, MD, Ravindra Amin, MD, Shilpa Thayyullathil, MD, Alexa Ponce, LMSW, Ronald Hellman, MD, Marthe Abraham, MD, Joel Hoffman, MD, Morton Sarlin, MD, Jianlin Xu, MD, William Wood, MD, Jeffrey Cole, MD, Jane Simon, MD, John Barsa, MD, Tuzeen Shakir, MD, June Mossop, MD, Steven Rubel, MD, Dinko Podrug, MD, Sharon Packer, MD, Michael Bernstein, MD, Vinod Dhar, MD, Mirela Toma, MD, Michael Kaplowitz, MD, Deborah Marin, MD, Shafiq Khokhar, MD, Malcolm Goring, MD, Mikyum Kim, MD, Carlos Tejera, MD, Raimonda Goldman, DO, Maria Linden, MD, Janet Taylor, MD, David Rosenbaum, MD, Stephen Lund, MD, Jack Levine, MD, Syed Ahmad, MD, Gary Laux, DO, Edmund Griffin, MD, Jaime Benitez, MD, Eric Gewolb, MD, Marina Sisakian, MD, David Matalon, MD, Jimmy Avari, MD, Danielle Parisi, DO, Engkock Tan, MD, Maurice Masse, MD, Vaibhav Bhatia, MD, Michael Alpert, MD, Raman Patel, MD, Guillermo Santiago, MD, Claudia Iordache, MD, John Heussy, MD, Scott Aftel, MD, Robert Hessler, MD, Frank Reyes, MD, Ida Escovar, MD, Clarisa Atencio, MD, Theodore Strange, MD, Marwa Ahmed, MD, Karen Ballaban-Gil, MD, Judith Blitman, MD, Gayle Goren, MD, Ching-Yi Tan, MD, Alison Sullivan, MD, Sangeet Khanna, MD, Sanjeev Kothare, MD, Anurita Chatterjee, MD, Andrew Anson, MD, Michael Gray, MD, Syed Hasan, MD, Zachary Freyberg, MD, Jimmy Chen, MD, Satish Reddy, MD, Reza Taghavi Ardakany, MD, Martin Hurwitz, MD, Richard Frances, MD, Sally Habib, MD, Barbara Bartlik, MD, Le-Ben Wan, MD, Matthew Lorber, MD, Melvyn Schoenfeld, MD, Abigail Herron, DO, Ceri Hadda, MD, Angel Alcantara, MD, Timothy Kreider, MD, Charles Entelis, MD, Diane Lanier, MD, Carlotta Schuster, MD, Margaret Yoon, MD, John Leikauf, MD, Talya Gilaad, MD, Andrea Nagy Hallett, MD, Ubaldo Leli, MD, Michael Sacks, MD, Lisa Borg, MD, Bebsy Estefan, MD, Lara Cox, MSW, Vasantha Badhey, MD, Salvacion Bonete, MD, Sidney Rosen, MD, Pavel Kulik, MD, Thein Han, MD, David Brizer, MD, Cynthia Rutherford, DO, Dianne Duffey, MD, David Pelino, MD, Joao Nunes, MD, Evan Leibu, MD, Joseph Charlot, MD, Joseph Georges, MD, Martin Maurer, MD, Paris Arianas, MD, Michael Laikin, MD, Ritesh Ramdhani, MD, Arthur Sternberg, MD, Ted Liao, MD, Ziv Cohen, MD, Carlyn Md, MD, Jonathan Charney, MD, Ranjit Rajaratnam, MD, Khaled Mohamed, MD, Marie Viard, MD, John Osei-Tutu, MD, Lauren Hanson, PSY.D, Michael Stewart, MD, Dindial Singh, MD, Fredrick Eiseman, MD, Bruce Schweiger, MD, Amy Hoffman, MD, Anne Skamai, PhD, Colin Baigel, MD, Javaid Rashid, MD, Scott Schwartz, MD, David Port, MD, Rachel Becker, MD, Ronald Winchel, MD, Lucas Ralston, DO, Christopher Lucas, MD, Eva Khavkin, MD, Georges Casimir, MD, Soon Oh, MD, Dora Ostrowski, MD, Michael Scimeca, MD, Emmanuelle Duterte, MD, V Phillips, MD, Michael Lapidus, MD, Jeremy Mack, MD, Nieves Cuervo, MD, Paul Casadonte, MD, Daniel Mundy, MD, Sachidanand Peteru, MD, Hyram Stephens, MD, Suzanne Eschenbach, MD, Elizabeth Sirota, MD, Braham Harneja, MD, Teresita Ruiz, MD, Sharon Batista, MD, Galina Mindlin, MD, Helen Papaioannou, MD, Leonel Urcuyo, MD, Kareem Ghalib, MD, Mary Odowd, MD, Kathryn Moss, MD, Ali Khadivi, PhD, Harold Koenigsberg, MD, Ann Sullivan, MD, Michael Garrett, MD, Dorothy Grice, MD, Jelil Onanuga, MD, Harvey White, MD, Daniel Kuhn, MD, Stephen Coleman, MD, Celeste Jacque, MD, Joseph Triebwasser, MD, Charmaine Rapaport, MD, Christopher Bulgarelli, MD, Janet Rubinstein, MD, Isabella Kanellopoulou, MD, Jess Shatkin, MD, Ashok Rajput, MD, Debbie Schnapper, MD, Richard Nathanson, MD, Shagufta Paya, MD, Joseph Holmgren, MD, Hector Ramirez, MD, Jada Turco, MD, Thulasiram Janardhanan, MD, Robert White, MD, Margi Shah, MD, David Cooperman, MD, Romeo Purugganan, MD, Douglas Vanderburg, MD, Soledad Basa, MD, Ketki Shah, MD, Dipak Nandi, MD, Juan Penaloza, MD,\n",
      "\n",
      "\n",
      "\n"
     ]
    }
   ],
   "source": [
    "from __future__ import print_function\n",
    "\n",
    "print(\"Top terms per cluster:\")\n",
    "print()\n",
    "#sort cluster centers by proximity to centroid\n",
    "order_centroids = km.cluster_centers_.argsort()[:, ::-1] \n",
    "\n",
    "for i in range(num_clusters):\n",
    "    print(\"Cluster %d words:\" % i, end='')\n",
    "    \n",
    "    for ind in order_centroids[i, :6]: #replace 6 with n words per cluster\n",
    "        try:\n",
    "            print(' %s' % terms[ind].encode('utf-8', 'ignore'), end=',')\n",
    "            print()\n",
    "        except AttributeError as e:\n",
    "            print(\"AttributeError\")\n",
    "    print() #add whitespace\n",
    "    print() #add whitespace\n",
    "    \n",
    "    print(\"Cluster %d titles:\" % i, end='')\n",
    "    for title in docsdf.ix[i]['name'].values.tolist():\n",
    "        print(' %s,' % title, end='')\n",
    "    print() #add whitespace\n",
    "    print() #add whitespace\n",
    "    \n",
    "print()\n",
    "print()"
   ]
  },
  {
   "cell_type": "code",
   "execution_count": 281,
   "metadata": {
    "collapsed": false
   },
   "outputs": [
    {
     "name": "stdout",
     "output_type": "stream",
     "text": [
      "Dr. Sharon Lee, MD MDMPH treats patients in Somerville, Massachusetts, specializing in aerospace medicine, environmental preventive medicine, occupational medicine, preventive medical toxicology, preventive medicine, preventive sports medicine, undersea and hyperbaric medicine, dentist dental public health, and preventive medicine clinical informatics.  Dr. Lee is licensed to treat patients in Massachusetts and New York.  In addition to having active medical licenses, Dr. Lee has been found during an automated background check to be clear of any malpractice history and holds one or more active medical licenses.\n",
      "\n",
      "Dr. Ifeanyi Mbbs, MBBS MD--specialist in addiction psychiatry, child & adolescent psychiatry, clinical neurophysiology, psychiatry, psychiatry & neurology behavioral neurology & neuropsychiatry, psychiatry & neurology diagnostic neuroimaging, psychiatry & neurology forensic psychiatry, psychiatry & neurology hospice and palliative medicine, psychiatry & neurology psychosomatic medicine, and psychiatry & neurology pain medicine--currently practices medicine at Rolla, Missouri.  Dr. Mbbs is licensed to see patients in Missouri.  Dr. Mbbs has successfully passed a background check including a medical license verification (active) and screening for malpractice history (none found).\n"
     ]
    }
   ],
   "source": [
    "print(docdict['Sharon Lee, MD'])\n",
    "print()\n",
    "print(docdict['Ifeanyi Mbbs, MBBS'])"
   ]
  },
  {
   "cell_type": "code",
   "execution_count": 213,
   "metadata": {
    "collapsed": false
   },
   "outputs": [
    {
     "data": {
      "text/plain": [
       "u'long-term'"
      ]
     },
     "execution_count": 213,
     "metadata": {},
     "output_type": "execute_result"
    }
   ],
   "source": [
    "vocab_frame.ix[terms[2].split(' ')].values.tolist()[360][0]"
   ]
  },
  {
   "cell_type": "code",
   "execution_count": null,
   "metadata": {
    "collapsed": true
   },
   "outputs": [],
   "source": []
  }
 ],
 "metadata": {
  "kernelspec": {
   "display_name": "Python 2",
   "language": "python",
   "name": "python2"
  },
  "language_info": {
   "codemirror_mode": {
    "name": "ipython",
    "version": 2
   },
   "file_extension": ".py",
   "mimetype": "text/x-python",
   "name": "python",
   "nbconvert_exporter": "python",
   "pygments_lexer": "ipython2",
   "version": "2.7.10"
  }
 },
 "nbformat": 4,
 "nbformat_minor": 0
}
