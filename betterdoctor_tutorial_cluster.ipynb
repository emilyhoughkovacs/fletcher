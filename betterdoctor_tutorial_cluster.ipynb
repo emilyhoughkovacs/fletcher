{
 "cells": [
  {
   "cell_type": "code",
   "execution_count": 1,
   "metadata": {
    "collapsed": false
   },
   "outputs": [],
   "source": [
    "import numpy as np\n",
    "import pandas as pd\n",
    "import nltk\n",
    "import re\n",
    "import os\n",
    "import codecs\n",
    "from sklearn import feature_extraction\n",
    "import mpld3\n",
    "from pymongo import MongoClient\n",
    "client = MongoClient()"
   ]
  },
  {
   "cell_type": "code",
   "execution_count": 2,
   "metadata": {
    "collapsed": false
   },
   "outputs": [],
   "source": [
    "drs = client.docinfo.doctors"
   ]
  },
  {
   "cell_type": "code",
   "execution_count": 3,
   "metadata": {
    "collapsed": true
   },
   "outputs": [],
   "source": [
    "docnames = []\n",
    "docbios = []"
   ]
  },
  {
   "cell_type": "code",
   "execution_count": 4,
   "metadata": {
    "collapsed": false
   },
   "outputs": [],
   "source": [
    "for dr in drs.find({}, {\"profile.bio\": 1, \"profile.first_name\":1,\n",
    "                        \"profile.last_name\":1, \"profile.title\":1, \"_id\": 0}):\n",
    "    first_name = dr['profile']['first_name']\n",
    "    last_name = dr['profile']['last_name']\n",
    "    title = dr['profile']['title']\n",
    "    try:\n",
    "        name = first_name + \" \" + last_name + \", \" + title\n",
    "    except TypeError:\n",
    "        name = first_name + \" \" + last_name\n",
    "    docnames.append(name)\n",
    "    docbios.append(dr['profile']['bio'].replace(u\"\\u000A\", \" \"))"
   ]
  },
  {
   "cell_type": "code",
   "execution_count": 5,
   "metadata": {
    "collapsed": false
   },
   "outputs": [
    {
     "name": "stdout",
     "output_type": "stream",
     "text": [
      "Jagga Alluri, MD\n",
      "Michael Amoashiy, MD\n",
      "Brian Anziska, MD\n",
      "Yasemin Baldik, MD\n",
      "Ramani Balu, MD\n",
      "Ron Ben-Meir, DO\n",
      "Monica Bilboul, PhD\n",
      "Ivan Bodis-Wollner, MD\n",
      "Yuri Brosgol, MD\n",
      "Alan Carver, MD\n"
     ]
    }
   ],
   "source": [
    "for d in docnames[0:10]:\n",
    "    print d"
   ]
  },
  {
   "cell_type": "code",
   "execution_count": 7,
   "metadata": {
    "collapsed": false,
    "scrolled": false
   },
   "outputs": [
    {
     "name": "stdout",
     "output_type": "stream",
     "text": [
      "Dr. Jagga Alluri specializes in neurology and clinical neurophysiology in Forest Hills, New York. Dr. Alluri has 20 years experience as an MD, graduated from Rangaraya Medical College, Kakinda, Neurology Residency at Newyork University Medical Center, New York City, and fellowship in Neuromuscular physiology at NYU Medical Center, Hospital for Joint Diseases, NY. Dr. Alluri have extensive experience in the diagnosis and treatment of various neurological disorders like Alzheimer's, seizures, neck pain, memory loss, tumours, Parkinson's disease, migraine, vertigo, Sleep disorders, Strokes etc. His ability to provide onsite ancillary neurological testing allows early diagnosis. Individualized follow up care with thorough discussions on the progress are designed to establish realistic expectations. Dr. Alluri works closely with referring and/or primary care physicians and other specialists to create a plan of care that takes into consideration all aspects of medical problems including personal and social issues as well as employment related concerns.\n"
     ]
    }
   ],
   "source": [
    "print docbios[0]"
   ]
  },
  {
   "cell_type": "code",
   "execution_count": 8,
   "metadata": {
    "collapsed": false
   },
   "outputs": [
    {
     "name": "stdout",
     "output_type": "stream",
     "text": [
      "2691\n"
     ]
    }
   ],
   "source": [
    "print len(docbios)"
   ]
  },
  {
   "cell_type": "code",
   "execution_count": 9,
   "metadata": {
    "collapsed": false
   },
   "outputs": [
    {
     "name": "stdout",
     "output_type": "stream",
     "text": [
      "2691\n"
     ]
    }
   ],
   "source": [
    "print len(docnames)"
   ]
  },
  {
   "cell_type": "markdown",
   "metadata": {},
   "source": [
    "### stopwords, stemming and tokenizing"
   ]
  },
  {
   "cell_type": "code",
   "execution_count": 10,
   "metadata": {
    "collapsed": true
   },
   "outputs": [],
   "source": [
    "# load nltk's English stopwords as variable called 'stopwords'\n",
    "stopwords = nltk.corpus.stopwords.words('english')"
   ]
  },
  {
   "cell_type": "code",
   "execution_count": 11,
   "metadata": {
    "collapsed": false
   },
   "outputs": [
    {
     "name": "stdout",
     "output_type": "stream",
     "text": [
      "[u'i', u'me', u'my', u'myself', u'we', u'our', u'ours', u'ourselves', u'you', u'your']\n"
     ]
    }
   ],
   "source": [
    "print stopwords[:10]"
   ]
  },
  {
   "cell_type": "code",
   "execution_count": 12,
   "metadata": {
    "collapsed": true
   },
   "outputs": [],
   "source": [
    "# load nltk's SnowballStemmer as variabled 'stemmer'\n",
    "from nltk.stem.snowball import SnowballStemmer\n",
    "stemmer = SnowballStemmer(\"english\")"
   ]
  },
  {
   "cell_type": "code",
   "execution_count": 13,
   "metadata": {
    "collapsed": true
   },
   "outputs": [],
   "source": [
    "# here he defines a tokenizer and stemmer which returns the set of stems in the text that it is passed\n",
    "\n",
    "def tokenize_and_stem(text):\n",
    "    # first tokenize by sentence, then by word to ensure that punctuation is caught as it's own token\n",
    "    tokens = [word for sent in nltk.sent_tokenize(text) for word in nltk.word_tokenize(sent)]\n",
    "    filtered_tokens = []\n",
    "    # filter out any tokens not containing letters (e.g., numeric tokens, raw punctuation)\n",
    "    for token in tokens:\n",
    "        if re.search('[a-zA-Z]', token):\n",
    "            filtered_tokens.append(token)\n",
    "    stems = [stemmer.stem(t) for t in filtered_tokens]\n",
    "    return stems\n",
    "\n",
    "\n",
    "def tokenize_only(text):\n",
    "    # first tokenize by sentence, then by word to ensure that punctuation is caught as it's own token\n",
    "    tokens = [word.lower() for sent in nltk.sent_tokenize(text) for word in nltk.word_tokenize(sent)]\n",
    "    filtered_tokens = []\n",
    "    # filter out any tokens not containing letters (e.g., numeric tokens, raw punctuation)\n",
    "    for token in tokens:\n",
    "        if re.search('[a-zA-Z]', token):\n",
    "            filtered_tokens.append(token)\n",
    "    return filtered_tokens"
   ]
  },
  {
   "cell_type": "code",
   "execution_count": 14,
   "metadata": {
    "collapsed": false
   },
   "outputs": [],
   "source": [
    "#not super pythonic, no, not at all.\n",
    "#use extend so it's a big flat list of vocab\n",
    "totalvocab_stemmed = []\n",
    "totalvocab_tokenized = []\n",
    "for i in docbios:\n",
    "    allwords_stemmed = tokenize_and_stem(i) #for each item in 'synopses', tokenize/stem\n",
    "    totalvocab_stemmed.extend(allwords_stemmed) #extend the 'totalvocab_stemmed' list\n",
    "    \n",
    "    allwords_tokenized = tokenize_only(i)\n",
    "    totalvocab_tokenized.extend(allwords_tokenized)"
   ]
  },
  {
   "cell_type": "code",
   "execution_count": 15,
   "metadata": {
    "collapsed": false
   },
   "outputs": [
    {
     "name": "stdout",
     "output_type": "stream",
     "text": [
      "there are 191885 items in vocab_frame\n"
     ]
    }
   ],
   "source": [
    "vocab_frame = pd.DataFrame({'words': totalvocab_tokenized}, index = totalvocab_stemmed)\n",
    "print 'there are ' + str(vocab_frame.shape[0]) + ' items in vocab_frame'"
   ]
  },
  {
   "cell_type": "code",
   "execution_count": 16,
   "metadata": {
    "collapsed": false
   },
   "outputs": [
    {
     "name": "stdout",
     "output_type": "stream",
     "text": [
      "there are 191885 items in vocab_frame\n"
     ]
    }
   ],
   "source": [
    "df = pd.DataFrame({'words': totalvocab_tokenized}, index = totalvocab_tokenized)\n",
    "print 'there are ' + str(vocab_frame.shape[0]) + ' items in vocab_frame'"
   ]
  },
  {
   "cell_type": "code",
   "execution_count": 17,
   "metadata": {
    "collapsed": false
   },
   "outputs": [
    {
     "name": "stdout",
     "output_type": "stream",
     "text": [
      "               words\n",
      "dr.              dr.\n",
      "jagga          jagga\n",
      "alluri        alluri\n",
      "special  specializes\n",
      "in                in\n"
     ]
    }
   ],
   "source": [
    "print vocab_frame.head()"
   ]
  },
  {
   "cell_type": "markdown",
   "metadata": {},
   "source": [
    "### Tf-idf and document similarity"
   ]
  },
  {
   "cell_type": "code",
   "execution_count": 24,
   "metadata": {
    "collapsed": false
   },
   "outputs": [
    {
     "name": "stdout",
     "output_type": "stream",
     "text": [
      "CPU times: user 9.04 s, sys: 961 ms, total: 10 s\n",
      "Wall time: 9.79 s\n",
      "(2691, 60133)\n"
     ]
    }
   ],
   "source": [
    "from sklearn.feature_extraction.text import TfidfVectorizer\n",
    "\n",
    "#define vectorizer parameters\n",
    "tfidf_vectorizer = TfidfVectorizer(max_df=0.8, max_features=200000, stop_words='english',\n",
    "                                   use_idf=True,\n",
    "                                   tokenizer=tokenize_only, ngram_range=(1,3))\n",
    "\n",
    "%time tfidf_matrix = tfidf_vectorizer.fit_transform(docbios) #fit the vectorizer to synopses\n",
    "\n",
    "print(tfidf_matrix.shape)"
   ]
  },
  {
   "cell_type": "code",
   "execution_count": 25,
   "metadata": {
    "collapsed": true
   },
   "outputs": [],
   "source": [
    "terms = tfidf_vectorizer.get_feature_names()"
   ]
  },
  {
   "cell_type": "code",
   "execution_count": 26,
   "metadata": {
    "collapsed": false
   },
   "outputs": [
    {
     "name": "stdout",
     "output_type": "stream",
     "text": [
      "60133\n"
     ]
    }
   ],
   "source": [
    "print len(terms)"
   ]
  },
  {
   "cell_type": "code",
   "execution_count": 27,
   "metadata": {
    "collapsed": true
   },
   "outputs": [],
   "source": [
    "from sklearn.metrics.pairwise import cosine_similarity\n",
    "dist = 1 - cosine_similarity(tfidf_matrix)"
   ]
  },
  {
   "cell_type": "code",
   "execution_count": 28,
   "metadata": {
    "collapsed": false
   },
   "outputs": [
    {
     "name": "stdout",
     "output_type": "stream",
     "text": [
      "(2691, 2691)\n"
     ]
    }
   ],
   "source": [
    "print dist.shape"
   ]
  },
  {
   "cell_type": "markdown",
   "metadata": {},
   "source": [
    "### K-means clustering"
   ]
  },
  {
   "cell_type": "code",
   "execution_count": 29,
   "metadata": {
    "collapsed": false
   },
   "outputs": [
    {
     "name": "stdout",
     "output_type": "stream",
     "text": [
      "CPU times: user 4.32 s, sys: 340 ms, total: 4.66 s\n",
      "Wall time: 5.55 s\n"
     ]
    }
   ],
   "source": [
    "from sklearn.cluster import KMeans\n",
    "\n",
    "n = 5\n",
    "km = KMeans(n_clusters=n)\n",
    "\n",
    "%time km.fit(tfidf_matrix)\n",
    "\n",
    "clusters = km.labels_.tolist()"
   ]
  },
  {
   "cell_type": "code",
   "execution_count": 30,
   "metadata": {
    "collapsed": true
   },
   "outputs": [],
   "source": [
    "from sklearn.externals import joblib\n",
    "\n",
    "joblib.dump(km,  'doc_cluster.pkl')\n",
    "\n",
    "# km = joblib.load('doc_cluster.pkl')\n",
    "clusters = km.labels_.tolist()"
   ]
  },
  {
   "cell_type": "code",
   "execution_count": 30,
   "metadata": {
    "collapsed": false
   },
   "outputs": [
    {
     "data": {
      "text/plain": [
       "['docbios.pkl']"
      ]
     },
     "execution_count": 30,
     "metadata": {},
     "output_type": "execute_result"
    }
   ],
   "source": [
    "joblib.dump(docbios, 'docbios.pkl')"
   ]
  },
  {
   "cell_type": "code",
   "execution_count": 31,
   "metadata": {
    "collapsed": false
   },
   "outputs": [
    {
     "data": {
      "text/plain": [
       "['docnames.pkl']"
      ]
     },
     "execution_count": 31,
     "metadata": {},
     "output_type": "execute_result"
    }
   ],
   "source": [
    "joblib.dump(docnames, 'docnames.pkl')"
   ]
  },
  {
   "cell_type": "code",
   "execution_count": 32,
   "metadata": {
    "collapsed": false
   },
   "outputs": [],
   "source": [
    "#!pip install textstat\n",
    "#import textstat"
   ]
  },
  {
   "cell_type": "markdown",
   "metadata": {
    "collapsed": false
   },
   "source": [
    "### hacky attempt at reading level"
   ]
  },
  {
   "cell_type": "raw",
   "metadata": {},
   "source": [
    "Flesch–Kincaid grade level (fkgl) = 0.39 * (total words/ total sentences) + 11.8 (total syllables/total words) - 15.59"
   ]
  },
  {
   "cell_type": "raw",
   "metadata": {},
   "source": [
    "In the first text, there is an average of 2.83 letters per syllable. I will use letters in place of syllables, by dividing letters/word by 2.83 to get an approximation of syllables/word. This is making the assumption that every bio has the same approximate ratio of letters to syllable."
   ]
  },
  {
   "cell_type": "code",
   "execution_count": 31,
   "metadata": {
    "collapsed": false,
    "scrolled": true
   },
   "outputs": [],
   "source": [
    "sentlen = []\n",
    "wordlen = []\n",
    "fkgl  = []"
   ]
  },
  {
   "cell_type": "code",
   "execution_count": 32,
   "metadata": {
    "collapsed": true
   },
   "outputs": [],
   "source": [
    "sentlen = [nltk.sent_tokenize(d) for d in docbios]"
   ]
  },
  {
   "cell_type": "code",
   "execution_count": 33,
   "metadata": {
    "collapsed": false
   },
   "outputs": [],
   "source": [
    "wordlen = [[nltk.word_tokenize(t) for t in bio] for bio in sentlen]"
   ]
  },
  {
   "cell_type": "code",
   "execution_count": 34,
   "metadata": {
    "collapsed": true
   },
   "outputs": [],
   "source": [
    "counts = []"
   ]
  },
  {
   "cell_type": "code",
   "execution_count": 35,
   "metadata": {
    "collapsed": true
   },
   "outputs": [],
   "source": [
    "for dr in wordlen:\n",
    "    sentence_cnt = len(dr)\n",
    "    word_cnt = 0\n",
    "    letter_cnt = 0\n",
    "    for sentence in dr:\n",
    "        word_cnt += len(sentence)\n",
    "        for word in sentence:\n",
    "            letter_cnt += len(word)\n",
    "    counts.append((sentence_cnt, word_cnt, letter_cnt))"
   ]
  },
  {
   "cell_type": "code",
   "execution_count": 36,
   "metadata": {
    "collapsed": true
   },
   "outputs": [],
   "source": [
    "from __future__ import division"
   ]
  },
  {
   "cell_type": "code",
   "execution_count": 37,
   "metadata": {
    "collapsed": false
   },
   "outputs": [
    {
     "data": {
      "text/plain": [
       "(6, 174, 914)"
      ]
     },
     "execution_count": 37,
     "metadata": {},
     "output_type": "execute_result"
    }
   ],
   "source": [
    "counts[0]"
   ]
  },
  {
   "cell_type": "code",
   "execution_count": 38,
   "metadata": {
    "collapsed": true
   },
   "outputs": [],
   "source": [
    "def catch(func, handle=lambda e : e, *args, **kwargs):\n",
    "    try:\n",
    "        return func(*args, **kwargs)\n",
    "    except ZeroDivisionError:\n",
    "        return np.nan"
   ]
  },
  {
   "cell_type": "code",
   "execution_count": 39,
   "metadata": {
    "collapsed": false
   },
   "outputs": [],
   "source": [
    "fkgl = [catch(lambda: 0.39 * (dr[1]/dr[0]) + 11.8 * (dr[2]/dr[1])/2.83 - 15.59) \\\n",
    "        for dr in counts]"
   ]
  },
  {
   "cell_type": "code",
   "execution_count": 40,
   "metadata": {
    "collapsed": false
   },
   "outputs": [
    {
     "data": {
      "text/plain": [
       "186"
      ]
     },
     "execution_count": 40,
     "metadata": {},
     "output_type": "execute_result"
    }
   ],
   "source": [
    "fkgl.count(np.nan)"
   ]
  },
  {
   "cell_type": "code",
   "execution_count": 41,
   "metadata": {
    "collapsed": false
   },
   "outputs": [
    {
     "data": {
      "text/plain": [
       "2691"
      ]
     },
     "execution_count": 41,
     "metadata": {},
     "output_type": "execute_result"
    }
   ],
   "source": [
    "len(fkgl)"
   ]
  },
  {
   "cell_type": "code",
   "execution_count": 42,
   "metadata": {
    "collapsed": false
   },
   "outputs": [
    {
     "data": {
      "text/plain": [
       "17.622441005645587"
      ]
     },
     "execution_count": 42,
     "metadata": {},
     "output_type": "execute_result"
    }
   ],
   "source": [
    "fkgl[0]"
   ]
  },
  {
   "cell_type": "code",
   "execution_count": 43,
   "metadata": {
    "collapsed": false
   },
   "outputs": [
    {
     "data": {
      "text/plain": [
       "47.35116607773851"
      ]
     },
     "execution_count": 43,
     "metadata": {},
     "output_type": "execute_result"
    }
   ],
   "source": [
    "max(fkgl)"
   ]
  },
  {
   "cell_type": "code",
   "execution_count": 44,
   "metadata": {
    "collapsed": false
   },
   "outputs": [
    {
     "data": {
      "text/plain": [
       "5.826548881036516"
      ]
     },
     "execution_count": 44,
     "metadata": {},
     "output_type": "execute_result"
    }
   ],
   "source": [
    "min(fkgl)"
   ]
  },
  {
   "cell_type": "code",
   "execution_count": 45,
   "metadata": {
    "collapsed": false
   },
   "outputs": [
    {
     "data": {
      "text/plain": [
       "4"
      ]
     },
     "execution_count": 45,
     "metadata": {},
     "output_type": "execute_result"
    }
   ],
   "source": [
    "clusters[0]"
   ]
  },
  {
   "cell_type": "code",
   "execution_count": 46,
   "metadata": {
    "collapsed": false
   },
   "outputs": [],
   "source": [
    "docs = { 'name': docnames, 'bio': docbios, 'flesch_kincaid': fkgl, 'cluster': clusters }"
   ]
  },
  {
   "cell_type": "code",
   "execution_count": 47,
   "metadata": {
    "collapsed": false
   },
   "outputs": [
    {
     "data": {
      "text/plain": [
       "191885"
      ]
     },
     "execution_count": 47,
     "metadata": {},
     "output_type": "execute_result"
    }
   ],
   "source": [
    "len(df)"
   ]
  },
  {
   "cell_type": "code",
   "execution_count": 48,
   "metadata": {
    "collapsed": true
   },
   "outputs": [],
   "source": [
    "docsdf = pd.DataFrame(docs, index = [clusters] , columns = ['name', 'flesch_kincaid', 'cluster'])"
   ]
  },
  {
   "cell_type": "code",
   "execution_count": 53,
   "metadata": {
    "collapsed": false
   },
   "outputs": [
    {
     "data": {
      "text/plain": [
       "1    768\n",
       "4    664\n",
       "0    487\n",
       "2    397\n",
       "3    375\n",
       "dtype: int64"
      ]
     },
     "execution_count": 53,
     "metadata": {},
     "output_type": "execute_result"
    }
   ],
   "source": [
    "docsdf['cluster'].value_counts()"
   ]
  },
  {
   "cell_type": "code",
   "execution_count": 54,
   "metadata": {
    "collapsed": false
   },
   "outputs": [
    {
     "data": {
      "text/plain": [
       "cluster\n",
       "0    24.183680\n",
       "1    12.136408\n",
       "2    13.264695\n",
       "3    12.937860\n",
       "4    13.332016\n",
       "Name: flesch_kincaid, dtype: float64"
      ]
     },
     "execution_count": 54,
     "metadata": {},
     "output_type": "execute_result"
    }
   ],
   "source": [
    "grouped = docsdf['flesch_kincaid'].groupby(docsdf['cluster']) #groupby cluster for aggregation purposes\n",
    "\n",
    "grouped.mean() #average flesch_kincaid per cluster"
   ]
  },
  {
   "cell_type": "code",
   "execution_count": 55,
   "metadata": {
    "collapsed": false
   },
   "outputs": [
    {
     "data": {
      "text/plain": [
       "cluster\n",
       "0    23.509470\n",
       "1    11.867986\n",
       "2    12.914639\n",
       "3    12.690212\n",
       "4    12.145712\n",
       "Name: flesch_kincaid, dtype: float64"
      ]
     },
     "execution_count": 55,
     "metadata": {},
     "output_type": "execute_result"
    }
   ],
   "source": [
    "grouped.median()"
   ]
  },
  {
   "cell_type": "code",
   "execution_count": 56,
   "metadata": {
    "collapsed": true
   },
   "outputs": [],
   "source": [
    "num_clusters = len(pd.unique(docsdf['cluster']))"
   ]
  },
  {
   "cell_type": "code",
   "execution_count": 59,
   "metadata": {
    "collapsed": false
   },
   "outputs": [
    {
     "name": "stdout",
     "output_type": "stream",
     "text": [
      "Top terms per cluster:\n",
      "\n",
      "Cluster 0 words: nan, nan, nan, nan, nan, nan,\n",
      "\n",
      "Cluster 0 doctors: Brian Anziska, MD, Ramani Balu, MD, Ron Ben-Meir, DO, Ivan Bodis-Wollner, MD, Kina Cliette, MD, Joan Cracco, MD, Roger Cracco, MD, Howard Crystal, MD, Robert Delgado Jr, MD, Anna Delios, MD, Evan Fertig, MD, Zorica Filipovic Jewell, MD, Eric Fremed, MD, Miriam Friedlander, MD, Miriam Galescu, MD, Radha Giridharan, MD, Zlatin Ivanov, MD, James Jeng, MD, Daniel Labovitz, MD, Betty Lau, MD, Marguerite Lederberg, MD, David Levine, MD, John Lops, DO, Paul MacCabee, MD, Paolo Manfredi, MD, Tresa McSween, MD, Dr Md, MD, Andreas Neophytides, MD, Nikolaos Papamitsakis, MD, Chilvana Patel, MD, Steven Pavlakis, MD, Thomas Perera, MD, Jerome Posner, MD, David Prince, MD, Aaron Rabin, MD, Martin Sadowski, MD, Sophia Sharfstein, MD, Leonid Shkolnik, MD, Beth Silverstein, DO, Seymour Solomon, MD, Mahendra Somasundaram, MD, Jose Torrijos, MD, George Vas, MD, Thomas Wisniewski, MD, Anna Yusim, MD, Brian Anziska, MD, Ramani Balu, MD, Arkady Barenboim, MD, Ron Ben-Meir, DO, Ivan Bodis-Wollner, MD, Kina Cliette, MD, Joan Cracco, MD, Roger Cracco, MD, Howard Crystal, MD, Robert Delgado Jr, MD, Anna Delios, MD, Evan Fertig, MD, Zorica Filipovic Jewell, MD, Miriam Friedlander, MD, Miriam Galescu, MD, Radha Giridharan, MD, Zlatin Ivanov, MD, James Jeng, MD, Daniel Labovitz, MD, Betty Lau, MD, Marguerite Lederberg, MD, David Levine, MD, Paul MacCabee, MD, Paolo Manfredi, MD, Tresa McSween, MD, Nikolaos Papamitsakis, MD, Chilvana Patel, MD, Steven Pavlakis, MD, Thomas Perera, MD, Jerome Posner, MD, Martin Sadowski, MD, Sophia Sharfstein, MD, Leonid Shkolnik, MD, Beth Silverstein, DO, Seymour Solomon, MD, Mahendra Somasundaram, MD, Jose Torrijos, MD, George Vas, MD, Thomas Wisniewski, MD, Anna Yusim, MD, Mark Alvarado, MD, Rolando Hong, MD, James McKnight, MD, Leslie Seiden, MD, Brian Anziska, MD, Ramani Balu, MD, Ron Ben-Meir, DO, Ivan Bodis-Wollner, MD, Kina Cliette, MD, Joan Cracco, MD, Roger Cracco, MD, Howard Crystal, MD, Robert Delgado Jr, MD, Anna Delios, MD, Evan Fertig, MD, Zorica Filipovic Jewell, MD, Miriam Friedlander, MD, Miriam Galescu, MD, Radha Giridharan, MD, Zlatin Ivanov, MD, James Jeng, MD, Daniel Labovitz, MD, Betty Lau, MD, Marguerite Lederberg, MD, David Levine, MD, John Lops, DO, Paul MacCabee, MD, Paolo Manfredi, MD, Tresa McSween, MD, Dr Md, MD, Nikolaos Papamitsakis, MD, Chilvana Patel, MD, Steven Pavlakis, MD, Thomas Perera, MD, Jerome Posner, MD, Martin Sadowski, MD, Sophia Sharfstein, MD, Leonid Shkolnik, MD, Beth Silverstein, DO, Seymour Solomon, MD, Mahendra Somasundaram, MD, Jose Torrijos, MD, George Vas, MD, Thomas Wisniewski, MD, Anna Yusim, MD, Diane Carney, NP, Dara Heinlein, NP, Jonathan Goldstein, MD, Beatriz Gonzalez Abella, MD, Steven Pavlakis, MD, Ron Ben-Meir, DO, Chuan Chang, MD, Juliann Paolicchi, MD, Akila Venkataraman, MD, Brian Anziska, MD, Pierre Arty, MD, Tom Asfar, MD, Ramani Balu, MD, Edward Barias, MD, Ami Baxi, MD, Lama Bazzi, MD, Yelena Belyayeva, MD, Ron Ben-Meir, DO, Emery Berczeller, MD, Scott Berger, MD, Howard Berkowitz, MD, Carol Bernstein, MD, Wil Berry, MD, Ivan Bodis-Wollner, MD, Eduardo Bondoc, MD, Mitchell Butin, MD, Dora Cardenas, MD, John Casarino, MD, Subhash Chandra, MD, Jianping Chen, MD, Laura Clarke, MD, Kina Cliette, MD, Paul Corley, MD, Joan Cracco, MD, Roger Cracco, MD, Howard Crystal, MD, Robert Delgado Jr, MD, Anna Delios, MD, Maryanne Desantis, MD, Michael Dulchin, MD, Judith Ebenstein, MD, Claudine Egol, MD, Steven Ferris, PHD, Evan Fertig, MD, Yuliya Feygis, MD, Zorica Filipovic Jewell, MD, Miriam Friedlander, MD, Inna Gabay, MD, Miriam Galescu, MD, Elpidio Garcia, MD, Christina Gerdes, MD, Vladimir Ginzburg, MD, Radha Giridharan, MD, Dan Giurca, MD, Terry Golash, MD, Neil Goldman, MD, Ruben Gonzalez, MD, Shanti Gooden, MD, Sharon Greene, MD, Silvia Hafliger, MD, Jung Hahn, MD, Robert Haskell, MD, Rolando Hong, MD, Qi Hu, MD, Syed Hussaini, MD, Pamela Ingber, MD, Zlatin Ivanov, MD, Christopher Janusz, MD, James Jeng, MD, Eileen Kemether, MD, Munaza Khan, MD, Yuriy Kheyfits, MD, Damian Kim, MD, Esther Kim, MD, Adolfo Kizer, MD, Boris Konnikow, MD, Urszula Kopec, MD, Daniel Labovitz, MD, Kyle Lapidus, MD, Betty Lau, MD, Tamar Lavy, MD, Sonya Lazarevic, MD, Marguerite Lederberg, MD, Frances Lee, MD, Allison Lee, MD, David Levine, MD, Lidia Lidagoster, MD, Francisco Linares Alvarenga, MD, Catherina Litkei, Jorge Londono, MD, John Lops, DO, Zinaida Luft, MD, Paul MacCabee, MD, Paolo Manfredi, MD, Swarnamba Mani, MD, Inna Markhasina, MD, Ifeanyi Mbbs, MBBS, Tresa McSween, MD, Dr Md, MD, Dr Md, MD, Dr Md, MD, Dr Md, MD, Kalpana Mehta, MD, Inessa Meyerovich, MD, Rafael Michel, MD, Brijesh Malkani, MD, Zdena Rubin, MD, Brian Anziska, MD, Ramani Balu, MD, Ivan Bodis-Wollner, MD, Kina Cliette, MD, Joan Cracco, MD, Roger Cracco, MD, Howard Crystal, MD, Anna Delios, MD, Evan Fertig, MD, Zorica Filipovic Jewell, MD, Miriam Friedlander, MD, Miriam Galescu, MD, Radha Giridharan, MD, Zlatin Ivanov, MD, James Jeng, MD, Daniel Labovitz, MD, Betty Lau, MD, Marguerite Lederberg, MD, David Levine, MD, Paul MacCabee, MD, Paolo Manfredi, MD, Tresa McSween, MD, Cynthia Millin, MD, Nikolaos Papamitsakis, MD, Chilvana Patel, MD, Steven Pavlakis, MD, Thomas Perera, MD, Jerome Posner, MD, Martin Sadowski, MD, Howard Sander, MD, Sophia Sharfstein, MD, Leonid Shkolnik, MD, Beth Silverstein, DO, Mahendra Somasundaram, MD, Jose Torrijos, MD, George Vas, MD, Thomas Wisniewski, MD, Nikolaos Papamitsakis, MD, Chilvana Patel, MD, Karthikey Arcot, MBBS, Nils Petersen, MD, Howard Sander, MD, Brian Anziska, MD, Ramani Balu, MD, Ron Ben-Meir, DO, Ivan Bodis-Wollner, MD, Kina Cliette, MD, Joan Cracco, MD, Roger Cracco, MD, Howard Crystal, MD, Robert Delgado Jr, MD, Anna Delios, MD, Evan Fertig, MD, Zorica Filipovic Jewell, MD, Miriam Friedlander, MD, Miriam Galescu, MD, Radha Giridharan, MD, Zlatin Ivanov, MD, Sarasavani Jayaram, MD, James Jeng, MD, Daniel Labovitz, MD, Betty Lau, MD, Marguerite Lederberg, MD, David Levine, MD, John Lops, DO, Paul MacCabee, MD, Paolo Manfredi, MD, Tresa McSween, MD, Dr Md, MD, Nikolaos Papamitsakis, MD, Chilvana Patel, MD, Steven Pavlakis, MD, Thomas Perera, MD, Jerome Posner, MD, Martin Sadowski, MD, Sophia Sharfstein, MD, Leonid Shkolnik, MD, Beth Silverstein, DO, Seymour Solomon, MD, Mahendra Somasundaram, MD, Jose Torrijos, MD, George Vas, MD, Thomas Wisniewski, MD, Anna Yusim, MD, David Feuer, MD, Howard Berkowitz, MD, Mitchell Butin, MD, Jung Hahn, MD, Lidia Lidagoster, MD, Kalpana Mehta, MD, Lorenzo Santos Gutierrez, MD, Eileen Sweeney, MD, Joan Cracco, MD, Sandra McGinty, PhD, Beth Silverstein, DO, George Vas, MD, Mark Alvarado, MD, Ramani Balu, MD, Kina Cliette, MD, Maryanne Desantis, MD, Zorica Filipovic Jewell, MD, Miriam Friedlander, MD, Miriam Galescu, MD, Neil Goldman, MD, Zlatin Ivanov, MD, Betty Lau, MD, Sonya Lazarevic, MD, Marguerite Lederberg, MD, John Lops, DO, Dr Md, MD, Prameet Singh, MD, Jose Torrijos, MD, Brian Anziska, MD, Ramani Balu, MD, Ivan Bodis-Wollner, MD, Kina Cliette, MD, Joan Cracco, MD, Roger Cracco, MD, Howard Crystal, MD, Robert Delgado Jr, MD, Anna Delios, MD, Evan Fertig, MD, Zorica Filipovic Jewell, MD, Miriam Friedlander, MD, Miriam Galescu, MD, Radha Giridharan, MD, Shanti Gooden, MD, Jeffrey Hamblin, MD, Zlatin Ivanov, MD, Jean Jacques, MD, James Jeng, MD, Daniel Labovitz, MD, Betty Lau, MD, Marguerite Lederberg, MD, David Levine, MD, Cathy Lore, MD, Paul MacCabee, MD, Paolo Manfredi, MD, Tresa McSween, MD, Nikolaos Papamitsakis, MD, Chilvana Patel, MD, Steven Pavlakis, MD, Thomas Perera, MD, Jerome Posner, MD, Edward Rendon, MD, Martin Sadowski, MD, Sophia Sharfstein, MD, Leonid Shkolnik, MD, Beth Silverstein, DO, Mahendra Somasundaram, MD, Jose Torrijos, MD, George Vas, MD, Robert Walter, MD, Thomas Wisniewski, MD, Anna Yusim, MD, Brian Anziska, MD, Ramani Balu, MD, Lama Bazzi, MD, Ron Ben-Meir, DO, Ivan Bodis-Wollner, MD, Kina Cliette, MD, Joan Cracco, MD, Roger Cracco, MD, Howard Crystal, MD, Robert Delgado Jr, MD, Anna Delios, MD, Maryanne Desantis, MD, Evan Fertig, MD, Zorica Filipovic Jewell, MD, Miriam Friedlander, MD, Katya Frischer, MD, Miriam Galescu, MD, Radha Giridharan, MD, Zlatin Ivanov, MD, James Jeng, MD, Daniel Labovitz, MD, Betty Lau, MD, Marguerite Lederberg, MD, David Levine, MD, John Lops, DO, Paul MacCabee, MD, Paolo Manfredi, MD, Tresa McSween, MD, Dr Md, MD, Nikolaos Papamitsakis, MD, Chilvana Patel, MD, Steven Pavlakis, MD, Thomas Perera, MD, Jerome Posner, MD, Martin Sadowski, MD, Sophia Sharfstein, MD, Leonid Shkolnik, MD, Beth Silverstein, DO, Seymour Solomon, MD, Mahendra Somasundaram, MD, Jose Torrijos, MD, George Vas, MD, Thomas Wisniewski, MD, Anna Yusim, MD, Wali Mohammad, MD, Andrei Nagorny, MD, John Naliyath, MD, Kaj Neve, MD, Caroline OBrien, MD, Nikolaos Papamitsakis, MD, Dharmesh Patel, MD, Chilvana Patel, MD, Saraswatiben Patel-Shrivastava, MD, Steven Pavlakis, MD, Thomas Perera, MD, Vyas Persaud, MD, Carmelo Pingol, MD, Jerome Posner, MD, Anna Potash, MD, Kenia Rachna, MD, Sukumar Rao, MD, Edward Rendon, MD, Sylvia Reyes, MD, Gloria Roldan, MD, Daniel Roman, MD, Martin Sadowski, MD, Philip Saltiel, MD, Manuel Santos, MD, Matthew Schwartz, MD, Sophia Sharfstein, MD, Parvesh Sharma, MD, Leonid Shkolnik, MD, Iinna Shleymovich, MD, Ram Shrivastava, MD, Beth Silverstein, DO, Seymour Solomon, MD, Mahendra Somasundaram, MD, Meir Spinner, MD, Galina Stolina, MD, Derek Suite, MD, Ellen Tabor, MD, Nelya Tarnovetskyy, MD, Jose Torrijos, MD, Jarrett Tosk, MD, Michael Trapido, MD, Alan Tusher, MD, George Vas, MD, Yvonne Waldemar, MD, Robert Walter, MD, Thomas Wisniewski, MD, Eric Yarbrough, MD, Zimri Yaseen, MD, Richard Young, MD, Anna Yusim, MD, Aleksandr Zverinskiy, MD,\n",
      "\n",
      "Cluster 1 words: nan, nan, nan, nan, nan, nan,\n",
      "\n",
      "Cluster 1 doctors: Jean Chen, LCSW, Jean Francois, MD, Igor Khelemsky, MD, Moise Plantin, MD, Benedict Tan, MD, Jill Wiener, MD, June Yin, MD, Joanna Fine, MD, Ana Glick, MD, Francisco Gonzalez-Franco, MD, Stephanie Ho, MD, Adriana Mateoc, MD, Mauricio Murillo, MD, Lori Simon, MD, Saloni Wadia, MD, Roger Wolfsohn, MD, Gregory Bunt, MD, Leon Valbrun, MD, Idalia Cruz, MD, Manuel Furer, MD, Stephen Goldfinger, MD, Yashushi Iwata, David Kellman, MD, Debjani Bhowmick, NP, Christopher Leggett, PhD, Marianne Moore, NURSEPRACTITIONER, Sheung-Chi Ng, NP, Richard Crummer, MD, Eve Faber, MD, Jasmeet Gill, MD, Andrey Rusetskiy, CSW, Andrew Seidman, MD, Alicia Skarimbas, MD, Miriam Vincent, MD, Richard Wong, MD, Michael Hutchinson, MD, Dorothy Bryan, MD, Angela Chan, MD, Victoria Chen, MD, Susan Gottlieb, MD, Amara Mallik, DO, Francine Siegel-Stein, MD, Sam Vergara, MD, Jawad Bajwa, MD, Peiti Cai, MD, James Chang, MD, Pierre Felix, MD, Eric Kim, MD, Themistoc Protopsaltis, MD, Samuel Rosenblum, DO, Chaim Shtock, DO, Anita Simons, CHt, OT, David Spinner, DO, Philip Tasca, MD, Abe Chutorian, MD, Susan Dellert, MD, Irving Fish, MD, Monica Mehta, MD, Renee Abt, MD, Elena Adan, MD, Rajasekhar Addepalli, MD, Lenard Adler, MD, Aruna Agni, MD, Anwarul Ahad, MD, Shaheena Ahmed, MD, Hamayun Ahmed, MD, Joanne Ahola, MD, Maxine Ain, MD, Pervez Akhter, MD, Aafaque Akhter, MD, Mohamad Al-Rashdan, MD, Asher Aladjem, MD, Anna Alayeva, MD, Sean Allan, MD, Carlos Almeida, MD, Amy Aloysi, MD, Naira Ambarian, DO, George Amilo, MD, Laura Amram, MD, Luis Ang, MD, Ralph Aquila, MD, Luke Archibald, MD, Yevgenia Aronova, MD, Jonathan Aronowitz, MD, Nauman Ashraf, MD, Gregory Asnis, MD, Anna Balas, MD, Julio Ballestas, MD, Dinshaw Bamji, MD, Steven Banat, MD, Azziza Bankole, MD, Bolaji Bankole, MD, Charles Barron, MD, Griselda Bartha, MD, Isac Bechor, MD, Livia Beck, MD, Julia Becker, MD, Lilian Belman, MD, Stella Belyavsky, MD, Carolyn Benson, MD, James Bernard, MD, Michael Bernot, MD, Gail Berry, MD, Svetlana Beskina, DO, Lincoln Bickford, MD, Jean Bien-Aime, MD, Inci Bijan, MD, Darla Bjork, MD, Alexandre Blaivas, MD, Grisco Blanco, MD, Mirjana Blokar, MD, Leopold Bolona, MD, Stanley Bone, MD, Linda Brady, MD, William Breitbart, MD, Grant Brenner, MD, Ronald Brenner, MD, Hilda Brewer, MD, Mercedes Brito, MD, Benjamin Brody, MD, Harold Bronheim, MD, Leighton Brooks, MD, Bryan Bruno, MD, Lawrence Bryskin, MD, Marin Bucevic, MD, Cathy Budman, MD, Adriana Buga, MD, Eugene Burke, MD, Margarita Cala, MD, Raul Calicdan, MD, Joseph Carmody, MD, Pura Castillo, MD, Hilda Castillo, MD, Richard Catanzaro, MD, Faina Chachko, MD, Joon Chang, MD, Marlene Charles, MD, Khalid Chaudhry, MD, Andrew Chen, MD, Yuan Chen, MD, Daniel Chen, MD, Valerly Chernov, MD, Thomas Chiu, MD, Dara Cho, MD, Seokkoon Cho, MD, Yen Chong, MD, Raquel Choua, MD, Asm Choudhury, MD, Ani Chouldjian-Baghdassarian, MD, Natasha Chriss, MD, June Christmas, MD, Ho-Chong Chyu, MD, Julian Clark, MD, Rita Clark, MD, Neal Cohen, MD, Theodore Cohen, MD, Sandra Cohen, MD, Hector Coll Ruiz, MD, Yasmin Collazo, MD, Jana Colton, MD, Paula Constantinescu, MD, Basilio Cordoba, MD, Anna Costakis, MD, Kevin Cotterell, MD, Daniel Crane, MD, Rosemarie Cropper, DO, John Crow, MD, Calvin Cruz, MD, Edwin Cueva, MD, Erlinda Dalao-Gagan, MD, Thomas Damato, MD, Jessica Daniels, MD, Felicisima David-Quines, MD, Charles Davis, MD, Michael De Meo, MD, Leo Dela Cruz, MD, Yissell Delvalle, MD, Emily Deringer, MD, Freddy Desormeaux, MD, Richard Deucher, MD, Alexander Deutsch, MD, Lisa Dixon, MD, Matthew Doolittle, MD, Laurence Dopkin, MD, Jack Drescher, MD, Samuel Dunkell, MD, Alejandra Durango, MD, Marion Eakin, MD, Efe Edhomeriegue, MD, Abdelouahed Elmouchtari, MD, Robert Enriquez, MD, Azariah Eshkenazi, MD, Mercedes Estrella, MD, Azim Etemadi, MD, Jessica Evelson, MD, Joseph Ewa, MD, Miriam Ewaskio, MD, Erlenda Falconer, NP, Lydia Fazzio, MD, Marcos Fe-Bornstein, MD, Elizabeth Feingold, MD, Milagros Feliciano, MD, Anna Fels, MD, Rizalina Fernandez, MD, Alfredo Fiad, MD, Ronald Fieve, MD, Carlo Filiaci, MD, Marie Fils-Aime, MD, Joanna Fine, MD, Mark Finger, MD, Stephen Firestein, MD, Dimy Fluyau, MD, Jay Foote, MD, Nancy Forman, MD, Joanne Foster, MD, Lewis Fox, MD, James Fraiman, MD, Pierre Francois, MD, Robert Freeman, MD, Maxim Frenkel, MD, Ahron Friedberg, MD, Michelle Friedman, MD, Daniel Friedman, MD, Gavin Friedman, MD, Ofelia Fule, MD, Juanaelena Garcia, MD, Pedro Gaztanaga, MD, Amarsingh Ghorpade, MD, Antonio Giancotti, MD, Teresa Gil, MD, Melvin Gilbert, MD, Bruce Gilbert, MD, Karen Gilmore, MD, William Gilson, MD, Paul Glare, MD, Ellen Glass, MD, Charles Glatt, MD, Vladimir Glauberson, MD, Natalie Gluck, MD, Eliseo Go, MD, Hector Goa, MD, Kah Goh, MD, Warren Gold, MD, Michael Goldberg, MD, Stephen Goldfinger, MD, Gerald Goldstein, MD, Robert Goldstein, MD, Agustin Gomez, MD, Francisco Gonzalez-Franco, MD, Wayne Goodman, MD, Joshua Gordon, MD, Barbara Gordon, MD, Hagop Gorgissian, MD, Howard Gould, MD, H Grant, MD, Wayne Green, MD, Anne Griffin, MD, Michael Grin, MD, Lorena Grullon-Figueroa, MD, Marianne Guschwan, MD, Paul Gusmorino, MD, David Gutman, MD, Elizabeth Haase, MD, Ayse Hagmann, MD, Marcos Hardy, MD, Sarah Hartman, MD, Mario Hasaj, MD, Zainab Hasan, MD, Seyed Hashemi, MD, Colette Haward, MD, William Head, MD, Desmond Heath, MD, Grace Hennessy, MD, Sanford Herman, MD, Richard Hess, MD, Amjad Hindi, MD, Glenn Hirsch, MD, Richard Hoetzel, MD, Matthew Holden, MD, Julie Holland, MD, Anna Holmgren, MD, Jonathan Howard, MD, Charita Hoyle-Parr, MD, Tarsha Hunter, MD, Alicia Hurtado, MD, Jaweed Husain, MD, Szymon Hyzak, MD, Delfin Ibanez, MD, Joel Idowu, MD, Sudharam Idupuganti, MD, George Igel, MD, Oleg Isakov, MD, Isak Isakov, MD, Nimer Iskandarani, MD, Muhammad Islam, MD, Annupriya Itteera, MD, Theodore Jacobs, MD, Paul Jayson, MD, David Jonas, MD, William Jones, MD, Pierre Joseph, MD, Christina Joy, MD, David Kahn, MD, Vasundhara Kalasapudi, MD, Vicki Kalira, MD, Alexander Kalogerakis, MD, Jonathan Kane, MD, Vladimir Kasnar, MD, Stanley Kaster, MD, Nelly Katsnelson, MD, Nicolas Katz, MD, Gabriel Katz, MD, Gary Kennedy, MD, Daniel Khaimov, MD, Mohammed Khan, MD, Tahir Khan, MD, Maria Khusid, MD, Irina Kiblitsky, MD, Young Kim, MD, Jason Kim, MD, Yasmeen Kirmani, MD, Jorge Kirschtein, MD, Igor Kirzhner, MD, Israel Klein, MD, Jordan Klesmer, MD, Joanna Knobler, MD, Ilana Kochen, MD, Andrew Kolodny, MD, Alan Kouzmanoff, MD, David Kreditor, MD, Ritesha Krishnappa, MD, Devendra Kurani, MD, Victor Kwong, MD, Carisa Kymissis, MD, Qiuxia Lan, MD, Susan Lee, MD, Charles Lee, MD, Sidney Lee, MD, Eve Leeman, MD, Lissette Leon, MD, Carmen Leon, MD, Eduardo Leonardo, MD, Burton Lerner, MD, Peritz Levinson, MD, Kathleen Levy, DO, Heather Lewerenz, MD, Kara Lichtman, MD, Bruce Lieberman, MD, Arthur Liebeskind, MD, Carrol Longshore, MD, Federico Lorenzana, MD, Miklos Losonczy, MD, Lorraine Lothwell, MD, Michael Lott, MD, Susana Lourido, MD, Tara Lovings, MD, David Ludwig, MD, Zinadia Lyuboff, MD, Nnamdi Maduekwe, MD, Christian Maetzener, MD, Barry Magid, MD, Suzanne Mallouk, MD, Mikhail Manasherov, MD, Lynda Mandell, MD, Marge Marash, MD, Paula Marcus, MD, Alina Marek, MD, Sophia Mason, NP, Jean Mastroti, MD, Adriana Mateoc, MD, Jose Matias Del Toro, MD, Scot McAfee, MD, Robert McCue, MD, Diane McLean, MD, Cooper Md, MD, Dr Md, MD, Panagiota Md, MD, Niveditha Meghadri, MD, Fernando Mejia, MD, Vanessa Mejias-Hiraldo, MD, Emelita Mendoza, MD, Amalia Merson, MD, David Meryash, MD, Jacob Messing, MD, Rose Michael, MD, Muqtadir Mirza, MD, Chidi Achebe, MD, Alan Engelberg, MD, Zinovy Kozlov, MD, Sharon Lee, MD, Violet Nikac, MD, William Barr, PHD, Derek Chong, MD, Dan Lucian Dumitru, MD, Rochelle Zak, MD, William Barr, PHD, Karelyn Cruz, PhD, Thomas Cullinan, PhD, Hersha Diaz, PSYD, Matthew Ebben, PHD, Harland Kessaris, PhD, Elsa Neilan, PhD, Marianne Ruggeri, PSYD, Malini Singh, PhD, Jonathan Slyker, PhD, Yaakov Stern, PhD, Monica Mehta, MD, Steven Goldman, MD, Dara Jamieson, MD, Monica Mehta, MD, Michael Hutchinson, MD, Mervat Estefanos, MD, Doreen Zarfati, MD, Rajasekhar Addepalli, MD, Anwarul Ahad, MD, Marieliz Alonso, MD, Azziza Bankole, MD, Lilian Belman, MD, Istvan Boksay, MD, Yasmin Collazo, MD, Felicisima David-Quines, MD, Diana Feldman, MD, Alfredo Fiad, MD, Gavin Friedman, MD, Mario Gustave, MD, Lyudmila Kats, MD, Gary Kennedy, MD, Lissette Leon, MD, Nnamdi Maduekwe, MD, Alex Mikhelson, MD, Nikhil Palekar, MD, Karamchand Rameshwar, MD, Francis Rathinapandian, MD, Michael Reinhardt, MD, Barry Reisberg, MD, Miodrag Ristich, MD, David Roane, MD, Pritesh Shah, MD, Mark Shif, MD, John Teusink, MD, Leon Valbrun, MD, William Barr, PHD, Christopher Leggett, PhD, Tricia Lipani, PhD, Rachel Matoto, PSYD, Claude Mellins, PHD, Luba Phd, PhD, Virginia Robles, PhD, Marianne Ruggeri, PSYD, Luke Archibald, MD, Ferdinand Banez, MD, Ileana Benga, MD, Alfredo Fiad, MD, Marianne Guschwan, MD, Grace Hennessy, MD, Jose Matias Del Toro, MD, Rajesh Patel, MD, Karamchand Rameshwar, MD, Michelle Rottenstein, MD, Pablo Sanchez-Barranco, MD, Usha Tandon, MD, Ofelia Villar, MD, Renee Abt, MD, Indhira Almonte, MD, Robert Andrews, MD, Jonathan Aronowitz, MD, Anna Balas, MD, Marilyn Baron-Cane, MD, Leighton Brooks, MD, Faina Chachko, MD, Luke Chang, MD, Juhi Chawla, MD, Nicolas Du Mont, MD, Moataz El Refaie, MD, Mercedes Estrella, MD, Jessica Evelson, MD, Joseph Ewa, MD, Ernesto Ferran, MD, Joanna Fine, MD, Karen Gilmore, MD, Hector Goa, MD, Kah Goh, MD, Mayu Gonzales, MD, Francisco Gonzalez-Franco, MD, Wayne Green, MD, Paul Gusmorino, MD, Daniella Heller, MD, Victor Hernandez, MD, Glenn Hirsch, MD, Nicolas Katz, MD, Young Kim, MD, Maren Langer, MD, Denise Leung, MD, Shang Liu, MD, Lorraine Lothwell, MD, Juraj Lukac, MD, Christian Maetzener, MD, Rose Marcus, MD, Hilda Mascaro, MD, Rose Michael, MD, Rona Miller-Muntner, PSYD, Julia Najara, MD, Mark Novick, MD, Titus Okunlola, MD, Alphonse Osinski, MD, Nurur Rahman, MD, Karamchand Rameshwar, MD, Ronald Rawitt, MD, Aimee Reinglass, MD, Christopher Richards, MD, Phillip Romero, MD, Eleonora Rubin, MD, Jeffrey Schwam, MD, Alina Segura-Bustamante, MD, Tatyana Semenova, MD, Saima Shafiq, MD, Rubina Sharief, MD, Judith Shay, MD, Regan Stanger, MD, Katherine Sundstrom, MD, Mehmet Tosyali, MD, Michelle Tricamo, MD, Jeanie Tse, MD, Stanley Turecki, MD, Kavita Vasu, MD, Reinaldo Vera, MD, Manish Verma, MD, Sherwood Waldron, MD, Sibylle Wallace, MD, Rachel Waxman, MD, Alex Weintrob, MD, Agnes Wilkie, MD, Kathleen Young, MD, Jean Chen, LCSW, Marianna Dogot, MD, Mario Hasaj, MD, David Kahn, MD, Shelly Menolascino, MD, Moise Plantin, MD, Tricia Lipani, PhD, Lida Prypchan, MD, Monica Mehta, MD, Quazi Al-Tariq, MD, Elizabeth Feingold, MD, Jason Hershberger, MD, Joel Idowu, MD, Stanley Portnow, MD, Leon Valbrun, MD, Kathleen Young, MD, Andrey Rusetskiy, CSW, Darlene Mitera, MD, Luis Monge, MD, Robert Morrison, MD, Emad Mounir, MD, Mauricio Murillo, MD, Michael Murphy, MD, Tatyana Nagoranaia, MD, Robert Naiman, MD, Joseph Napoli, MD, Mark Nathanson, MD, Devdutt Nayak, MD, Sarah Nayeem, MD, Nancy Needell, MD, Edward Nersessian, MD, Norton Nesis, MD, Konstantin Nikiforov, MD, Charles Nnadi, MD, Mark Novick, MD, Giovanny Nunez, MD, Eryn Oberlander, MD, Ralph OConnell, MD, Dalia Olivier, MD, Maria Oquendo, MD, Geraldine Orendain, MD, Folake Oshodi, MD, Alphonse Osinski, MD, Alla Ostrovskaya, MD, Fatih Ozbay, MD, Ana Ozdoba, MD, Yvanka Pachas, MD, Nikhil Palekar, MD, Kosmas Paleos, MD, Indira Patel, MD, Kirk Patterson, MD, Samuel Pauker, MD, Franck Paul, MD, Henry Paul, MD, Victoria Paz, MD, James Peloquen, MD, Omar Pena, MD, Deborah Petrone, MD, Antoine Pierre, MD, Anthony Pietropinto, MD, Robert Pilosov, MD, Alex Pinkhas, MD, Aaron Pinkhasov, MD, Alexander Pinkusovich, MD, Tatyana Poblaguyev, MD, H Jonathan Polan, MD, Hugh Polk, MD, Michael Porder, MD, Stanley Portnow, MD, Daniel Powsner, MD, Seema Quraishi, MD, Olga Rakhlin, MD, Charles Ramesar, MD, Karamchand Rameshwar, MD, Santapuri Rao, MD, Francis Rathinapandian, MD, Ronald Rawitt, MD, Aimee Reinglass, MD, David Reynolds, MD, Nabil Rezk, MD, Christopher Richards, MD, Sarah Ricketts, MD, David Robbins, MD, Henry Rochel, MD, Sol Rodriguez Medina, MD, Jay Rohrlich, MD, William Roman, MD, Alicia Romeo, DO, Yvonne Roque, MD, Daniel Rosell, MD, Anna Rosen, MD, Evelyn Rosen, MD, Seymour Rothman, MD, John Rotrosen, MD, Michelle Rottenstein, MD, Matthew Rottnek, MD, George Rowan, MD, Stefan Rowny, MD, Leonard Rubin, MD, Matonah Rubin, MD, Eric Rubin, MD, Diane Rudolph, MD, Vicente Ruiz, MD, Roxana Ruizcaro-Chavez, MD, Carlos Saavedra Vele, MD, Sharon Sageman, MD, Ashok Saha, MD, Pamela Saha, MD, Gerard Salomon, MD, Bernard Salzman, MD, Susan Samuels, MD, Pablo Sanchez-Barranco, MD, Charles Sarnoff, MD, Archna Sarwal, MD, Ramotse Saunders, MD, Bella Schanzer, MD, Ariane Schnek, MD, David Schwam, MD, Bruce Schwartz, MD, Melanie Schwarz, MD, Mary Sciutto, MD, Rachelle Scott, MD, Alina Segura-Bustamante, MD, Yakov Semenov, MD, Tatyana Semenova, MD, Pinakini Shah, MD, Mukesh Sharoha, MD, Judith Shay, MD, Leonid Shegelman, MD, Sandip Sheth, MD, Kent Shinbach, MD, Anna Shostak, MD, Irene Shulga, MD, Mian Siddique, MD, Lori Sidman, MD, Lori Simon, MD, Jagadeesh Sindagi, MD, Meriamne Singer, MD, Deepika Singh, MD, Arthur Sinkman, MD, Melanie Sisti, MD, Karthik Sivashanker, MD, Lucas Sjulson, MD, Joel Solomon, MD, William Sommer, MD, Sheri Spirt, MD, Mary Spitaletta, MD, Alexandra Sporn, MD, James Squires, MD, Joseph Squitieri, DO, Saroj Srivastava, MD, Milica Stefanovic, MD, Stefan Stein, MD, Jon Stiffler, MD, Diane Stone, MD, Alene Strahan, MD, Samuel Stroupe, MD, M Sublette, MD, Sady Sultan, MD, Sharmeen Sultana, MD, Katherine Sundstrom, MD, Norman Sussman, MD, Ronnie Swift, MD, Raymond Tam, MD, Usha Tandon, MD, Warren Tanenbaum, MD, Fernando Taveras, MD, Stephen Teich, MD, Aleksey Ten, MD, John Teusink, MD, Gloria Thambirajah, MD, Gifty Tokponwey, MD, Charles Tolk, MD, Mehmet Tosyali, MD, Joan Trachtenberg, MD, Brian Trappler, MD, Michelle Tricamo, MD, Lizica Troneci, MD, John Tsiouris, MD, William Tucker, MD, Hla Tun, MD, Stanley Turecki, MD, Lisa Turtz, MD, Leon Valbrun, MD, Barney Vaughan, MD, Edgar Velazquez, MD, Joseph Vetrano, MD, Miguel Vilaro Colon, MD, Ofelia Villar, MD, Michel Vington, MD, Laurie Vitagliano, MD, Seeth Vivek, MD, Leslie Vogel, MD, Joseph Voigt, MD, Stanislav Vorel, MD, Leonid Vorobyev, MD, Zelimir Vukasin, MD, Rubina Waheed, MD, Sherwood Waldron, MD, John Walkup, MD, Natasha Wallace, MD, Mark Wallace, MD, Chung-Che Wang, MD, Rachel Waxman, MD, Marie Weinberger, MD, Elyse Weiner, MD, Elhav Weinstein, MD, Tanya Weisman, MD, Daniel Weiss, MD, Richard Weiss, MD, Eric Weitzner, MD, Alfred Wiener, MD, David Wiley, MD, Agnes Wilkie, MD, Michelle Williams, MD, Martin Wilner, MD, Peter Wilson, CSW, Jeremy Winell, MD, George Wing, MD, Adam Wolkin, MD, Ying Wong, MD, Meredith Wong, MD, David Yamins, MD, Yu Yang, MD, Stacy Yearwood, MD, Kathleen Young, MD, Joseph Yuen, MD, Pik Yung, MD, Doreen Zarfati, MD, Sofia Zelichovskaya, MD, Alan Zients, MD, Miriam Zincke, MD, Jarred Zucker, MD, Ilene Zwirn, MD, Ilana Zylberman, MD,\n",
      "\n",
      "Cluster 2 words: nan, status, nan, nan, nan, nan,\n",
      "\n",
      "Cluster 2 doctors: Monica Bilboul, PhD, Daniel Feuer, MD, Sun Foo, MD, Ingrid Gomez, LCSW, Vinod Kapoor, MD, Aaron Lord, MD, Amy Mednick, MD, Yael Rappeport, MD, Erwin Ting, MD, Michelle Kanaley, MD, Franklin Russek, MD, Akhil Shenoy, MD, Bruce Phariss, MD, Michael Siegell, MD, Lauretta Feldman, PA, Tom Kearns, LMSW, Nora Mangunay, MD, Maria Mora, MA, Anthony Patterson, LMHC, Doreen Stewart, PhD, Amy Mednick, MD, Anita Bookey, MD, Francis Campbell, MED, Alla Akivis, MD, Rosemary Daniele, NP, Margaret Donat, MD, Catherine Canary, MD, Beata Dygulska, MD, Candace Erickson, MD, Richard Goldsmith, MD, Fred Kho, MD, Sheryl Kho, MD, Ruth Milanaik, DO, Kanchana Roychoudhury, MD, Robert McMyne, MD, Yakov Raufov, MD, Paola Carugno, MD, Eric Segal, MD, Samuel Abrams, MD, John Abulu, MD, Maria-Vic Agarin, MD, Taghogho Agarin, MD, Salim Al-Salem, MD, David Albert, MD, Shawn Allen, MD, Margaret Altemus, MD, Jean-Marie Alves-Bradford, MD, Salvatore Ambrosino, MD, Karneya Ancselovits, MD, Ewald Antoine, MD, Jane Asch, MD, Mary Aseniero, MD, Isaac Bampoe, MD, John Barnhill, MD, Miron Baron, MD, Juan Baturone, MD, Antonio Beltramini, MD, Richard Benson, MD, Leon Bernhardt, MD, Thomas Betzler, MD, Krishna Bezwada, MD, Vinod Bhashyam, MD, Upendra Bhatt, MD, Arkady Bilenko, MD, Jeffrey Bouchard-Burns, MD, Perry Branson, MD, Joe-Cephus Brewster, MD, Paul Browde, MD, Roger Brunswick, MD, Sandip Buch, MD, Anne Buchanan, DO, John Burgess, MD, Lynn Burkes, MD, Oanghkarjit Buttar, MD, Robert Cancro, MD, Anthony Carino, MD, Edward Caruso, MD, Charles Celian, MD, Luz Cervantes, MD, Jerry Chang, MD, Christine Chang, MD, Joanna Chapin, MD, France Chaput, MD, Joseph Charles, MD, Richard Charles, DO, Sujatha Charlu, MD, Sheena Chenthitta, MD, Diane Chu, MD, Ingram Cohen, MD, Wendy Cohen, MD, Carl Cohen, MD, Bennett Cohen, MD, Allen Collins, MD, Michael Combs, MD, Hayley Cort, MD, Romana Coste, MD, Royston Cruickshank, MD, Tiffany Cummins, MD, Michael Cunningham, MD, Yelena Davydov, MD, Anand Desai, MD, Jo Desantis, MD, Bertholet Desir, MD, Ruth Deutsch, MD, Lourdes Dominguez, MD, Jennifer Downey, MD, Trecia Doyle, MD, Renata Dudzicz-Slowik, MD, Norma Dunn, MD, Noam Eitan, MD, Espiridio Elio, MD, Ashraf Elshafei, MD, Carrie Ernst, MD, Christian Eyiuche, MD, Jay Falk, MD, Aysar Fathallah Mammo, MD, Barry Feinberg, MD, Simeon Feinberg, MD, Jeffrey Feola, MD, Jay Finkel, MD, Jeffrey Fishberger, MD, Linda Freeman, MD, Lester Friedman, MD, Cathy Friedman, MD, Abby Fyer, MD, Makar Gadalla, MD, Nader Galal, MD, Maria Garcia, MD, Emily Gastelum, MD, Hocametor Gbeasor-Carter, MD, Ruth Geller, MD, Adela Gerolemou, DO, Ruth Gerson, MD, Roberto Gil, MD, Sarah Gleacher, MD, Jeffrey Goldberg, DO, Margaret Goni, MD, Christian Gonzalez, MD, Daniel Goodman, MD, Erica Goorevich, MD, Robert Grayson, MD, Luz Green, MD, Michael Grody, MD, Alyson Gutman, MD, Mandy Habib, PSYD, Tamar Hanfling, MD, Hasina Haroon, MD, Gabriela Hayes, Agdel Hernandez Colon, MD, Richard Hersh, MD, Pochu Ho, MD, Annette Hollander, MD, Shushan Hovanesian, MD, Evelyn Howanitz, MD, Edward Huey, MD, Salim Hussain, MD, Syed Hussain, MD, Syed Ibrahim, MD, Douglas Ingram, MD, Mihai Iordache, MD, Alla Iospa, MD, John Jacobs, MD, Ira Jasser, MD, Sharon Jaynes, MD, Robert Jean-Bart, MD, Michel Joseph, MD, Myriame Joseph, MD, Kenneth Jungblut, MD, Michelle Kanaley, MD, Gabriel Kaplan, MD, Sherry Katz-Bearnot, MD, Iraida Kazachkova, DO, Richard Key, MD, Mansoor Khan, DO, Raihana Khorasanee, MD, Susan Kotlier, MD, Yvonne Kury, MD, Ulla Laakso, MD, Brian Ladds, MD, Tamara Lazenby, MD, Seung Lee, MD, Francis Lee, MDPHD, Elisabeth Lescouflair, MD, Jeffrey Levine, MD, Bruce Levine, MD, Jun Li, MD, Sook Lim, MD, Anita Lim-Shaw, MD, Jason Liu, MD, Feng Liu, MD, Frederick Long, MD, R Lowe, MD, Sean Luo, MD, Shari Lusskin, MD, Tariq Mahmood, MD, Rehan Malik, MD, Genrietta Malkinzon, MD, Luis Marcos, MD, David Marsh, MD, Amy Mednick, MD, Aarti Mehta, MD, Sarjak Mehta, MD, Rachel Michaels, MD, Samantha Miller, MD, Hasan Miraj, MD, Stephanie Barnhart, MD, Jack Dehovitz, MD, Eugene Fulop, MD, Maria Dolgovina, MD, Zuzana Gyure, MD, Monica Bilboul, PhD, Jane Davidson, MD, Joanne Festa, PHD, Allen Lebovits, PhD, Cesar Leon, PhD, Andrew Tucker, PhD, Benjamin Feldshuh, MD, Kessarin Panichpisal, MD, Amy Mednick, MD, Arthur Schore, MD, Malika Seth, MD, Oanghkarjit Buttar, MD, Edward Caruso, MD, Carl Cohen, MD, William Florio, MD, Nyapati Rao, MD, Robert Reich, MD, Franklin Russek, MD, Pui Wong, MD, Elise Feldman, PhD, Joanne Festa, PHD, Elizabeth Grill, PSYD, Alan Hilfer, PhD, Laura Josephs, PhD, Roman Pabis, PhD, Michael Surko, PhD, Eva Altobelli, MD, Oanghkarjit Buttar, MD, Amy Mednick, MD, Bruce Phariss, MD, Stephen Ross, MD, William Rush, MD, Brian Sands, MD, Alisa Turok, MD, Matthew Warren, MD, Carol Weiss, MD, Ramaseshu Anne, MD, Lilliana Aponte-Yap, MD, Mary Aseniero, MD, Daniel Bascara, MD, Miriam Berrios, MD, Celia Blumenthal, MD, Katherine Bradshaw, MD, Roberto Depaula, MD, Ruth Deutsch, MD, Aleksandra Djukic, MD, Mohamed Eldefrawi, MD, Gary Gosselin, MD, Michael Grody, MD, Doreen Han-Faver, MD, Tamar Hanfling, MD, Stephen Herman, MD, David Inwood, MD, Marilena Jennings, MD, Michel Joseph, MD, Htet Linn, MD, Feng Liu, MD, Roy Lubit, MD, Douglas Luce, MD, Pascale Moraille, MD, Rosa Negron-Munoz, MD, Joseph Nieder, MD, Gerardo Posada, MD, Rahim Rahemtulla, MD, Robert Reich, MD, Nancy Rubenstein, MD, Moira Rynn, MD, David Sawyer, MD, Yana Serobyan, DO, Gabrielle Silver, MD, Sarabjit Singh, MD, Claudio Vazquez, MD, Jenny Weis, MD, Monica Bilboul, PhD, Joanne Festa, PHD, Ingrid Gomez, LCSW, Doreen Stewart, PhD, Manuela Zisu, MD, Amany Galal, MD, Anthony La Monaca, MD, Amy Mednick, MD, Monica Bilboul, PhD, Lynn Kennedy, LCSW, Ranjit Mitra, MD, Paul Mozley, MD, Indroneil Mukerji, MD, Adele Munsayac, MD, Michael Myers, MD, Narasimhan Narasimhan, MD, Rosa Negron-Munoz, MD, Ada Nicolescu, MD, Joseph Nieder, MD, Emmanuel Nierva, MD, Carolina Nisenoff, MD, Melissa Nishawala, MD, Joseph Nissenfeld, MD, Andrea Norton, MD, Alfredo Nudman, MD, Henry Nunberg, MD, Kingsley Nwokeji, MD, Mallay Occhiogrosso, MD, Jorge Otero, MD, Sharat Parameswaran, MD, Ramsing Pardeshi, MD, Narendra Patel, MD, Rina Patel, MD, Alkesh Patel, MD, Maura Pedroso, MD, Dusan Pekovic, MD, Arthur Perlman, MD, Bruce Phariss, MD, Paul Podell, MD, Tatianna Polonsky, MD, David Preven, MD, Xenia Protopopescu, MD, Celia Purugganan, MD, Kathleen Quinlan, MD, Edita Raagas, MD, Rahim Rahemtulla, MD, Nyapati Rao, MD, Shama Rasool, MD, Elspeth Reagan, MD, Jithender Reddy, MD, Robert Reich, MD, Arnold Richards, MD, Elise Richman, MD, Victor Rodack, MD, Mercedes Rodriguez-Diaz, MD, Arnold Rosen, MD, Hana Rostain, MD, Nancy Rubenstein, MD, Robert Rubenstein, MD, Jeffrey Rubin, MD, Eric Rueth, MD, William Rush, MD, Franklin Russek, MD, Paul Salkin, MD, Diana Sandberg, MD, Brian Sands, MD, Sreenivasa Sanikam, MD, Ammar Sara, David Sawyer, MD, Robert Scharf, MD, Naalla Schreiber, MD, Jan Schuetz-Mueller, MD, Yana Serobyan, DO, Revathi Shanmugham, MD, Zafar Sharif, MD, Sheela Shenoy, MD, Akhil Shenoy, MD, Amita Shetty, MD, Nissan Shliselberg, MD, Vilor Shpitalnik, MD, Dario Shuster, MD, Lynda Smith-Harris, MD, Jose Soto-Perello, MD, Magdalena Spariosu, MD, Eleonora Stotland, DO, Gordon Strauss, MD, Eve Sullivan, MD, Khandaker Taher, MD, Abraham Taub, DO, Frank Thompson, MD, William Tomlinson, MD, Jean Tropnas, MD, Ruth Tsivkin, MD, Alisa Turok, MD, Shilpa Upadhyay, MD, Pablo Villegas, MD, Serena Volpp, MD, Milton Wainberg, MD, Jing Wang, MD, Carol Weiss, MD, Niesha Westmoreland, MD, Hyacinth Williamson, MD, Philip Wilner, MD, Charles Winkelstein, MD, Elizabeth Wolff, MD, Serena Wong, MD, Pui Wong, MD, Bernard Wyszynski, MD, Philip Yanowitch, MD, Christine Yhap, MD, Patrick Ying, MD, Van Yu, MD, Kang Yu, MD, Deval Zaveri, MBBS,\n",
      "\n",
      "Cluster 3 words: nan, nan, nan, nan, nan, nan,\n",
      "\n",
      "Cluster 3 doctors: Danijela Levacic, MD, Mahsa Mehrazin, MD, Ritesh Ramdhani, MD, David Rosenbaum, MD, Idan Sharon, MD, Urmi Vaidya-Mathur, LCSW, Helen Valsamis, MD, Hansel Arroyo, MD, Sharon Batista, MD, Gayle Goren, MD, Ted Liao, MD, Daniel Mundy, MD, Sachidanand Peteru, MD, Georges Casimir, MD, Malcolm Goring, MD, Joann Kopec, LCSW, Morton Sarlin, MD, Idan Sharon, MD, Annamae Conry, NP, Anthony Surban, NP, Robert Hessler, MD, Gloria Mtomboti, MD, Alexa Ponce, LMSW, Janet Rubinstein, MD, Theodore Strange, MD, Helen Papaioannou, MD, Marwa Ahmed, MD, Jeffrey Cole, MD, Gary Laux, DO, Jonathan Levin, MD, Seung Park, MD, Paul Pipia, MD, Ornela Rehova, MD, Jonathan Simhaee, MD, Robert White, MD, Marthe Abraham, MD, Scott Aftel, MD, Syed Ahmad, MD, Angel Alcantara, MD, Michael Alpert, MD, George Alvarado, MD, Ravindra Amin, MD, Andrew Anson, MD, Ricardo Arango, MD, Hansel Arroyo, MD, Martin Asnis, MD, Clarisa Atencio, MD, Jimmy Avari, MD, Alexander Babayants, MD, Vasantha Badhey, MD, John Barsa, MD, Abraham Bartell, MD, Barbara Bartlik, MD, Soledad Basa, MD, Sharon Batista, MD, Rachel Becker, MD, Jaime Benitez, MD, Alexandra Berger, MD, Michael Bernstein, MD, Tarun Bhandari, MD, Vaibhav Bhatia, MD, Marie Blaise, MD, Judith Blitman, MD, Hillery Bosworth, MD, Yanina Brayman, MD, Richard Brent, MD, David Brody, MD, Glenn Brottman, MD, Miguel Brzostovski, MD, Christopher Bulgarelli, MD, Joanne Caring, MD, Mary Case, MD, Georges Casimir, MD, Andrew Chan, MD, Joseph Charlot, MD, Jimmy Chen, MD, Peter Chu, MD, Andrea Clair, MD, Kenneth Cohen, MD, Ziv Cohen, MD, Stephen Coleman, MD, Lillian Colon, MD, Lara Cox, MSW, Marina Cozort, MD, Victoria Cressman, MD, Nieves Cuervo, MD, Robert Davis, MD, Alain De La Chapelle, MD, Damon Delston, MD, Alice Dibenedetto, MD, Thomas Doyle, MD, Marc Dubin, MD, Dianne Duffey, MD, Emmanuelle Duterte, MD, Martha Edelman, MD, Fredrick Eiseman, MD, Charles Entelis, MD, Suzanne Eschenbach, MD, Ida Escovar, MD, Bebsy Estefan, MD, Olga Evdos, MD, Nancy Flores-Migenes, MD, Zachary Freyberg, MD, Richard Friedman, MD, Margarita Fuzaylova, MD, Albert Galante, MD, Marina Galea, MD, Geeta Ganda, DO, Michael Garrett, MD, Christina Garza, MD, Joseph Georges, MD, Talya Gilaad, MD, Robert Glick, MD, Karinn Glover, MD, Julia Golier, MD, Maria Gomez, MD, Fermin Gonzalez, MD, Harold Goodman, MD, Michael Gray, MD, Yakov Greenstein, MD, Mark Gurtovy, MD, Eugenia Guz, MD, Sally Habib, MD, Fadi Haddad, MD, Robin Hamilton, MD, Thein Han, MD, Lauren Hanson, PSY.D, Braham Harneja, MD, Syed Hasan, MD, Ronald Hellman, MD, James Herivaux, MD, Alison Hermann, MD, Abigail Herron, DO, Amy Hoffman, MD, Joseph Holmgren, MD, Elizabeth Horwitz, MD, Jonathan House, MD, Sheryl Hunter, MD, Martin Hurwitz, MD, Claudia Iordache, MD, Arthur Jacobs, MD, Celeste Jacque, MD, Thulasiram Janardhanan, MD, Delia Jano, MD, Russell Joffe, MD, Makeda Jones, MD, Billy Jones, MD, Carlos Jusino-Berrios, MD, Henry Kalir, MD, Sylvia Karasu, MD, Jane Karp, MD, Amarjit Kaur, MD, Robert Kertzner, MD, Yevgeniy Khaldarov, MD, Sangeet Khanna, MD, Eva Khavkin, MD, Moddy Kiluvia, MD, Mikyum Kim, MD, Carli Klinghoffer, MD, James Kocsis, MD, Harold Koenigsberg, MD, Timothy Kreider, MD, Daniel Kuhn, MD, Michael Laikin, MD, Li Lan, MD, Claude Laniado, MD, Diane Lanier, MD, Gary Lefer, MD, David Leibow, MD, Evan Leibu, MD, John Leikauf, MD, Donna Lewinter, MD, Viviane Lind, MD, Maria Linden, MD, Charles Luther, MD, Jeremy Mack, MD, James Maher, MD, Dmitry Malkin, MD, Katherine Maloy, MD, Yelena Mamedova-Braz, MD, Deborah Marin, MD, Morgana Martinez, MD, David Matalon, MD, Susan Matorin, ACSW, Martin Maurer, MD, Carlyn Md, MD, Gail Meisel, MD, Xavier Miguel, MD, Mate Milak, MD, M Miller, MD, Galina Mindlin, MD, Colin Baigel, MD, Sanjeev Kothare, MD, Stephen Lund, MD, Arthur Spielman, PhD, Steven Passik, PHD LP, Lorenza Freddo, MD, Richard Frances, MD, Idan Sharon, MD, Atsuko Ishikawa, MD, Nicole Naggar, MD, Georges Casimir, MD, Karin Friederwitzer, MD, Walter Furer, MD, Shafiq Khokhar, MD, Scott Schwartz, MD, Mirela Toma, MD, Kirsten Andersen, PhD, Ali Khadivi, PhD, Steven Passik, PHD LP, Anne Skamai, PhD, Evaristo Akerele, MD, Alexander Babayants, MD, Alexandra Berger, MD, Lisa Borg, MD, David Brizer, MD, Paul Casadonte, MD, Richard Frances, MD, Abigail Herron, DO, Carlotta Schuster, MD, Scott Schwartz, MD, Idan Sharon, MD, Douglas Vanderburg, MD, Jose Amat, MD, Paris Arianas, MD, Alexander Babayants, MD, Karen Ballaban-Gil, MD, Abraham Bartell, MD, Tarun Bhandari, MD, Shabnamzehra Bhojani, MD, Salvacion Bonete, MD, Anurita Chatterjee, MD, Nina Freund, MD, Laurie Gordon, MD, Dorothy Grice, MD, Celeste Jacque, MD, Timothy Kreider, MD, John Leikauf, MD, Matthew Lorber, MD, June Mossop, MD, V Phillips, MD, Alan Ravitz, MD, Mitchell Rosenthal, MD, Jose Sanchez Lacay, MD, Idan Sharon, MD, Felix Sterling, MD, Michael Stewart, MD, Alison Sullivan, MD, Ching-Yi Tan, MD, Eric Teitel, MD, Marie Viard, MD, Carmencita Vicencio, MD, William Wood, MD, Margaret Yoon, MD, Urmi Vaidya-Mathur, LCSW, Valentina Nikulina, PhD, Raimonda Goldman, DO, Georges Casimir, MD, Jonathan House, MD, Idan Sharon, MD, Alexa Ponce, LMSW, Anne Skamai, PhD, Khaled Mohamed, MD, Muriel Morris, MD, Kathryn Moss, MD, Daniel Mundy, MD, Tanzia Mustafa, MD, Robert Nadrich, MD, Andrea Nagy Hallett, MD, Kenneth Nakdimen, MD, Dipak Nandi, MD, Richard Nathanson, MD, Thresiamma Nidhiry, MD, Meri Nisimova, MD, Mitchell Nobler, MD, Ilana Nossel, MD, Joao Nunes, MD, Mary Odowd, MD, Soon Oh, MD, Vincent Okabekwa, MD, Uchenwa Okoli, MD, Jelil Onanuga, MD, Carlos Ortiz, MD, John Osei-Tutu, MD, Dora Ostrowski, MD, Sharon Packer, MD, Danielle Parisi, DO, Raman Patel, MD, Pankaj Patel, MD, Milan Patel, MD, Shagufta Paya, MD, Dylan Payne, DO, David Pelino, MD, Juan Penaloza, MD, Julie Penzner, MD, Sachidanand Peteru, MD, Dinko Podrug, MD, Frank Proscia, MD, Shaheen Rahman, MD, Nirmala Rajakumar, MD, Ranjit Rajaratnam, MD, Lucas Ralston, DO, Hector Ramirez, MD, Maya Rao, MD, Charmaine Rapaport, MD, Javaid Rashid, MD, Thulasi Reddy, MD, Frank Reyes, MD, Sidney Rosen, MD, Daniel Rosen, MD, Karen Rosenbaum, MD, John Rosenberger, MD, Steven Rubel, MD, Teresita Ruiz, MD, Gary Rusk, MD, Cynthia Rutherford, DO, Michael Sacks, MD, Amal Saha, MD, Guillermo Santiago, MD, Salvatore Savatta, MD, Debbie Schnapper, MD, Matthew Schneider, MD, Melvyn Schoenfeld, MD, Carlotta Schuster, MD, Scott Schwartz, MD, Nasser Sedaghatpour, MD, Ketki Shah, MD, Margi Shah, MD, Lina Shah, MD, Shabnam Shakibaie Smith, MD, Tuzeen Shakir, MD, Idan Sharon, MD, Jane Simon, MD, Dindial Singh, MD, Elizabeth Sirota, MD, Marina Sisakian, MD, Paul Smith, MD, Claudia Smuglin, MD, Lisa Sombrotto, MD, James Spikes, MD, Beatrice Spinelli, MD, Aaron Stern, MD, Arthur Sternberg, MD, Ann Sullivan, MD, David Szuster, MD, Reza Taghavi Ardakany, MD, Engkock Tan, MD, Ching-Yi Tan, MD, Janet Taylor, MD, Eric Teitel, MD, Shilpa Thayyullathil, MD, Mirela Toma, MD, Eldene Towey, MD, David Trachtenberg, MD, Andrew Trauben, MD, Joseph Triebwasser, MD, Manuel Trujillo, MD, Jada Turco, MD, Anu Upadhyay, MD, Leonel Urcuyo, MD, Douglas Vanderburg, MD, Ramaswamy Viswanathan, MD, Marc Vital-Herne, MD, Le-Ben Wan, MD, Steven Wein, MD, Andrea Weiss, MD, David Weng, MD, Mark Wilson, MD, Arnold Winston, MD, James Wirth, MD, Jianlin Xu, MD, Margaret Yoon, MD, Eric Yu, DO, Dora Zaretsky, MD, Sheldon Zimberg, MD,\n",
      "\n",
      "Cluster 4 words: nan, nan, nan, 's, nan, nan,\n",
      "\n",
      "Cluster 4 doctors: Jagga Alluri, MD, Michael Amoashiy, MD, Yasemin Baldik, MD, Yuri Brosgol, MD, Alan Carver, MD, James Charles, MD, Jonathan Charney, MD, Irving Friedman, MD, Igor Gavrilovic, MD, Jimmie Holland, MD, Leonid Izrayelit, MD, Peter Kim, MD, Andrea Marana, LCSW, Mary Massie, MD PHD, Aaron Miller, MD, Dimitris Placantonakis, MD, Joseph Safdieh, MD, Shaneel Shah, MBBS, Jasjit Singh, DO, Andre Strizhak, MD, Dexter Sun, MD, Derek Tate, MD, Mildred Torres, LCSW, Lyzette Velazquez, MD, Xing Wang, MD, Khakasa Wapenyi, MD, Sarah Auchincloss, MD, Yuri Brosgol, MD, Alan Carver, MD, Jeremy Coplan, MD, Igor Gavrilovic, MD, Jimmie Holland, MD, Sumerta Manchandani, MD, Mary Massie, MD PHD, Aaron Miller, MD, Dimitris Placantonakis, MD, Derek Tate, MD, Lyzette Velazquez, MD, Michael Scimeca, MD, Evande Morrison, LCSW, Oscar Sandoval Castellanos, MD, Nataly Woollett, LMHC, Yasemin Baldik, MD, Yuri Brosgol, MD, Alan Carver, MD, Igor Gavrilovic, MD, Jimmie Holland, MD, Leonid Izrayelit, MD, Mary Massie, MD PHD, Aaron Miller, MD, Dimitris Placantonakis, MD, Shaneel Shah, MBBS, Derek Tate, MD, Lyzette Velazquez, MD, Khakasa Wapenyi, MD, Antoine Adam, MD, Brian Buggie, MD, Lyle Rosnick, MD, Innocent Ugokwe, MD, Aran Degenhardt, MD, Ronald Dematteo, MD, Kevin Oeffinger, MD, Naresh Rao, DO, David Rapoport, MD, Anna Kogan, MD, Paul Magda, DO, Annie Wu, MD, Andrew Adesman, MD, Hugh Bases, MD, Jennifer Cross, MD, Hazel Goodwin, MD, Katherine Grimm, MD, Jack Levine, MD, Joan Gold, MD, Naresh Rao, DO, Jeffrey Rosen, MD, Christoph Sellars, DO, Michael Stubblefield, MD, Karen Hopkins, MD, Kaleb Yohay, MD, Susan Abbott, MD, Antoine Adam, MD, Devon Addonizio, MD, Maha Ahmad, MD, Tanveer Ahmed, MD, Seth Aidinoff, MD, Lada Alexeenko, MD, Gilbert Alicea, MD, Noel Almiron, MD, Gregory Alsip, MD, Jose Alvarez, MD, Jonathan Amiel, MD, Reza Amighi, MD, Renuka Ananthamoorthy, MD, Jose Arvizu Olvera, MD, Kenneth Ashley, MD, Brian Aslami, MD, Evelyn Attia, MD, Elizabeth Auchincloss, MD, Sarah Auchincloss, MD, Marina Auerbach, MD, Vadim Azbel, MD, Joe Baez, MD, Yasemin Baldik, MD, Rittika Banerjee, MD, Raiyasari Bangaru, MD, Faouzia Barouche, MD, Francis Baudry, MD, Daniel Bauman, MD, William Belfar, MD, Louis Belzie, MD, Kenneth Berc, MD, Ira Bergman, MD, Jennifer Bernstein, MD, Philip Bialer, MD, Sorin Bircea, MD, Alexis Bisangwa, MD, Betsy Bittman, MD, Pierre Blanchard, MD, Brett Blatter, MD, Steven Bluestine, MD, Jennifer Blum, MD, Ranu Boppana, MD, David Brda, MD, Joel Breving, MD, Richard Brockman, MD, Nora Brockner, MD, Kelly Brogan, MD, Yuri Brosgol, MD, Andrew Brotman, MD, Richard Brown, MD, Brian Buggie, MD, Benjamin Bukholts, MD, Fadime Burgut, MD, Sari Burns, MD, Ahmar Butt, MD, Charles Cartwright, MD, Alan Carver, MD, Vania Castillo, MD, Enrico Castillo, MD, Lober Cervantes, MD, Brent Chabus, MD, Ritu Chandak, MD, Faisal Chaudhry, MD, Jatinder Chawla, MD, Clarence Chen, MD, Daniel Chrzanowski, MD, Peter Clark, DO, Joseph Clerisme, MD, Mary Cohen, MD, Ruth Cohen, MD, Oksana Cohen, MD, Jessy Colah, MD, Lucy Collins, MD, Virginia Contreras, MD, Siobhan Coomaraswamy, MD, David Cooperman, MD, Joseph Cousin, MD, Ludmila Davidov, MD, Glen Davis, MD, Garrett Deckel, MD, Ione Dejesus, MD, Leonard Deutsch, MD, Vinod Dhar, MD, Phoebus Dhrymes, MD, Aryeh Dienstag, MD, Suzanne Dieter, MD, Eileen Difrancesco, MD, Joseph Dilullo, MD, Zana Dobroshi, MD, Joshua Dorsky, MD, Stephen Dossick, MD, Felix Dron, MD, Martin Drooker, MD, Yuanli Duan, MD, Paula Eagle, MD, Janine Eisman, MD, Jean Guy Elie, MD, Emily Elliott, MD, Iskander Enikeev, MD, Matthew Erlich, MD, Boris Fatakhov, MD, Catharine Fedeli, MD, David Fedoronko, MD, Marina Feygin, MD, Jeffrey Fine, MD, Evgeny Fink, MD, Jennifer Finkel, MD, Jerry Finkel, MD, Elizabeth Fitelson, MD, Reed Flaschen, MD, Trevor Forbes, MD, Herbert Fox, MD, Lauralyn Fredrickson, MD, Jay Friedman, MD, William Frosch, MD, Edward Fruitman, MD, Brian Fuchs, Sudhir Gadh, MD, Elchin Gajiev, DO, Marc Galanter, MD, David Gandler, MD, Nader Ganim, MD, Javier Garcia, MD, Icelini Garcia-Sosa, MD, Luis Garza, MD, Vladimir Gasca, MD, Igor Gavrilovic, MD, Joyce Gerdis Karp, MD, Richard Gersh, MD, Elizabeth Getter, MD, Eric Gewolb, MD, David Ginsberg, MD, Stephen Glassberg, MD, Tatyana Glezerman, MD, Lewis Glickman, MD, Bradford Goff, MD, Eugene Goldberg, MD, Ian Goldberg, MD, James Golomb, MD, Joel Gonchar, MD, Arnaldo Gonzalez-Aviles, MD, Marianne Goodman, MD, Jeanne Goodman, MD, Alan Gordon, MD, Janna Gordon-Elliott, MD, Jack Gorman, MD, Fiona Graham, MD, John Graham, MD, Jane Greenberg, MD, Edmund Griffin, MD, Swapnil Gupta, MD, Jeffrey Guss, MD, Jennifer Halper, MD, Faiq Hameedi, MD, Deborah Hamm, MD, Jin Han, MD, Deena Harris, MD, Ryan Hashem, MD, Francis Hayden, MD, Clemens Heiderhoff, MD, John Heussy, MD, Scott Hirsch, MD, Jack Hirschowitz, MD, Hwa Soo Hoang, MD, Joel Hoffman, MD, Jimmie Holland, MD, Gavi Hollander, DO, Peter Howland, MD, Paul Hriso, MD, William Hunter, MD, Mudassar Iqbal, MD, Galina Isakov, MD, Mona Ismail, MD, Melanie Israelovitch, MD, Amanda Itzkoff, MD, Leonid Izrayelit, MD, Jill Jacobson, MD, Himani Janapana, MD, Joseph Jean-Francois, MD, Sofya Kagan, MD, Glenn Kalash, DO, Elena Kamenkovich, MD, Isabella Kanellopoulou, MD, Marvin Kaplan, MD, Michael Kaplowitz, MD, Gulnaz Karakas, MD, Jules Kerman, MD, Joel Kestenbaum, Anna Kharitonova, DO, Lasha Khetsuriani, MD, Richard Kinyamu, MD, Larry Kirstein, MD, Daniel Knoepflmacher, MD, Jamal Kobeissi, MD, Sander Koyfman, MD, Ewa Kozikowska, MD, Harvey Kranzler, MD, David Kraus, MD, Brunhild Kring, MD, Lev Kucher, MD, Mensud Kurjakovic, MD, Richard Lacy, MD, Samuel Langer, MD, Michael Lapidus, MD, Daniel Leal, MD, Sanyup Lee, MD, Patricia Leebens, MD, Ubaldo Leli, MD, Tomer Levin, MD, Robert Levine, MD, Arkady Levitan, MD, Beata Lewis, MD, Arnold Licht, MD, Jeffrey Lieberman, MD, Jill Linder, MD, John Lines, MD, Matthew Lissak, MD, Adi Loebl, MD, Todd Loftus, MD, Frantz Lubin, MD, Philip Luloff, MD, Joseph Lux, MD, Lyudmila Lvov, MD, James Lynch, MD, Carolina Madiedo, MD, Michael Mahelsky, MD, Alice Maher, MD, George Makari, MD, Richard Malen, MD, Anna Maloratsky, MD, Ali Mamun, MD, Sumerta Manchandani, MD, Alan Manevitz, MD, Robert Marantz, MD, Arturo Marrero Figarell, MD, Maureen Martino, MD, Elisabeth Mashinic, MD, Maurice Masse, MD, Mary Massie, MD PHD, P. Anne McBride, MD, Robert McMullen, MD, Hunter McQuistion, MD, Dr Md, MD, Digangi Md, MD, Laurie Md, MD, Stephen Md, MD, Nathaniel Mendelsohn, Joseph Merlino, MD, Juan Mezzich, MD, Thomas Mick, MD, Daniel Mierlak, MD, Aaron Miller, MD, Tomonori Nakagama, MD, Mira Shin, MD, Ben Umeze, MD, Dmitry Zhukovski, DO, Deana Rinaldi, Maha Ahmad, MD, Praveen Jinnur, MD, David Klapper, MD, Elvin Ruiz, MD, Allison Cohen, PSYD, Iona Ginsburg, MD, Cheryl Paradis, PSYD, Douglas Van Der Heide, MD, Yuri Brosgol, MD, Alan Carver, MD, Martin Drooker, MD, Miguel Figueroa, MD, Igor Gavrilovic, MD, Jimmie Holland, MD, Vladimir Kramskiy, MD, Pavel Kulik, MD, Mary Massie, MD PHD, Hunter McQuistion, MD, Aaron Miller, MD, Dimitris Placantonakis, MD, Derek Tate, MD, Vikas Varma, MD, P. Anne McBride, MD, Lyzette Velazquez, MD, Laura Whitman, MD, Johanna Fifi, MD, Andrew Goodman, MD, Koto Ishida, MD, Artin Minaeian, MD, Sumiti Nayar, MD, Peter Sunenshine, MD, Aaron Tansy, MD, Jose Torres, MD, Yasemin Baldik, MD, Yuri Brosgol, MD, Alan Carver, MD, Igor Gavrilovic, MD, Jimmie Holland, MD, Leonid Izrayelit, MD, Mary Massie, MD PHD, Aaron Miller, MD, Dimitris Placantonakis, MD, Shaneel Shah, MBBS, Derek Tate, MD, Lyzette Velazquez, MD, Khakasa Wapenyi, MD, Brian Buggie, MD, Jeanette Cueva, MD, Kalu Agwu, MD, Sorin Bircea, MD, Alexis Bisangwa, MD, Vania Castillo, MD, Joseph Dilullo, MD, Martin Drooker, MD, Roberto Estrada, MD, Elisabeth Frischauf, MD, Arnaldo Gonzalez-Aviles, MD, Ceri Hadda, MD, Arkady Levitan, MD, Graziella Portalatin, MD, Ashok Rajput, MD, Jonathan Rosenfeld, MD, David Woo, MD, Max Bulmash, MD, Allison Cohen, PSYD, Judith Cukor, PHD, Josephine Loiacono-Donovan, PSYD, Denise Miles, PSY.D, Jennifer Musico, PSYD, Dr Phd, PhD, Moses Preiser, PHD, Inga Reznik, PhD, Daljit Sawhney, PhD, Yasemin Baldik, MD, Ann Beeder, MD, Jeffrey Berman, MD, Yuri Brosgol, MD, Brian Buggie, MD, Gabriela Centurion, MD, Phoebus Dhrymes, MD, Martin Drooker, MD, Marc Galanter, MD, Arnaldo Gonzalez-Aviles, MD, Francis Hayden, MD, Jimmie Holland, MD, Leonid Izrayelit, MD, Herbert Kleber, MD, Daniel Leal, MD, Mary Massie, MD PHD, Henry McCurtis, MD, Suprit Parida, MBBS, Elvin Parson, MD, Edward Paul, MD, Dimitris Placantonakis, MD, Ljiljana Radulovic, MD, Kenneth Rosenberg, MD, Richard Rosenthal, MD, Shaneel Shah, MBBS, Derek Tate, MD, Jennifer Velander, MD, Khakasa Wapenyi, MD, Robert Wolski, MD, Federico Zuniga, MD, Susan Abbott, MD, Antoine Adam, MD, Maha Ahmad, MD, Tanveer Ahmed, MD, Alan Aron, MD, Yasemin Baldik, MD, Cynthia Barnes, MD, Miriam Bensimhon, MD, Ranu Boppana, MD, Yuri Brosgol, MD, Alexandra Canetti, MD, Sarah Caraisco, MD, Charles Cartwright, MD, Alan Carver, MD, Jatinder Chawla, MD, Eldon Dummit, MD, Roseann Fana-Perez, MD, Reed Flaschen, MD, Igor Gavrilovic, MD, Kareem Ghalib, MD, Judith Gold, MD, Francis Hayden, MD, Margaret Hertzig, MD, Michelle Hirsch, MD, Jimmie Holland, MD, Barry Holzer, MD, Mona Ismail, MD, Julia Kearney, MD, Clarice Kestenbaum, MD, Alexander Kolevzon, MD, Vlad Kononchuk, MD, Lauren Kotcher, MD, Harvey Kranzler, MD, Richard Lacy, MD, Kevin Lam, MD, Patricia Leebens, MD, Christopher Lucas, MD, Eleni Maloutas, MD, Elisabeth Mashinic, MD, Mary Massie, MD PHD, Dr Md, MD, Aaron Miller, MD, Donna Moreau, MD, Shawna Newman, MD, George Nodarse, MD, Adriana Notarfrancesco, MD, Cynthia Pfeffer, MD, Dimitris Placantonakis, MD, Madhu Rajanna, MD, Amit Razdan, MD, Rebecca Rendleman, MD, Frank Santos, MD, Bruce Schweiger, MD, Javier Senosiain, MD, Gabrielle Shapiro, MD, Jess Shatkin, MD, Mary Sickles, MD, Alice Siegel, MD, Christopher Stone, MD, Dawn Sung, MD, Derek Tate, MD, Sandra Turner, MD, Peter Walsh, MD, Laura Whitman, MD, William Winter, MD, Brian Buggie, MD, Don Kerson, MD, Andrea Marana, LCSW, Mildred Torres, LCSW, Max Bulmash, MD, Yaser El Gazzar, MD, Michael Hannon, MD, Steven Lee, MD, Robert Meislin, MD, Michael Nett, MD, Stephen Nicholas, MD, Rajan Patel, MD, Naresh Rao, DO, Jeffrey Rosen, MD, Christoph Sellars, DO, Christopher Torres, PA, James Ward, MD, Yasemin Baldik, MD, Sorin Bircea, MD, Yuri Brosgol, MD, Alan Carver, MD, Martin Drooker, MD, Igor Gavrilovic, MD, Jimmie Holland, MD, Leonid Izrayelit, MD, Mary Massie, MD PHD, Dr Md, MD, Aaron Miller, MD, Bahram Panbehi, MD, Dimitris Placantonakis, MD, Shaneel Shah, MBBS, Derek Tate, MD, Felix Torres, MD, Lyzette Velazquez, MD, Khakasa Wapenyi, MD, Serge Mitelman, MD, Lynn Montz, MD, Wendy Moyal, MD, Helen Muhlbauer, MD, Charles Murkofsky, MD, Tummala Naidu, MD, Saleem Nasir, MD, Irina Nekrasova, MD, Steven Newman, MD, Shawna Newman, MD, Mitchell Newmark, MD, Mikhail Nickita, MD, Marvin Nienaltow, MD, Chloe Nims, MD, James Nininger, MD, George Nodarse, MD, Edward Nunes, MD, Kelechi Ogbuji, Melissa Ozga, DO, Marco Pappagallo, MD, Suprit Parida, MBBS, Elvin Parson, MD, Lisa Patrick, MD, Edward Paul, MD, Beverly Pazur, MD, Richard Pearlman, MD, Gregory Pelton, MD, Dimitris Placantonakis, MD, David Port, MD, Cristina Profumo, MD, Joan Prudic, MD, Romeo Purugganan, MD, Jorge Quintana, MD, Wilfrid Raby, MD, Sasha Rai, MD, Christopher Ramsey, MD, Myra Recon-Bucevic, MD, Satish Reddy, MD, Aaron Reliford, MD, Richard Resnick, MD, James Reyes, MD, Timothy Rice, MD, Silvana Riggio, MD, Luis Ripoll, MD, Edwin Robbins, MD, Jan Roda, MD, Jonathan Rosenfeld, MD, Jesse Rosenthal, MD, Lyle Rosnick, MD, Andrew Roth, MD, Vsevolod Rudoy, MD, Elvin Ruiz, MD, Sherif Sami, MD, Daniel Sanchez, MD, Frank Santos, MD, Alessandra Scalmati, MD, Eleanor Schuker, MD, Michael Schwartz, MD, Michael Scimeca, MD, Stuart Seidman, MD, Javier Senosiain, MD, Shaneel Shah, MBBS, Amee Shah, MD, Edward Shalts, MD, Theodore Shapiro, MD, Alla Shapiro, MD, Peter Shapiro, MD, Elena Shteynfeld, MD, Mary Sickles, MD, Anila Siddiqi, MD, Rebecca Siegel, MD, Asher Simon, MD, Loren Skeist, MD, Andrew Slaby, MD, Jonathan Slater, MD, Jon Slaughter, MD, Matthew Smith, MD, Rebecca Smith, MD, Stephen Snyder, MD, Wilfredo Soberano, MD, Emily Steinberg, MD, Hyram Stephens, MD, Christopher Stone, MD, James Strain, MD, David Strauss, MD, Anand Sukumaran, Gregorio Sungcad, MD, Irina Surbnshanyan, MD, Farokh Tarapore, MD, Kenneth Tardiff, MD, Derek Tate, MD, Noel Taylor, MD, Michael Teitelman, MD, Carlos Tejera, MD, Vatsal Thakkar, MD, Felix Torres, MD, Maureen Turey, MD, Adam Turner, MD, Leonardo Vando, MD, Susan Vaughan, MD, Jennifer Velander, MD, Alan Wachtel, MD, Steven Wager, MD, Peter Walsh, MD, Wei Wang, MD, Khakasa Wapenyi, MD, Gary Weinstein, MD, William Weiss, MD, Harvey White, MD, Laura Whitman, MD, Ronald Winchel, MD, Richard Winters, MD, Robert Wolski, MD, Josephine Wright, MD, Andrew Yood, MD, Inna Yuryev-Golger, MD, Michael Zajfert, MD, Violeta Zamora, MD, Matthew Zimmerman, MD, Jane Zirin, MD, Mustafa Ziyalan, MD, Jessica Zonana, MD, Federico Zuniga, MD,\n",
      "\n",
      "\n",
      "\n"
     ]
    }
   ],
   "source": [
    "print \"Top terms per cluster:\"\n",
    "print\n",
    "#sort cluster centers by proximity to centroid\n",
    "order_centroids = km.cluster_centers_.argsort()[:, ::-1] \n",
    "\n",
    "for i in range(num_clusters):\n",
    "    print \"Cluster %d words:\" % i, end=''\n",
    "    \n",
    "    for ind in order_centroids[i, :6]: #replace 6 with n words per cluster\n",
    "        print ' %s' % vocab_frame.ix[terms[ind].split(' ')].values.tolist()[0][0], end=','\n",
    "    print #add whitespace\n",
    "    print #add whitespace\n",
    "    \n",
    "    print\"Cluster %d doctors:\" % i, end=''\n",
    "    for title in docsdf.ix[i]['name'].values.tolist():\n",
    "        print(' %s,' % title, end=''\n",
    "    print() #add whitespace\n",
    "    print() #add whitespace\n",
    "    \n",
    "print()\n",
    "print()"
   ]
  },
  {
   "cell_type": "code",
   "execution_count": 60,
   "metadata": {
    "collapsed": false
   },
   "outputs": [
    {
     "data": {
      "text/html": [
       "<div>\n",
       "<table border=\"1\" class=\"dataframe\">\n",
       "  <thead>\n",
       "    <tr style=\"text-align: right;\">\n",
       "      <th></th>\n",
       "      <th>name</th>\n",
       "      <th>flesch_kincaid</th>\n",
       "      <th>cluster</th>\n",
       "    </tr>\n",
       "  </thead>\n",
       "  <tbody>\n",
       "    <tr>\n",
       "      <th>4</th>\n",
       "      <td>Jagga Alluri, MD</td>\n",
       "      <td>17.622441</td>\n",
       "      <td>4</td>\n",
       "    </tr>\n",
       "    <tr>\n",
       "      <th>4</th>\n",
       "      <td>Michael Amoashiy, MD</td>\n",
       "      <td>13.747045</td>\n",
       "      <td>4</td>\n",
       "    </tr>\n",
       "    <tr>\n",
       "      <th>0</th>\n",
       "      <td>Brian Anziska, MD</td>\n",
       "      <td>22.949994</td>\n",
       "      <td>0</td>\n",
       "    </tr>\n",
       "    <tr>\n",
       "      <th>4</th>\n",
       "      <td>Yasemin Baldik, MD</td>\n",
       "      <td>NaN</td>\n",
       "      <td>4</td>\n",
       "    </tr>\n",
       "    <tr>\n",
       "      <th>0</th>\n",
       "      <td>Ramani Balu, MD</td>\n",
       "      <td>24.276038</td>\n",
       "      <td>0</td>\n",
       "    </tr>\n",
       "  </tbody>\n",
       "</table>\n",
       "</div>"
      ],
      "text/plain": [
       "                   name  flesch_kincaid  cluster\n",
       "4      Jagga Alluri, MD       17.622441        4\n",
       "4  Michael Amoashiy, MD       13.747045        4\n",
       "0     Brian Anziska, MD       22.949994        0\n",
       "4    Yasemin Baldik, MD             NaN        4\n",
       "0       Ramani Balu, MD       24.276038        0"
      ]
     },
     "execution_count": 60,
     "metadata": {},
     "output_type": "execute_result"
    }
   ],
   "source": [
    "docsdf.head()"
   ]
  },
  {
   "cell_type": "code",
   "execution_count": 64,
   "metadata": {
    "collapsed": false
   },
   "outputs": [
    {
     "data": {
      "text/plain": [
       "2"
      ]
     },
     "execution_count": 64,
     "metadata": {},
     "output_type": "execute_result"
    }
   ],
   "source": [
    "docnames.index('Brian Anziska, MD')"
   ]
  },
  {
   "cell_type": "code",
   "execution_count": 65,
   "metadata": {
    "collapsed": false
   },
   "outputs": [
    {
     "data": {
      "text/plain": [
       "u'Dr. Brian Anziska, MD--specialist in child & adolescent psychiatry, clinical neurophysiology, neurology, chiropractic neurology, neurology physical therapy, psychiatry, psychiatry & neurology behavioral neurology & neuropsychiatry, psychiatry & neurology diagnostic neuroimaging, psychiatry & neurology forensic psychiatry, psychiatry & neurology hospice and palliative medicine, psychiatry & neurology psychosomatic medicine, and psychiatry & neurology pain medicine--currently practices medicine at Brooklyn, New York, New york, New York, and New rochelle, New York.  Dr. Anziska is licensed to treat patients in New York.  Dr. Anziska has been found during an automated background check to be clear of any malpractice history and holds one or more active medical licenses.'"
      ]
     },
     "execution_count": 65,
     "metadata": {},
     "output_type": "execute_result"
    }
   ],
   "source": [
    "docbios[2]"
   ]
  },
  {
   "cell_type": "code",
   "execution_count": 66,
   "metadata": {
    "collapsed": false
   },
   "outputs": [
    {
     "data": {
      "text/plain": [
       "u'Brian Anziska, MD'"
      ]
     },
     "execution_count": 66,
     "metadata": {},
     "output_type": "execute_result"
    }
   ],
   "source": [
    "docnames[2]"
   ]
  },
  {
   "cell_type": "code",
   "execution_count": 70,
   "metadata": {
    "collapsed": false
   },
   "outputs": [],
   "source": [
    "count = 0\n",
    "for bio in docbios:"
   ]
  },
  {
   "cell_type": "code",
   "execution_count": 73,
   "metadata": {
    "collapsed": false
   },
   "outputs": [
    {
     "data": {
      "text/plain": [
       "u''"
      ]
     },
     "execution_count": 73,
     "metadata": {},
     "output_type": "execute_result"
    }
   ],
   "source": [
    "docbios[3]"
   ]
  },
  {
   "cell_type": "code",
   "execution_count": 78,
   "metadata": {
    "collapsed": false
   },
   "outputs": [
    {
     "name": "stdout",
     "output_type": "stream",
     "text": [
      "186\n"
     ]
    }
   ],
   "source": [
    "count = 0\n",
    "for bio in docbios:\n",
    "    if bio == '':\n",
    "        count += 1\n",
    "print(count)"
   ]
  },
  {
   "cell_type": "code",
   "execution_count": 80,
   "metadata": {
    "collapsed": false
   },
   "outputs": [
    {
     "name": "stdout",
     "output_type": "stream",
     "text": [
      "2691\n"
     ]
    }
   ],
   "source": [
    "print (len(docbios))"
   ]
  },
  {
   "cell_type": "code",
   "execution_count": null,
   "metadata": {
    "collapsed": true
   },
   "outputs": [],
   "source": []
  }
 ],
 "metadata": {
  "kernelspec": {
   "display_name": "Python 2",
   "language": "python",
   "name": "python2"
  },
  "language_info": {
   "codemirror_mode": {
    "name": "ipython",
    "version": 2
   },
   "file_extension": ".py",
   "mimetype": "text/x-python",
   "name": "python",
   "nbconvert_exporter": "python",
   "pygments_lexer": "ipython2",
   "version": "2.7.10"
  }
 },
 "nbformat": 4,
 "nbformat_minor": 0
}
